{
 "cells": [
  {
   "cell_type": "markdown",
   "source": [
    "# Ex2 - Raz Bareli"
   ],
   "metadata": {
    "collapsed": false,
    "pycharm": {
     "name": "#%% md\n"
    }
   },
   "execution_count": 1
  },
  {
   "cell_type": "code",
   "execution_count": 1,
   "outputs": [],
   "source": [
    "import pandas as pd\n",
    "import numpy as np\n",
    "from sklearn.model_selection import train_test_split\n",
    "from sklearn.ensemble import RandomForestRegressor\n",
    "from sklearn.ensemble import RandomForestClassifier\n"
   ],
   "metadata": {
    "collapsed": false,
    "pycharm": {
     "name": "#%%\n"
    }
   }
  },
  {
   "cell_type": "markdown",
   "source": [
    "### 1.a)\n",
    "As we've seen in class, we can try and fit a simple model to the data that we do have, and then predict the null values.\n",
    "In order to choose a model, we can split the data to train and test (the data without the null values). Then we can train, say, 3 different models on the train set, and see which one performed best on the test set.\n",
    "For this question I will choose the Random Forest Classifier / Regressor, accordingly, since they are very good models, and at the same time simple enough."
   ],
   "metadata": {
    "collapsed": false,
    "pycharm": {
     "name": "#%% md\n"
    }
   }
  },
  {
   "cell_type": "code",
   "execution_count": 2,
   "outputs": [
    {
     "data": {
      "text/plain": "Unnamed: 0                      0\nincident_id                     0\ndate                            0\nstate                           0\ncity_or_county                  0\naddress                      2044\nn_killed                        0\nn_injured                       0\ncongressional_district       1494\ngun_stolen                  12430\ngun_type                    12423\nincident_characteristics       42\nlatitude                     1018\nlocation_description        24799\nlongitude                    1018\nn_guns_involved             12423\nnotes                       10211\nparticipant_age             11658\nparticipant_age_group        5419\nparticipant_gender           4659\nparticipant_name            15327\nparticipant_relationship    28033\nparticipant_status           3530\nparticipant_type             3160\nstate_house_district         4826\nstate_senate_district        3997\ndtype: int64"
     },
     "execution_count": 2,
     "metadata": {},
     "output_type": "execute_result"
    }
   ],
   "source": [
    "df = pd.read_csv(\"ex2.csv\")\n",
    "df.isna().sum()"
   ],
   "metadata": {
    "collapsed": false,
    "pycharm": {
     "name": "#%%\n"
    }
   }
  },
  {
   "cell_type": "markdown",
   "source": [
    "For the categorical feature, I'll choose participant_gender. For the prediction, I'll use the state' n_killed and n_injured features, since they sound the most relevant. For example, I don't think there is a connection between gender and date, so adding this feature to the prediction can harm it.\n",
    "\n",
    "Before that, we'll process the gender to 3 categories:\n",
    "Male, Female, Both:"
   ],
   "metadata": {
    "collapsed": false,
    "pycharm": {
     "name": "#%% md\n"
    }
   }
  },
  {
   "cell_type": "code",
   "execution_count": 3,
   "outputs": [
    {
     "name": "stderr",
     "output_type": "stream",
     "text": [
      "C:\\Users\\97250\\anaconda3\\lib\\site-packages\\pandas\\core\\indexing.py:1817: SettingWithCopyWarning: \n",
      "A value is trying to be set on a copy of a slice from a DataFrame.\n",
      "Try using .loc[row_indexer,col_indexer] = value instead\n",
      "\n",
      "See the caveats in the documentation: https://pandas.pydata.org/pandas-docs/stable/user_guide/indexing.html#returning-a-view-versus-a-copy\n",
      "  self._setitem_single_column(loc, value, pi)\n"
     ]
    },
    {
     "data": {
      "text/plain": "array(['Male', 'Both', 'Male', ..., 'Male', 'Male', 'Male'], dtype=object)"
     },
     "execution_count": 3,
     "metadata": {},
     "output_type": "execute_result"
    }
   ],
   "source": [
    "gender_no_null = df[~df['participant_gender'].isnull()]\n",
    "\n",
    "gender_no_null.loc[gender_no_null['participant_gender'].str.contains('Female', regex=True) &                         gender_no_null['participant_gender'].str.contains('Male', regex=True), ['participant_gender']] = \"Both\"\n",
    "gender_no_null.loc[gender_no_null['participant_gender'].str.contains('Female', regex=True), ['participant_gender']] = \"Female\"\n",
    "gender_no_null.loc[gender_no_null['participant_gender'].str.contains('Male', regex=True), ['participant_gender']] = \"Male\"\n",
    "\n",
    "\n",
    "gender_no_null['participant_gender'].values"
   ],
   "metadata": {
    "collapsed": false,
    "pycharm": {
     "name": "#%%\n"
    }
   }
  },
  {
   "cell_type": "markdown",
   "source": [
    "Now will choose the features to be part of the model, and prepare them to the training."
   ],
   "metadata": {
    "collapsed": false,
    "pycharm": {
     "name": "#%% md\n"
    }
   }
  },
  {
   "cell_type": "code",
   "execution_count": 4,
   "outputs": [],
   "source": [
    "gender_null = df[df['participant_gender'].isnull()]\n",
    "gender_null = gender_null[['state', 'n_killed', 'n_injured', 'participant_gender']]\n",
    "gender_null = pd.get_dummies(gender_null, columns=['state'])\n",
    "\n",
    "gender_no_null = gender_no_null[['state', 'n_killed', 'n_injured', 'participant_gender']]\n",
    "gender_no_null = pd.get_dummies(gender_no_null, columns=['state'])\n",
    "\n",
    "X = gender_no_null.drop(columns=['participant_gender'])\n",
    "y = gender_no_null['participant_gender']"
   ],
   "metadata": {
    "collapsed": false,
    "pycharm": {
     "name": "#%%\n"
    }
   }
  },
  {
   "cell_type": "code",
   "execution_count": 5,
   "outputs": [],
   "source": [
    "X_train, X_test, y_train, y_test = train_test_split(X, y, test_size=0.33)"
   ],
   "metadata": {
    "collapsed": false,
    "pycharm": {
     "name": "#%%\n"
    }
   }
  },
  {
   "cell_type": "code",
   "execution_count": 6,
   "outputs": [
    {
     "data": {
      "text/plain": "0.8178883175893819"
     },
     "execution_count": 6,
     "metadata": {},
     "output_type": "execute_result"
    }
   ],
   "source": [
    "rfc = RandomForestClassifier(100,max_depth=20)\n",
    "rfc.fit(X_train, y_train)\n",
    "rfc.score(X_test,y_test)"
   ],
   "metadata": {
    "collapsed": false,
    "pycharm": {
     "name": "#%%\n"
    }
   }
  },
  {
   "cell_type": "markdown",
   "source": [
    "And now for the prediction:"
   ],
   "metadata": {
    "collapsed": false,
    "pycharm": {
     "name": "#%% md\n"
    }
   }
  },
  {
   "cell_type": "code",
   "execution_count": 7,
   "outputs": [
    {
     "data": {
      "text/plain": "0        Male\n2        Male\n5        Male\n7        Male\n18       Male\n         ... \n29970    Male\n29975    Male\n29984    Male\n29987    Male\n29997    Male\nName: participant_gender, Length: 4659, dtype: object"
     },
     "execution_count": 7,
     "metadata": {},
     "output_type": "execute_result"
    }
   ],
   "source": [
    "gender_null['participant_gender'] = rfc.predict(gender_null.drop(columns=[\"participant_gender\"]))\n",
    "gender_null['participant_gender']"
   ],
   "metadata": {
    "collapsed": false,
    "pycharm": {
     "name": "#%%\n"
    }
   }
  },
  {
   "cell_type": "markdown",
   "source": [
    "For the continuous variable we'll choose longitude, and we'll use the regression random forest\n",
    "This time we will use different set of features for the prediction: state and city_or_county.\n",
    "It's very likely to predict longitude based on the city, at least with minor errors."
   ],
   "metadata": {
    "collapsed": false,
    "pycharm": {
     "name": "#%% md\n"
    }
   }
  },
  {
   "cell_type": "code",
   "execution_count": 8,
   "outputs": [],
   "source": [
    "df = pd.read_csv(\"ex2.csv\")\n",
    "\n",
    "df_longitude = df[['state', 'city_or_county', 'longitude']]\n",
    "df_longitude = pd.get_dummies(df_longitude, columns=['state', 'city_or_county'])\n",
    "\n",
    "null_longitude = df_longitude[df_longitude['longitude'].isnull()]\n",
    "no_null_longitude = df_longitude[~df_longitude['longitude'].isnull()]"
   ],
   "metadata": {
    "collapsed": false,
    "pycharm": {
     "name": "#%%\n"
    }
   }
  },
  {
   "cell_type": "code",
   "execution_count": 9,
   "outputs": [
    {
     "data": {
      "text/plain": "       state_Alabama  state_Alaska  state_Arizona  state_Arkansas  \\\n0                  0             0              0               0   \n1                  0             0              0               0   \n2                  0             0              0               0   \n3                  0             0              0               0   \n4                  0             0              0               0   \n...              ...           ...            ...             ...   \n29995              0             0              0               0   \n29996              0             0              0               0   \n29997              0             0              0               0   \n29998              0             0              0               0   \n29999              0             0              0               0   \n\n       state_California  state_Colorado  state_Connecticut  state_Delaware  \\\n0                     1               0                  0               0   \n1                     0               0                  0               0   \n2                     0               0                  0               0   \n3                     0               0                  0               0   \n4                     0               0                  0               0   \n...                 ...             ...                ...             ...   \n29995                 0               0                  0               0   \n29996                 0               0                  0               0   \n29997                 0               0                  0               0   \n29998                 0               0                  0               0   \n29999                 0               0                  0               0   \n\n       state_District of Columbia  state_Florida  ...  city_or_county_Yukon  \\\n0                               0              0  ...                     0   \n1                               0              0  ...                     0   \n2                               0              0  ...                     0   \n3                               0              0  ...                     0   \n4                               0              0  ...                     0   \n...                           ...            ...  ...                   ...   \n29995                           0              0  ...                     0   \n29996                           0              0  ...                     0   \n29997                           0              0  ...                     0   \n29998                           0              0  ...                     0   \n29999                           0              0  ...                     0   \n\n       city_or_county_Yulee  city_or_county_Yuma  city_or_county_Zanesville  \\\n0                         0                    0                          0   \n1                         0                    0                          0   \n2                         0                    0                          0   \n3                         0                    0                          0   \n4                         0                    0                          0   \n...                     ...                  ...                        ...   \n29995                     0                    0                          0   \n29996                     0                    0                          0   \n29997                     0                    0                          0   \n29998                     0                    0                          0   \n29999                     0                    0                          0   \n\n       city_or_county_Zebulon  city_or_county_Zephyrhills  \\\n0                           0                           0   \n1                           0                           0   \n2                           0                           0   \n3                           0                           0   \n4                           0                           0   \n...                       ...                         ...   \n29995                       0                           0   \n29996                       0                           0   \n29997                       0                           0   \n29998                       0                           0   \n29999                       0                           0   \n\n       city_or_county_Zillah  city_or_county_Zion  city_or_county_Zionsville  \\\n0                          0                    0                          0   \n1                          0                    0                          0   \n2                          0                    0                          0   \n3                          0                    0                          0   \n4                          0                    0                          0   \n...                      ...                  ...                        ...   \n29995                      0                    0                          0   \n29996                      0                    0                          0   \n29997                      0                    0                          0   \n29998                      0                    0                          0   \n29999                      0                    0                          0   \n\n       city_or_county_Zwolle  \n0                          0  \n1                          0  \n2                          0  \n3                          0  \n4                          0  \n...                      ...  \n29995                      0  \n29996                      0  \n29997                      0  \n29998                      0  \n29999                      0  \n\n[28982 rows x 4834 columns]",
      "text/html": "<div>\n<style scoped>\n    .dataframe tbody tr th:only-of-type {\n        vertical-align: middle;\n    }\n\n    .dataframe tbody tr th {\n        vertical-align: top;\n    }\n\n    .dataframe thead th {\n        text-align: right;\n    }\n</style>\n<table border=\"1\" class=\"dataframe\">\n  <thead>\n    <tr style=\"text-align: right;\">\n      <th></th>\n      <th>state_Alabama</th>\n      <th>state_Alaska</th>\n      <th>state_Arizona</th>\n      <th>state_Arkansas</th>\n      <th>state_California</th>\n      <th>state_Colorado</th>\n      <th>state_Connecticut</th>\n      <th>state_Delaware</th>\n      <th>state_District of Columbia</th>\n      <th>state_Florida</th>\n      <th>...</th>\n      <th>city_or_county_Yukon</th>\n      <th>city_or_county_Yulee</th>\n      <th>city_or_county_Yuma</th>\n      <th>city_or_county_Zanesville</th>\n      <th>city_or_county_Zebulon</th>\n      <th>city_or_county_Zephyrhills</th>\n      <th>city_or_county_Zillah</th>\n      <th>city_or_county_Zion</th>\n      <th>city_or_county_Zionsville</th>\n      <th>city_or_county_Zwolle</th>\n    </tr>\n  </thead>\n  <tbody>\n    <tr>\n      <th>0</th>\n      <td>0</td>\n      <td>0</td>\n      <td>0</td>\n      <td>0</td>\n      <td>1</td>\n      <td>0</td>\n      <td>0</td>\n      <td>0</td>\n      <td>0</td>\n      <td>0</td>\n      <td>...</td>\n      <td>0</td>\n      <td>0</td>\n      <td>0</td>\n      <td>0</td>\n      <td>0</td>\n      <td>0</td>\n      <td>0</td>\n      <td>0</td>\n      <td>0</td>\n      <td>0</td>\n    </tr>\n    <tr>\n      <th>1</th>\n      <td>0</td>\n      <td>0</td>\n      <td>0</td>\n      <td>0</td>\n      <td>0</td>\n      <td>0</td>\n      <td>0</td>\n      <td>0</td>\n      <td>0</td>\n      <td>0</td>\n      <td>...</td>\n      <td>0</td>\n      <td>0</td>\n      <td>0</td>\n      <td>0</td>\n      <td>0</td>\n      <td>0</td>\n      <td>0</td>\n      <td>0</td>\n      <td>0</td>\n      <td>0</td>\n    </tr>\n    <tr>\n      <th>2</th>\n      <td>0</td>\n      <td>0</td>\n      <td>0</td>\n      <td>0</td>\n      <td>0</td>\n      <td>0</td>\n      <td>0</td>\n      <td>0</td>\n      <td>0</td>\n      <td>0</td>\n      <td>...</td>\n      <td>0</td>\n      <td>0</td>\n      <td>0</td>\n      <td>0</td>\n      <td>0</td>\n      <td>0</td>\n      <td>0</td>\n      <td>0</td>\n      <td>0</td>\n      <td>0</td>\n    </tr>\n    <tr>\n      <th>3</th>\n      <td>0</td>\n      <td>0</td>\n      <td>0</td>\n      <td>0</td>\n      <td>0</td>\n      <td>0</td>\n      <td>0</td>\n      <td>0</td>\n      <td>0</td>\n      <td>0</td>\n      <td>...</td>\n      <td>0</td>\n      <td>0</td>\n      <td>0</td>\n      <td>0</td>\n      <td>0</td>\n      <td>0</td>\n      <td>0</td>\n      <td>0</td>\n      <td>0</td>\n      <td>0</td>\n    </tr>\n    <tr>\n      <th>4</th>\n      <td>0</td>\n      <td>0</td>\n      <td>0</td>\n      <td>0</td>\n      <td>0</td>\n      <td>0</td>\n      <td>0</td>\n      <td>0</td>\n      <td>0</td>\n      <td>0</td>\n      <td>...</td>\n      <td>0</td>\n      <td>0</td>\n      <td>0</td>\n      <td>0</td>\n      <td>0</td>\n      <td>0</td>\n      <td>0</td>\n      <td>0</td>\n      <td>0</td>\n      <td>0</td>\n    </tr>\n    <tr>\n      <th>...</th>\n      <td>...</td>\n      <td>...</td>\n      <td>...</td>\n      <td>...</td>\n      <td>...</td>\n      <td>...</td>\n      <td>...</td>\n      <td>...</td>\n      <td>...</td>\n      <td>...</td>\n      <td>...</td>\n      <td>...</td>\n      <td>...</td>\n      <td>...</td>\n      <td>...</td>\n      <td>...</td>\n      <td>...</td>\n      <td>...</td>\n      <td>...</td>\n      <td>...</td>\n      <td>...</td>\n    </tr>\n    <tr>\n      <th>29995</th>\n      <td>0</td>\n      <td>0</td>\n      <td>0</td>\n      <td>0</td>\n      <td>0</td>\n      <td>0</td>\n      <td>0</td>\n      <td>0</td>\n      <td>0</td>\n      <td>0</td>\n      <td>...</td>\n      <td>0</td>\n      <td>0</td>\n      <td>0</td>\n      <td>0</td>\n      <td>0</td>\n      <td>0</td>\n      <td>0</td>\n      <td>0</td>\n      <td>0</td>\n      <td>0</td>\n    </tr>\n    <tr>\n      <th>29996</th>\n      <td>0</td>\n      <td>0</td>\n      <td>0</td>\n      <td>0</td>\n      <td>0</td>\n      <td>0</td>\n      <td>0</td>\n      <td>0</td>\n      <td>0</td>\n      <td>0</td>\n      <td>...</td>\n      <td>0</td>\n      <td>0</td>\n      <td>0</td>\n      <td>0</td>\n      <td>0</td>\n      <td>0</td>\n      <td>0</td>\n      <td>0</td>\n      <td>0</td>\n      <td>0</td>\n    </tr>\n    <tr>\n      <th>29997</th>\n      <td>0</td>\n      <td>0</td>\n      <td>0</td>\n      <td>0</td>\n      <td>0</td>\n      <td>0</td>\n      <td>0</td>\n      <td>0</td>\n      <td>0</td>\n      <td>0</td>\n      <td>...</td>\n      <td>0</td>\n      <td>0</td>\n      <td>0</td>\n      <td>0</td>\n      <td>0</td>\n      <td>0</td>\n      <td>0</td>\n      <td>0</td>\n      <td>0</td>\n      <td>0</td>\n    </tr>\n    <tr>\n      <th>29998</th>\n      <td>0</td>\n      <td>0</td>\n      <td>0</td>\n      <td>0</td>\n      <td>0</td>\n      <td>0</td>\n      <td>0</td>\n      <td>0</td>\n      <td>0</td>\n      <td>0</td>\n      <td>...</td>\n      <td>0</td>\n      <td>0</td>\n      <td>0</td>\n      <td>0</td>\n      <td>0</td>\n      <td>0</td>\n      <td>0</td>\n      <td>0</td>\n      <td>0</td>\n      <td>0</td>\n    </tr>\n    <tr>\n      <th>29999</th>\n      <td>0</td>\n      <td>0</td>\n      <td>0</td>\n      <td>0</td>\n      <td>0</td>\n      <td>0</td>\n      <td>0</td>\n      <td>0</td>\n      <td>0</td>\n      <td>0</td>\n      <td>...</td>\n      <td>0</td>\n      <td>0</td>\n      <td>0</td>\n      <td>0</td>\n      <td>0</td>\n      <td>0</td>\n      <td>0</td>\n      <td>0</td>\n      <td>0</td>\n      <td>0</td>\n    </tr>\n  </tbody>\n</table>\n<p>28982 rows × 4834 columns</p>\n</div>"
     },
     "execution_count": 9,
     "metadata": {},
     "output_type": "execute_result"
    }
   ],
   "source": [
    "X = no_null_longitude.drop(columns=['longitude'])\n",
    "y = no_null_longitude['longitude']\n",
    "X"
   ],
   "metadata": {
    "collapsed": false,
    "pycharm": {
     "name": "#%%\n"
    }
   }
  },
  {
   "cell_type": "code",
   "execution_count": 10,
   "outputs": [],
   "source": [
    "X_train, X_test, y_train, y_test = train_test_split(X, y, test_size=0.33)"
   ],
   "metadata": {
    "collapsed": false,
    "pycharm": {
     "name": "#%%\n"
    }
   }
  },
  {
   "cell_type": "code",
   "execution_count": 11,
   "outputs": [
    {
     "data": {
      "text/plain": "0.514768418781371"
     },
     "execution_count": 11,
     "metadata": {},
     "output_type": "execute_result"
    }
   ],
   "source": [
    "rfr = RandomForestRegressor(100, max_depth=20)\n",
    "rfr.fit(X_train, y_train)\n",
    "rfr.score(X_test,y_test)"
   ],
   "metadata": {
    "collapsed": false,
    "pycharm": {
     "name": "#%%\n"
    }
   }
  },
  {
   "cell_type": "markdown",
   "source": [
    "And now for the prediction:"
   ],
   "metadata": {
    "collapsed": false,
    "pycharm": {
     "name": "#%% md\n"
    }
   }
  },
  {
   "cell_type": "code",
   "execution_count": 14,
   "outputs": [
    {
     "name": "stderr",
     "output_type": "stream",
     "text": [
      "C:\\Users\\97250\\AppData\\Local\\Temp/ipykernel_15064/2438821690.py:1: SettingWithCopyWarning: \n",
      "A value is trying to be set on a copy of a slice from a DataFrame.\n",
      "Try using .loc[row_indexer,col_indexer] = value instead\n",
      "\n",
      "See the caveats in the documentation: https://pandas.pydata.org/pandas-docs/stable/user_guide/indexing.html#returning-a-view-versus-a-copy\n",
      "  null_longitude['longitude'] = rfr.predict(null_longitude.drop(columns=[\"longitude\"]))\n"
     ]
    },
    {
     "data": {
      "text/plain": "18       -86.151538\n192      -86.151538\n204      -86.151538\n213      -86.151538\n222     -119.739610\n            ...    \n29838    -86.151538\n29883    -86.151538\n29949    -86.151538\n29954    -86.151538\n29962    -86.151538\nName: longitude, Length: 1018, dtype: float64"
     },
     "execution_count": 14,
     "metadata": {},
     "output_type": "execute_result"
    }
   ],
   "source": [
    "null_longitude['longitude'] = rfr.predict(null_longitude.drop(columns=[\"longitude\"]))\n",
    "null_longitude['longitude']"
   ],
   "metadata": {
    "collapsed": false,
    "pycharm": {
     "name": "#%%\n"
    }
   }
  },
  {
   "cell_type": "markdown",
   "source": [
    "### 1.b)"
   ],
   "metadata": {
    "collapsed": false,
    "pycharm": {
     "name": "#%% md\n"
    }
   }
  },
  {
   "cell_type": "code",
   "execution_count": 17,
   "outputs": [
    {
     "data": {
      "text/plain": "Illinois                2165\nCalifornia              1992\nFlorida                 1863\nTexas                   1719\nNew York                1258\nOhio                    1236\nGeorgia                 1144\nPennsylvania            1131\nNorth Carolina          1086\nLouisiana               1072\nTennessee                984\nSouth Carolina           856\nMissouri                 807\nMichigan                 790\nIndiana                  746\nVirginia                 740\nMaryland                 724\nMassachusetts            714\nNew Jersey               688\nAlabama                  676\nWisconsin                594\nKentucky                 523\nMississippi              476\nWashington               445\nOklahoma                 410\nColorado                 407\nDistrict of Columbia     404\nConnecticut              365\nArkansas                 326\nMinnesota                311\nIowa                     306\nOregon                   304\nArizona                  290\nKansas                   266\nNebraska                 245\nNevada                   233\nNew Mexico               216\nWest Virginia            192\nDelaware                 188\nAlaska                   185\nRhode Island             128\nNew Hampshire            125\nUtah                     122\nMaine                    109\nIdaho                     83\nMontana                   76\nSouth Dakota              70\nNorth Dakota              69\nWyoming                   57\nVermont                   48\nHawaii                    36\nName: state, dtype: int64"
     },
     "execution_count": 17,
     "metadata": {},
     "output_type": "execute_result"
    }
   ],
   "source": [
    "df['state'].value_counts()"
   ],
   "metadata": {
    "collapsed": false,
    "pycharm": {
     "name": "#%%\n"
    }
   }
  }
 ],
 "metadata": {
  "kernelspec": {
   "display_name": "Python 3",
   "language": "python",
   "name": "python3"
  },
  "language_info": {
   "codemirror_mode": {
    "name": "ipython",
    "version": 2
   },
   "file_extension": ".py",
   "mimetype": "text/x-python",
   "name": "python",
   "nbconvert_exporter": "python",
   "pygments_lexer": "ipython2",
   "version": "2.7.6"
  }
 },
 "nbformat": 4,
 "nbformat_minor": 0
}