{
 "cells": [
  {
   "cell_type": "markdown",
   "source": [
    "# Ex2 - Raz Bareli"
   ],
   "metadata": {
    "collapsed": false,
    "pycharm": {
     "name": "#%% md\n"
    }
   },
   "execution_count": 1
  },
  {
   "cell_type": "code",
   "execution_count": 1,
   "outputs": [],
   "source": [
    "import pandas as pd\n",
    "import numpy as np\n",
    "from sklearn.model_selection import train_test_split\n",
    "from sklearn.ensemble import RandomForestRegressor\n",
    "from sklearn.ensemble import RandomForestClassifier\n"
   ],
   "metadata": {
    "collapsed": false,
    "pycharm": {
     "name": "#%%\n"
    }
   }
  },
  {
   "cell_type": "markdown",
   "source": [
    "### 1.a)\n",
    "As we've seen in class, we can try and fit a simple model to the data that we do have, and then predict the null values.\n",
    "In order to choose a model, we can split the data to train and test (the data without the null values). Then we can train, say, 3 different models on the train set, and see which one performed best on the test set.\n",
    "For this question I will choose the Random Forest Classifier / Regressor, accordingly, since they are very good models, and at the same time simple enough."
   ],
   "metadata": {
    "collapsed": false,
    "pycharm": {
     "name": "#%% md\n"
    }
   }
  },
  {
   "cell_type": "code",
   "execution_count": 2,
   "outputs": [
    {
     "data": {
      "text/plain": "Unnamed: 0                      0\nincident_id                     0\ndate                            0\nstate                           0\ncity_or_county                  0\naddress                      2044\nn_killed                        0\nn_injured                       0\ncongressional_district       1494\ngun_stolen                  12430\ngun_type                    12423\nincident_characteristics       42\nlatitude                     1018\nlocation_description        24799\nlongitude                    1018\nn_guns_involved             12423\nnotes                       10211\nparticipant_age             11658\nparticipant_age_group        5419\nparticipant_gender           4659\nparticipant_name            15327\nparticipant_relationship    28033\nparticipant_status           3530\nparticipant_type             3160\nstate_house_district         4826\nstate_senate_district        3997\ndtype: int64"
     },
     "execution_count": 2,
     "metadata": {},
     "output_type": "execute_result"
    }
   ],
   "source": [
    "df = pd.read_csv(\"ex2.csv\")\n",
    "df.isna().sum()"
   ],
   "metadata": {
    "collapsed": false,
    "pycharm": {
     "name": "#%%\n"
    }
   }
  },
  {
   "cell_type": "markdown",
   "source": [
    "For the categorical feature, I'll choose participant_gender. For the prediction, I'll use the state' n_killed and n_injured features, since they sound the most relevant. For example, I don't think there is a connection between gender and date, so adding this feature to the prediction can harm it.\n",
    "\n",
    "Before that, we'll process the gender to 3 categories:\n",
    "Male, Female, Both:"
   ],
   "metadata": {
    "collapsed": false,
    "pycharm": {
     "name": "#%% md\n"
    }
   }
  },
  {
   "cell_type": "code",
   "execution_count": 3,
   "outputs": [
    {
     "name": "stderr",
     "output_type": "stream",
     "text": [
      "C:\\Users\\97250\\anaconda3\\lib\\site-packages\\pandas\\core\\indexing.py:1817: SettingWithCopyWarning: \n",
      "A value is trying to be set on a copy of a slice from a DataFrame.\n",
      "Try using .loc[row_indexer,col_indexer] = value instead\n",
      "\n",
      "See the caveats in the documentation: https://pandas.pydata.org/pandas-docs/stable/user_guide/indexing.html#returning-a-view-versus-a-copy\n",
      "  self._setitem_single_column(loc, value, pi)\n"
     ]
    },
    {
     "data": {
      "text/plain": "array(['Male', 'Both', 'Male', ..., 'Male', 'Male', 'Male'], dtype=object)"
     },
     "execution_count": 3,
     "metadata": {},
     "output_type": "execute_result"
    }
   ],
   "source": [
    "gender_no_null = df[~df['participant_gender'].isnull()]\n",
    "\n",
    "gender_no_null.loc[gender_no_null['participant_gender'].str.contains('Female', regex=True) &                         gender_no_null['participant_gender'].str.contains('Male', regex=True), ['participant_gender']] = \"Both\"\n",
    "gender_no_null.loc[gender_no_null['participant_gender'].str.contains('Female', regex=True), ['participant_gender']] = \"Female\"\n",
    "gender_no_null.loc[gender_no_null['participant_gender'].str.contains('Male', regex=True), ['participant_gender']] = \"Male\"\n",
    "\n",
    "\n",
    "gender_no_null['participant_gender'].values"
   ],
   "metadata": {
    "collapsed": false,
    "pycharm": {
     "name": "#%%\n"
    }
   }
  },
  {
   "cell_type": "markdown",
   "source": [
    "Now will choose the features to be part of the model, and prepare them to the training."
   ],
   "metadata": {
    "collapsed": false,
    "pycharm": {
     "name": "#%% md\n"
    }
   }
  },
  {
   "cell_type": "code",
   "execution_count": 4,
   "outputs": [],
   "source": [
    "gender_null = df[df['participant_gender'].isnull()]\n",
    "gender_null = gender_null[['state', 'n_killed', 'n_injured', 'participant_gender']]\n",
    "gender_null = pd.get_dummies(gender_null, columns=['state'])\n",
    "\n",
    "gender_no_null = gender_no_null[['state', 'n_killed', 'n_injured', 'participant_gender']]\n",
    "gender_no_null = pd.get_dummies(gender_no_null, columns=['state'])\n",
    "\n",
    "X = gender_no_null.drop(columns=['participant_gender'])\n",
    "y = gender_no_null['participant_gender']"
   ],
   "metadata": {
    "collapsed": false,
    "pycharm": {
     "name": "#%%\n"
    }
   }
  },
  {
   "cell_type": "code",
   "execution_count": 5,
   "outputs": [],
   "source": [
    "X_train, X_test, y_train, y_test = train_test_split(X, y, test_size=0.33)"
   ],
   "metadata": {
    "collapsed": false,
    "pycharm": {
     "name": "#%%\n"
    }
   }
  },
  {
   "cell_type": "code",
   "execution_count": 6,
   "outputs": [
    {
     "data": {
      "text/plain": "0.8178883175893819"
     },
     "execution_count": 6,
     "metadata": {},
     "output_type": "execute_result"
    }
   ],
   "source": [
    "rfc = RandomForestClassifier(100,max_depth=20)\n",
    "rfc.fit(X_train, y_train)\n",
    "rfc.score(X_test,y_test)"
   ],
   "metadata": {
    "collapsed": false,
    "pycharm": {
     "name": "#%%\n"
    }
   }
  },
  {
   "cell_type": "markdown",
   "source": [
    "And now for the prediction:"
   ],
   "metadata": {
    "collapsed": false,
    "pycharm": {
     "name": "#%% md\n"
    }
   }
  },
  {
   "cell_type": "code",
   "execution_count": 7,
   "outputs": [
    {
     "data": {
      "text/plain": "0        Male\n2        Male\n5        Male\n7        Male\n18       Male\n         ... \n29970    Male\n29975    Male\n29984    Male\n29987    Male\n29997    Male\nName: participant_gender, Length: 4659, dtype: object"
     },
     "execution_count": 7,
     "metadata": {},
     "output_type": "execute_result"
    }
   ],
   "source": [
    "gender_null['participant_gender'] = rfc.predict(gender_null.drop(columns=[\"participant_gender\"]))\n",
    "gender_null['participant_gender']"
   ],
   "metadata": {
    "collapsed": false,
    "pycharm": {
     "name": "#%%\n"
    }
   }
  },
  {
   "cell_type": "markdown",
   "source": [
    "For the continuous variable we'll choose longitude, and we'll use the regression random forest\n",
    "This time we will use different set of features for the prediction: state and city_or_county.\n",
    "It's very likely to predict longitude based on the city, at least with minor errors."
   ],
   "metadata": {
    "collapsed": false,
    "pycharm": {
     "name": "#%% md\n"
    }
   }
  },
  {
   "cell_type": "code",
   "execution_count": 8,
   "outputs": [],
   "source": [
    "df = pd.read_csv(\"ex2.csv\")\n",
    "\n",
    "df_longitude = df[['state', 'city_or_county', 'longitude']]\n",
    "df_longitude = pd.get_dummies(df_longitude, columns=['state', 'city_or_county'])\n",
    "\n",
    "null_longitude = df_longitude[df_longitude['longitude'].isnull()]\n",
    "no_null_longitude = df_longitude[~df_longitude['longitude'].isnull()]"
   ],
   "metadata": {
    "collapsed": false,
    "pycharm": {
     "name": "#%%\n"
    }
   }
  },
  {
   "cell_type": "code",
   "execution_count": 9,
   "outputs": [
    {
     "data": {
      "text/plain": "       state_Alabama  state_Alaska  state_Arizona  state_Arkansas  \\\n0                  0             0              0               0   \n1                  0             0              0               0   \n2                  0             0              0               0   \n3                  0             0              0               0   \n4                  0             0              0               0   \n...              ...           ...            ...             ...   \n29995              0             0              0               0   \n29996              0             0              0               0   \n29997              0             0              0               0   \n29998              0             0              0               0   \n29999              0             0              0               0   \n\n       state_California  state_Colorado  state_Connecticut  state_Delaware  \\\n0                     1               0                  0               0   \n1                     0               0                  0               0   \n2                     0               0                  0               0   \n3                     0               0                  0               0   \n4                     0               0                  0               0   \n...                 ...             ...                ...             ...   \n29995                 0               0                  0               0   \n29996                 0               0                  0               0   \n29997                 0               0                  0               0   \n29998                 0               0                  0               0   \n29999                 0               0                  0               0   \n\n       state_District of Columbia  state_Florida  ...  city_or_county_Yukon  \\\n0                               0              0  ...                     0   \n1                               0              0  ...                     0   \n2                               0              0  ...                     0   \n3                               0              0  ...                     0   \n4                               0              0  ...                     0   \n...                           ...            ...  ...                   ...   \n29995                           0              0  ...                     0   \n29996                           0              0  ...                     0   \n29997                           0              0  ...                     0   \n29998                           0              0  ...                     0   \n29999                           0              0  ...                     0   \n\n       city_or_county_Yulee  city_or_county_Yuma  city_or_county_Zanesville  \\\n0                         0                    0                          0   \n1                         0                    0                          0   \n2                         0                    0                          0   \n3                         0                    0                          0   \n4                         0                    0                          0   \n...                     ...                  ...                        ...   \n29995                     0                    0                          0   \n29996                     0                    0                          0   \n29997                     0                    0                          0   \n29998                     0                    0                          0   \n29999                     0                    0                          0   \n\n       city_or_county_Zebulon  city_or_county_Zephyrhills  \\\n0                           0                           0   \n1                           0                           0   \n2                           0                           0   \n3                           0                           0   \n4                           0                           0   \n...                       ...                         ...   \n29995                       0                           0   \n29996                       0                           0   \n29997                       0                           0   \n29998                       0                           0   \n29999                       0                           0   \n\n       city_or_county_Zillah  city_or_county_Zion  city_or_county_Zionsville  \\\n0                          0                    0                          0   \n1                          0                    0                          0   \n2                          0                    0                          0   \n3                          0                    0                          0   \n4                          0                    0                          0   \n...                      ...                  ...                        ...   \n29995                      0                    0                          0   \n29996                      0                    0                          0   \n29997                      0                    0                          0   \n29998                      0                    0                          0   \n29999                      0                    0                          0   \n\n       city_or_county_Zwolle  \n0                          0  \n1                          0  \n2                          0  \n3                          0  \n4                          0  \n...                      ...  \n29995                      0  \n29996                      0  \n29997                      0  \n29998                      0  \n29999                      0  \n\n[28982 rows x 4834 columns]",
      "text/html": "<div>\n<style scoped>\n    .dataframe tbody tr th:only-of-type {\n        vertical-align: middle;\n    }\n\n    .dataframe tbody tr th {\n        vertical-align: top;\n    }\n\n    .dataframe thead th {\n        text-align: right;\n    }\n</style>\n<table border=\"1\" class=\"dataframe\">\n  <thead>\n    <tr style=\"text-align: right;\">\n      <th></th>\n      <th>state_Alabama</th>\n      <th>state_Alaska</th>\n      <th>state_Arizona</th>\n      <th>state_Arkansas</th>\n      <th>state_California</th>\n      <th>state_Colorado</th>\n      <th>state_Connecticut</th>\n      <th>state_Delaware</th>\n      <th>state_District of Columbia</th>\n      <th>state_Florida</th>\n      <th>...</th>\n      <th>city_or_county_Yukon</th>\n      <th>city_or_county_Yulee</th>\n      <th>city_or_county_Yuma</th>\n      <th>city_or_county_Zanesville</th>\n      <th>city_or_county_Zebulon</th>\n      <th>city_or_county_Zephyrhills</th>\n      <th>city_or_county_Zillah</th>\n      <th>city_or_county_Zion</th>\n      <th>city_or_county_Zionsville</th>\n      <th>city_or_county_Zwolle</th>\n    </tr>\n  </thead>\n  <tbody>\n    <tr>\n      <th>0</th>\n      <td>0</td>\n      <td>0</td>\n      <td>0</td>\n      <td>0</td>\n      <td>1</td>\n      <td>0</td>\n      <td>0</td>\n      <td>0</td>\n      <td>0</td>\n      <td>0</td>\n      <td>...</td>\n      <td>0</td>\n      <td>0</td>\n      <td>0</td>\n      <td>0</td>\n      <td>0</td>\n      <td>0</td>\n      <td>0</td>\n      <td>0</td>\n      <td>0</td>\n      <td>0</td>\n    </tr>\n    <tr>\n      <th>1</th>\n      <td>0</td>\n      <td>0</td>\n      <td>0</td>\n      <td>0</td>\n      <td>0</td>\n      <td>0</td>\n      <td>0</td>\n      <td>0</td>\n      <td>0</td>\n      <td>0</td>\n      <td>...</td>\n      <td>0</td>\n      <td>0</td>\n      <td>0</td>\n      <td>0</td>\n      <td>0</td>\n      <td>0</td>\n      <td>0</td>\n      <td>0</td>\n      <td>0</td>\n      <td>0</td>\n    </tr>\n    <tr>\n      <th>2</th>\n      <td>0</td>\n      <td>0</td>\n      <td>0</td>\n      <td>0</td>\n      <td>0</td>\n      <td>0</td>\n      <td>0</td>\n      <td>0</td>\n      <td>0</td>\n      <td>0</td>\n      <td>...</td>\n      <td>0</td>\n      <td>0</td>\n      <td>0</td>\n      <td>0</td>\n      <td>0</td>\n      <td>0</td>\n      <td>0</td>\n      <td>0</td>\n      <td>0</td>\n      <td>0</td>\n    </tr>\n    <tr>\n      <th>3</th>\n      <td>0</td>\n      <td>0</td>\n      <td>0</td>\n      <td>0</td>\n      <td>0</td>\n      <td>0</td>\n      <td>0</td>\n      <td>0</td>\n      <td>0</td>\n      <td>0</td>\n      <td>...</td>\n      <td>0</td>\n      <td>0</td>\n      <td>0</td>\n      <td>0</td>\n      <td>0</td>\n      <td>0</td>\n      <td>0</td>\n      <td>0</td>\n      <td>0</td>\n      <td>0</td>\n    </tr>\n    <tr>\n      <th>4</th>\n      <td>0</td>\n      <td>0</td>\n      <td>0</td>\n      <td>0</td>\n      <td>0</td>\n      <td>0</td>\n      <td>0</td>\n      <td>0</td>\n      <td>0</td>\n      <td>0</td>\n      <td>...</td>\n      <td>0</td>\n      <td>0</td>\n      <td>0</td>\n      <td>0</td>\n      <td>0</td>\n      <td>0</td>\n      <td>0</td>\n      <td>0</td>\n      <td>0</td>\n      <td>0</td>\n    </tr>\n    <tr>\n      <th>...</th>\n      <td>...</td>\n      <td>...</td>\n      <td>...</td>\n      <td>...</td>\n      <td>...</td>\n      <td>...</td>\n      <td>...</td>\n      <td>...</td>\n      <td>...</td>\n      <td>...</td>\n      <td>...</td>\n      <td>...</td>\n      <td>...</td>\n      <td>...</td>\n      <td>...</td>\n      <td>...</td>\n      <td>...</td>\n      <td>...</td>\n      <td>...</td>\n      <td>...</td>\n      <td>...</td>\n    </tr>\n    <tr>\n      <th>29995</th>\n      <td>0</td>\n      <td>0</td>\n      <td>0</td>\n      <td>0</td>\n      <td>0</td>\n      <td>0</td>\n      <td>0</td>\n      <td>0</td>\n      <td>0</td>\n      <td>0</td>\n      <td>...</td>\n      <td>0</td>\n      <td>0</td>\n      <td>0</td>\n      <td>0</td>\n      <td>0</td>\n      <td>0</td>\n      <td>0</td>\n      <td>0</td>\n      <td>0</td>\n      <td>0</td>\n    </tr>\n    <tr>\n      <th>29996</th>\n      <td>0</td>\n      <td>0</td>\n      <td>0</td>\n      <td>0</td>\n      <td>0</td>\n      <td>0</td>\n      <td>0</td>\n      <td>0</td>\n      <td>0</td>\n      <td>0</td>\n      <td>...</td>\n      <td>0</td>\n      <td>0</td>\n      <td>0</td>\n      <td>0</td>\n      <td>0</td>\n      <td>0</td>\n      <td>0</td>\n      <td>0</td>\n      <td>0</td>\n      <td>0</td>\n    </tr>\n    <tr>\n      <th>29997</th>\n      <td>0</td>\n      <td>0</td>\n      <td>0</td>\n      <td>0</td>\n      <td>0</td>\n      <td>0</td>\n      <td>0</td>\n      <td>0</td>\n      <td>0</td>\n      <td>0</td>\n      <td>...</td>\n      <td>0</td>\n      <td>0</td>\n      <td>0</td>\n      <td>0</td>\n      <td>0</td>\n      <td>0</td>\n      <td>0</td>\n      <td>0</td>\n      <td>0</td>\n      <td>0</td>\n    </tr>\n    <tr>\n      <th>29998</th>\n      <td>0</td>\n      <td>0</td>\n      <td>0</td>\n      <td>0</td>\n      <td>0</td>\n      <td>0</td>\n      <td>0</td>\n      <td>0</td>\n      <td>0</td>\n      <td>0</td>\n      <td>...</td>\n      <td>0</td>\n      <td>0</td>\n      <td>0</td>\n      <td>0</td>\n      <td>0</td>\n      <td>0</td>\n      <td>0</td>\n      <td>0</td>\n      <td>0</td>\n      <td>0</td>\n    </tr>\n    <tr>\n      <th>29999</th>\n      <td>0</td>\n      <td>0</td>\n      <td>0</td>\n      <td>0</td>\n      <td>0</td>\n      <td>0</td>\n      <td>0</td>\n      <td>0</td>\n      <td>0</td>\n      <td>0</td>\n      <td>...</td>\n      <td>0</td>\n      <td>0</td>\n      <td>0</td>\n      <td>0</td>\n      <td>0</td>\n      <td>0</td>\n      <td>0</td>\n      <td>0</td>\n      <td>0</td>\n      <td>0</td>\n    </tr>\n  </tbody>\n</table>\n<p>28982 rows × 4834 columns</p>\n</div>"
     },
     "execution_count": 9,
     "metadata": {},
     "output_type": "execute_result"
    }
   ],
   "source": [
    "X = no_null_longitude.drop(columns=['longitude'])\n",
    "y = no_null_longitude['longitude']\n",
    "X"
   ],
   "metadata": {
    "collapsed": false,
    "pycharm": {
     "name": "#%%\n"
    }
   }
  },
  {
   "cell_type": "code",
   "execution_count": 10,
   "outputs": [],
   "source": [
    "X_train, X_test, y_train, y_test = train_test_split(X, y, test_size=0.33)"
   ],
   "metadata": {
    "collapsed": false,
    "pycharm": {
     "name": "#%%\n"
    }
   }
  },
  {
   "cell_type": "code",
   "execution_count": 11,
   "outputs": [
    {
     "data": {
      "text/plain": "0.514768418781371"
     },
     "execution_count": 11,
     "metadata": {},
     "output_type": "execute_result"
    }
   ],
   "source": [
    "rfr = RandomForestRegressor(100, max_depth=20)\n",
    "rfr.fit(X_train, y_train)\n",
    "rfr.score(X_test,y_test)"
   ],
   "metadata": {
    "collapsed": false,
    "pycharm": {
     "name": "#%%\n"
    }
   }
  },
  {
   "cell_type": "markdown",
   "source": [
    "And now for the prediction:"
   ],
   "metadata": {
    "collapsed": false,
    "pycharm": {
     "name": "#%% md\n"
    }
   }
  },
  {
   "cell_type": "code",
   "execution_count": 14,
   "outputs": [
    {
     "name": "stderr",
     "output_type": "stream",
     "text": [
      "C:\\Users\\97250\\AppData\\Local\\Temp/ipykernel_15064/2438821690.py:1: SettingWithCopyWarning: \n",
      "A value is trying to be set on a copy of a slice from a DataFrame.\n",
      "Try using .loc[row_indexer,col_indexer] = value instead\n",
      "\n",
      "See the caveats in the documentation: https://pandas.pydata.org/pandas-docs/stable/user_guide/indexing.html#returning-a-view-versus-a-copy\n",
      "  null_longitude['longitude'] = rfr.predict(null_longitude.drop(columns=[\"longitude\"]))\n"
     ]
    },
    {
     "data": {
      "text/plain": "18       -86.151538\n192      -86.151538\n204      -86.151538\n213      -86.151538\n222     -119.739610\n            ...    \n29838    -86.151538\n29883    -86.151538\n29949    -86.151538\n29954    -86.151538\n29962    -86.151538\nName: longitude, Length: 1018, dtype: float64"
     },
     "execution_count": 14,
     "metadata": {},
     "output_type": "execute_result"
    }
   ],
   "source": [
    "null_longitude['longitude'] = rfr.predict(null_longitude.drop(columns=[\"longitude\"]))\n",
    "null_longitude['longitude']"
   ],
   "metadata": {
    "collapsed": false,
    "pycharm": {
     "name": "#%%\n"
    }
   }
  },
  {
   "cell_type": "markdown",
   "source": [
    "### 1.b)\n",
    "I've decided to work on the \"gun_type\" feature.\n",
    "I'm aware that sometimes the data refers to more than one gun, but I will focus on the first value that's in the cell."
   ],
   "metadata": {
    "collapsed": false,
    "pycharm": {
     "name": "#%% md\n"
    }
   }
  },
  {
   "cell_type": "code",
   "execution_count": 53,
   "outputs": [
    {
     "data": {
      "text/plain": "Unknown    12253\nHandgun     2047\n9mm          692\nAuto         605\nShotgun      336\nRifle        328\nLR           320\nSW           286\nSpl          200\ngauge        112\nRem          112\nMag          105\nOther         82\nAK            72\nWin           17\n0mm            6\nSpr            4\nName: Gun, dtype: int64"
     },
     "execution_count": 53,
     "metadata": {},
     "output_type": "execute_result"
    }
   ],
   "source": [
    "df['incident_characteristics'].value_counts()\n",
    "df['Gun']=df.gun_type.str.extract('([A-Za-z]+|[0-9][mm]+)')\n",
    "df['Gun'].value_counts()"
   ],
   "metadata": {
    "collapsed": false,
    "pycharm": {
     "name": "#%%\n"
    }
   }
  },
  {
   "cell_type": "markdown",
   "source": [
    "I'll define 2 sets of guns: Rifles (=big guns), and Handguns (=small guns).\n",
    "I'll say that the specific type of the gun is not relevant (at least for the sake of this question).\n",
    "I'll also keep the 'Unknown' type and combine in with 'Other'"
   ],
   "metadata": {
    "collapsed": false,
    "pycharm": {
     "name": "#%% md\n"
    }
   }
  },
  {
   "cell_type": "code",
   "execution_count": 54,
   "outputs": [
    {
     "data": {
      "text/plain": "0        Unknown\n1        Handgun\n2        Unknown\n3          Rifle\n4          Rifle\n          ...   \n29995      Rifle\n29996    Handgun\n29997      Rifle\n29998    Unknown\n29999    Unknown\nName: Gun, Length: 30000, dtype: object"
     },
     "execution_count": 54,
     "metadata": {},
     "output_type": "execute_result"
    }
   ],
   "source": [
    "def combine_guns(x):\n",
    "    if x in [\"Handgun\",\"9mm\",\"0mm\", \"Win\",\"Spl\", \"Spr\"]:\n",
    "        return 'Handgun'\n",
    "    if x in [\"Other\", \"Unknown\"]:\n",
    "        return 'Unknown'\n",
    "    else:\n",
    "        return 'Rifle'\n",
    "df[\"Gun\"] = df[\"Gun\"].apply(lambda x:combine_guns(x))\n",
    "df['Gun']"
   ],
   "metadata": {
    "collapsed": false,
    "pycharm": {
     "name": "#%%\n"
    }
   }
  },
  {
   "cell_type": "markdown",
   "source": [
    "### 2.a)\n",
    "I would add some information on the population in the city where the crime took place. That way, if we know for example that this\n",
    "city has a lot of poor people or a lot of gun-stores, maybe we can conclude that crimes would be more violent there that in other places\n",
    "where there are many good schools and higher social-economical class."
   ],
   "metadata": {
    "collapsed": false,
    "pycharm": {
     "name": "#%% md\n"
    }
   }
  },
  {
   "cell_type": "markdown",
   "source": [
    "### 2.b)"
   ],
   "metadata": {
    "collapsed": false,
    "pycharm": {
     "name": "#%% md\n"
    }
   }
  },
  {
   "cell_type": "code",
   "execution_count": 59,
   "outputs": [
    {
     "data": {
      "text/plain": "   fips       area_name state_abbreviation  PST045214  PST040210  PST120214  \\\n0     0   United States                NaN  318857056  308758105        3.3   \n1  1000         Alabama                NaN    4849377    4780127        1.4   \n2  1001  Autauga County                 AL      55395      54571        1.5   \n3  1003  Baldwin County                 AL     200111     182265        9.8   \n4  1005  Barbour County                 AL      26887      27457       -2.1   \n\n   POP010210  AGE135214  AGE295214  AGE775214  ...  SBO415207  SBO015207  \\\n0  308745538        6.2       23.1       14.5  ...        8.3       28.8   \n1    4779736        6.1       22.8       15.3  ...        1.2       28.1   \n2      54571        6.0       25.2       13.8  ...        0.7       31.7   \n3     182265        5.6       22.2       18.7  ...        1.3       27.3   \n4      27457        5.7       21.2       16.5  ...        0.0       27.0   \n\n    MAN450207   WTN220207   RTN130207  RTN131207  AFN120207  BPS030214  \\\n0  5319456312  4174286516  3917663456      12990  613795732    1046363   \n1   112858843    52252752    57344851      12364    6426342      13369   \n2           0           0      598175      12003      88157        131   \n3     1410273           0     2966489      17166     436955       1384   \n4           0           0      188337       6334          0          8   \n\n    LND110210  POP060210  \n0  3531905.43       87.4  \n1    50645.33       94.4  \n2      594.44       91.8  \n3     1589.78      114.6  \n4      884.88       31.0  \n\n[5 rows x 54 columns]",
      "text/html": "<div>\n<style scoped>\n    .dataframe tbody tr th:only-of-type {\n        vertical-align: middle;\n    }\n\n    .dataframe tbody tr th {\n        vertical-align: top;\n    }\n\n    .dataframe thead th {\n        text-align: right;\n    }\n</style>\n<table border=\"1\" class=\"dataframe\">\n  <thead>\n    <tr style=\"text-align: right;\">\n      <th></th>\n      <th>fips</th>\n      <th>area_name</th>\n      <th>state_abbreviation</th>\n      <th>PST045214</th>\n      <th>PST040210</th>\n      <th>PST120214</th>\n      <th>POP010210</th>\n      <th>AGE135214</th>\n      <th>AGE295214</th>\n      <th>AGE775214</th>\n      <th>...</th>\n      <th>SBO415207</th>\n      <th>SBO015207</th>\n      <th>MAN450207</th>\n      <th>WTN220207</th>\n      <th>RTN130207</th>\n      <th>RTN131207</th>\n      <th>AFN120207</th>\n      <th>BPS030214</th>\n      <th>LND110210</th>\n      <th>POP060210</th>\n    </tr>\n  </thead>\n  <tbody>\n    <tr>\n      <th>0</th>\n      <td>0</td>\n      <td>United States</td>\n      <td>NaN</td>\n      <td>318857056</td>\n      <td>308758105</td>\n      <td>3.3</td>\n      <td>308745538</td>\n      <td>6.2</td>\n      <td>23.1</td>\n      <td>14.5</td>\n      <td>...</td>\n      <td>8.3</td>\n      <td>28.8</td>\n      <td>5319456312</td>\n      <td>4174286516</td>\n      <td>3917663456</td>\n      <td>12990</td>\n      <td>613795732</td>\n      <td>1046363</td>\n      <td>3531905.43</td>\n      <td>87.4</td>\n    </tr>\n    <tr>\n      <th>1</th>\n      <td>1000</td>\n      <td>Alabama</td>\n      <td>NaN</td>\n      <td>4849377</td>\n      <td>4780127</td>\n      <td>1.4</td>\n      <td>4779736</td>\n      <td>6.1</td>\n      <td>22.8</td>\n      <td>15.3</td>\n      <td>...</td>\n      <td>1.2</td>\n      <td>28.1</td>\n      <td>112858843</td>\n      <td>52252752</td>\n      <td>57344851</td>\n      <td>12364</td>\n      <td>6426342</td>\n      <td>13369</td>\n      <td>50645.33</td>\n      <td>94.4</td>\n    </tr>\n    <tr>\n      <th>2</th>\n      <td>1001</td>\n      <td>Autauga County</td>\n      <td>AL</td>\n      <td>55395</td>\n      <td>54571</td>\n      <td>1.5</td>\n      <td>54571</td>\n      <td>6.0</td>\n      <td>25.2</td>\n      <td>13.8</td>\n      <td>...</td>\n      <td>0.7</td>\n      <td>31.7</td>\n      <td>0</td>\n      <td>0</td>\n      <td>598175</td>\n      <td>12003</td>\n      <td>88157</td>\n      <td>131</td>\n      <td>594.44</td>\n      <td>91.8</td>\n    </tr>\n    <tr>\n      <th>3</th>\n      <td>1003</td>\n      <td>Baldwin County</td>\n      <td>AL</td>\n      <td>200111</td>\n      <td>182265</td>\n      <td>9.8</td>\n      <td>182265</td>\n      <td>5.6</td>\n      <td>22.2</td>\n      <td>18.7</td>\n      <td>...</td>\n      <td>1.3</td>\n      <td>27.3</td>\n      <td>1410273</td>\n      <td>0</td>\n      <td>2966489</td>\n      <td>17166</td>\n      <td>436955</td>\n      <td>1384</td>\n      <td>1589.78</td>\n      <td>114.6</td>\n    </tr>\n    <tr>\n      <th>4</th>\n      <td>1005</td>\n      <td>Barbour County</td>\n      <td>AL</td>\n      <td>26887</td>\n      <td>27457</td>\n      <td>-2.1</td>\n      <td>27457</td>\n      <td>5.7</td>\n      <td>21.2</td>\n      <td>16.5</td>\n      <td>...</td>\n      <td>0.0</td>\n      <td>27.0</td>\n      <td>0</td>\n      <td>0</td>\n      <td>188337</td>\n      <td>6334</td>\n      <td>0</td>\n      <td>8</td>\n      <td>884.88</td>\n      <td>31.0</td>\n    </tr>\n  </tbody>\n</table>\n<p>5 rows × 54 columns</p>\n</div>"
     },
     "execution_count": 59,
     "metadata": {},
     "output_type": "execute_result"
    }
   ],
   "source": [
    "income = pd.read_csv(\"county_facts.csv\")\n",
    "income.head()"
   ],
   "metadata": {
    "collapsed": false,
    "pycharm": {
     "name": "#%%\n"
    }
   }
  }
 ],
 "metadata": {
  "kernelspec": {
   "display_name": "Python 3",
   "language": "python",
   "name": "python3"
  },
  "language_info": {
   "codemirror_mode": {
    "name": "ipython",
    "version": 2
   },
   "file_extension": ".py",
   "mimetype": "text/x-python",
   "name": "python",
   "nbconvert_exporter": "python",
   "pygments_lexer": "ipython2",
   "version": "2.7.6"
  }
 },
 "nbformat": 4,
 "nbformat_minor": 0
}