{
 "cells": [
  {
   "cell_type": "markdown",
   "source": [
    "# Ex2 - Raz Bareli"
   ],
   "metadata": {
    "collapsed": false,
    "pycharm": {
     "name": "#%% md\n"
    }
   },
   "execution_count": 1
  },
  {
   "cell_type": "code",
   "execution_count": 48,
   "outputs": [],
   "source": [
    "import pandas as pd\n",
    "import numpy as np\n",
    "import matplotlib.pyplot as plt\n",
    "from sklearn.model_selection import train_test_split\n",
    "from sklearn.ensemble import RandomForestRegressor\n",
    "from sklearn.ensemble import RandomForestClassifier\n"
   ],
   "metadata": {
    "collapsed": false,
    "pycharm": {
     "name": "#%%\n"
    }
   }
  },
  {
   "cell_type": "markdown",
   "source": [
    "### 1.a)\n",
    "As we've seen in class, we can try and fit a simple model to the data that we do have, and then predict the null values.\n",
    "In order to choose a model, we can split the data to train and test (the data without the null values). Then we can train, say, 3 different models on the train set, and see which one performed best on the test set.\n",
    "For this question I will choose the Random Forest Classifier / Regressor, accordingly, since they are very good models, and at the same time simple enough."
   ],
   "metadata": {
    "collapsed": false,
    "pycharm": {
     "name": "#%% md\n"
    }
   }
  },
  {
   "cell_type": "code",
   "execution_count": 3,
   "outputs": [
    {
     "data": {
      "text/plain": "Unnamed: 0                      0\nincident_id                     0\ndate                            0\nstate                           0\ncity_or_county                  0\naddress                      2044\nn_killed                        0\nn_injured                       0\ncongressional_district       1494\ngun_stolen                  12430\ngun_type                    12423\nincident_characteristics       42\nlatitude                     1018\nlocation_description        24799\nlongitude                    1018\nn_guns_involved             12423\nnotes                       10211\nparticipant_age             11658\nparticipant_age_group        5419\nparticipant_gender           4659\nparticipant_name            15327\nparticipant_relationship    28033\nparticipant_status           3530\nparticipant_type             3160\nstate_house_district         4826\nstate_senate_district        3997\ndtype: int64"
     },
     "execution_count": 3,
     "metadata": {},
     "output_type": "execute_result"
    }
   ],
   "source": [
    "df = pd.read_csv(\"ex2.csv\")\n",
    "df.isna().sum()"
   ],
   "metadata": {
    "collapsed": false,
    "pycharm": {
     "name": "#%%\n"
    }
   }
  },
  {
   "cell_type": "markdown",
   "source": [
    "For the categorical feature, I'll choose participant_gender. For the prediction, I'll use the state' n_killed and n_injured features, since they sound the most relevant. For example, I don't think there is a connection between gender and date, so adding this feature to the prediction can harm it.\n",
    "\n",
    "Before that, we'll process the gender to 3 categories:\n",
    "Male, Female, Both:"
   ],
   "metadata": {
    "collapsed": false,
    "pycharm": {
     "name": "#%% md\n"
    }
   }
  },
  {
   "cell_type": "code",
   "execution_count": 12,
   "outputs": [
    {
     "name": "stderr",
     "output_type": "stream",
     "text": [
      "/usr/lib/python3/dist-packages/pandas/core/indexing.py:1763: SettingWithCopyWarning: \n",
      "A value is trying to be set on a copy of a slice from a DataFrame.\n",
      "Try using .loc[row_indexer,col_indexer] = value instead\n",
      "\n",
      "See the caveats in the documentation: https://pandas.pydata.org/pandas-docs/stable/user_guide/indexing.html#returning-a-view-versus-a-copy\n",
      "  isetter(loc, value)\n"
     ]
    },
    {
     "data": {
      "text/plain": "array(['Male', 'Both', 'Male', ..., 'Male', 'Male', 'Male'], dtype=object)"
     },
     "execution_count": 12,
     "metadata": {},
     "output_type": "execute_result"
    }
   ],
   "source": [
    "gender_no_null = df[~df['participant_gender'].isnull()]\n",
    "\n",
    "gender_no_null.loc[gender_no_null['participant_gender'].str.contains('Female', regex=True) &                         gender_no_null['participant_gender'].str.contains('Male', regex=True), ['participant_gender']] = \"Both\"\n",
    "gender_no_null.loc[gender_no_null['participant_gender'].str.contains('Female', regex=True), ['participant_gender']] = \"Female\"\n",
    "gender_no_null.loc[gender_no_null['participant_gender'].str.contains('Male', regex=True), ['participant_gender']] = \"Male\"\n",
    "\n",
    "\n",
    "gender_no_null['participant_gender'].values"
   ],
   "metadata": {
    "collapsed": false,
    "pycharm": {
     "name": "#%%\n"
    }
   }
  },
  {
   "cell_type": "markdown",
   "source": [
    "Now will choose the features to be part of the model, and prepare them to the training."
   ],
   "metadata": {
    "collapsed": false,
    "pycharm": {
     "name": "#%% md\n"
    }
   }
  },
  {
   "cell_type": "code",
   "execution_count": 13,
   "outputs": [],
   "source": [
    "gender_null = df[df['participant_gender'].isnull()]\n",
    "gender_null = gender_null[['state', 'n_killed', 'n_injured', 'participant_gender']]\n",
    "gender_null = pd.get_dummies(gender_null, columns=['state'])\n",
    "\n",
    "gender_no_null = gender_no_null[['state', 'n_killed', 'n_injured', 'participant_gender']]\n",
    "gender_no_null = pd.get_dummies(gender_no_null, columns=['state'])\n",
    "\n",
    "X = gender_no_null.drop(columns=['participant_gender'])\n",
    "y = gender_no_null['participant_gender']"
   ],
   "metadata": {
    "collapsed": false,
    "pycharm": {
     "name": "#%%\n"
    }
   }
  },
  {
   "cell_type": "code",
   "execution_count": 14,
   "outputs": [],
   "source": [
    "X_train, X_test, y_train, y_test = train_test_split(X, y, test_size=0.33)"
   ],
   "metadata": {
    "collapsed": false,
    "pycharm": {
     "name": "#%%\n"
    }
   }
  },
  {
   "cell_type": "code",
   "execution_count": 15,
   "outputs": [
    {
     "data": {
      "text/plain": "0.8218342699988043"
     },
     "execution_count": 15,
     "metadata": {},
     "output_type": "execute_result"
    }
   ],
   "source": [
    "rfc = RandomForestClassifier(100,max_depth=20)\n",
    "rfc.fit(X_train, y_train)\n",
    "rfc.score(X_test,y_test)"
   ],
   "metadata": {
    "collapsed": false,
    "pycharm": {
     "name": "#%%\n"
    }
   }
  },
  {
   "cell_type": "markdown",
   "source": [
    "And now for the prediction:"
   ],
   "metadata": {
    "collapsed": false,
    "pycharm": {
     "name": "#%% md\n"
    }
   }
  },
  {
   "cell_type": "code",
   "execution_count": 16,
   "outputs": [
    {
     "data": {
      "text/plain": "0        Male\n2        Male\n5        Male\n7        Male\n18       Male\n         ... \n29970    Male\n29975    Male\n29984    Male\n29987    Male\n29997    Male\nName: participant_gender, Length: 4659, dtype: object"
     },
     "execution_count": 16,
     "metadata": {},
     "output_type": "execute_result"
    }
   ],
   "source": [
    "gender_null['participant_gender'] = rfc.predict(gender_null.drop(columns=[\"participant_gender\"]))\n",
    "gender_null['participant_gender']"
   ],
   "metadata": {
    "collapsed": false,
    "pycharm": {
     "name": "#%%\n"
    }
   }
  },
  {
   "cell_type": "markdown",
   "source": [
    "For the continuous variable we'll choose longitude, and we'll use the regression random forest\n",
    "This time we will use different set of features for the prediction: state and city_or_county.\n",
    "It's very likely to predict longitude based on the city, at least with minor errors."
   ],
   "metadata": {
    "collapsed": false,
    "pycharm": {
     "name": "#%% md\n"
    }
   }
  },
  {
   "cell_type": "code",
   "execution_count": 17,
   "outputs": [],
   "source": [
    "df = pd.read_csv(\"ex2.csv\")\n",
    "\n",
    "df_longitude = df[['state', 'city_or_county', 'longitude']]\n",
    "df_longitude = pd.get_dummies(df_longitude, columns=['state', 'city_or_county'])\n",
    "\n",
    "null_longitude = df_longitude[df_longitude['longitude'].isnull()]\n",
    "no_null_longitude = df_longitude[~df_longitude['longitude'].isnull()]"
   ],
   "metadata": {
    "collapsed": false,
    "pycharm": {
     "name": "#%%\n"
    }
   }
  },
  {
   "cell_type": "code",
   "execution_count": 18,
   "outputs": [
    {
     "data": {
      "text/plain": "       state_Alabama  state_Alaska  state_Arizona  state_Arkansas  \\\n0                  0             0              0               0   \n1                  0             0              0               0   \n2                  0             0              0               0   \n3                  0             0              0               0   \n4                  0             0              0               0   \n...              ...           ...            ...             ...   \n29995              0             0              0               0   \n29996              0             0              0               0   \n29997              0             0              0               0   \n29998              0             0              0               0   \n29999              0             0              0               0   \n\n       state_California  state_Colorado  state_Connecticut  state_Delaware  \\\n0                     1               0                  0               0   \n1                     0               0                  0               0   \n2                     0               0                  0               0   \n3                     0               0                  0               0   \n4                     0               0                  0               0   \n...                 ...             ...                ...             ...   \n29995                 0               0                  0               0   \n29996                 0               0                  0               0   \n29997                 0               0                  0               0   \n29998                 0               0                  0               0   \n29999                 0               0                  0               0   \n\n       state_District of Columbia  state_Florida  ...  city_or_county_Yukon  \\\n0                               0              0  ...                     0   \n1                               0              0  ...                     0   \n2                               0              0  ...                     0   \n3                               0              0  ...                     0   \n4                               0              0  ...                     0   \n...                           ...            ...  ...                   ...   \n29995                           0              0  ...                     0   \n29996                           0              0  ...                     0   \n29997                           0              0  ...                     0   \n29998                           0              0  ...                     0   \n29999                           0              0  ...                     0   \n\n       city_or_county_Yulee  city_or_county_Yuma  city_or_county_Zanesville  \\\n0                         0                    0                          0   \n1                         0                    0                          0   \n2                         0                    0                          0   \n3                         0                    0                          0   \n4                         0                    0                          0   \n...                     ...                  ...                        ...   \n29995                     0                    0                          0   \n29996                     0                    0                          0   \n29997                     0                    0                          0   \n29998                     0                    0                          0   \n29999                     0                    0                          0   \n\n       city_or_county_Zebulon  city_or_county_Zephyrhills  \\\n0                           0                           0   \n1                           0                           0   \n2                           0                           0   \n3                           0                           0   \n4                           0                           0   \n...                       ...                         ...   \n29995                       0                           0   \n29996                       0                           0   \n29997                       0                           0   \n29998                       0                           0   \n29999                       0                           0   \n\n       city_or_county_Zillah  city_or_county_Zion  city_or_county_Zionsville  \\\n0                          0                    0                          0   \n1                          0                    0                          0   \n2                          0                    0                          0   \n3                          0                    0                          0   \n4                          0                    0                          0   \n...                      ...                  ...                        ...   \n29995                      0                    0                          0   \n29996                      0                    0                          0   \n29997                      0                    0                          0   \n29998                      0                    0                          0   \n29999                      0                    0                          0   \n\n       city_or_county_Zwolle  \n0                          0  \n1                          0  \n2                          0  \n3                          0  \n4                          0  \n...                      ...  \n29995                      0  \n29996                      0  \n29997                      0  \n29998                      0  \n29999                      0  \n\n[28982 rows x 4834 columns]",
      "text/html": "<div>\n<style scoped>\n    .dataframe tbody tr th:only-of-type {\n        vertical-align: middle;\n    }\n\n    .dataframe tbody tr th {\n        vertical-align: top;\n    }\n\n    .dataframe thead th {\n        text-align: right;\n    }\n</style>\n<table border=\"1\" class=\"dataframe\">\n  <thead>\n    <tr style=\"text-align: right;\">\n      <th></th>\n      <th>state_Alabama</th>\n      <th>state_Alaska</th>\n      <th>state_Arizona</th>\n      <th>state_Arkansas</th>\n      <th>state_California</th>\n      <th>state_Colorado</th>\n      <th>state_Connecticut</th>\n      <th>state_Delaware</th>\n      <th>state_District of Columbia</th>\n      <th>state_Florida</th>\n      <th>...</th>\n      <th>city_or_county_Yukon</th>\n      <th>city_or_county_Yulee</th>\n      <th>city_or_county_Yuma</th>\n      <th>city_or_county_Zanesville</th>\n      <th>city_or_county_Zebulon</th>\n      <th>city_or_county_Zephyrhills</th>\n      <th>city_or_county_Zillah</th>\n      <th>city_or_county_Zion</th>\n      <th>city_or_county_Zionsville</th>\n      <th>city_or_county_Zwolle</th>\n    </tr>\n  </thead>\n  <tbody>\n    <tr>\n      <th>0</th>\n      <td>0</td>\n      <td>0</td>\n      <td>0</td>\n      <td>0</td>\n      <td>1</td>\n      <td>0</td>\n      <td>0</td>\n      <td>0</td>\n      <td>0</td>\n      <td>0</td>\n      <td>...</td>\n      <td>0</td>\n      <td>0</td>\n      <td>0</td>\n      <td>0</td>\n      <td>0</td>\n      <td>0</td>\n      <td>0</td>\n      <td>0</td>\n      <td>0</td>\n      <td>0</td>\n    </tr>\n    <tr>\n      <th>1</th>\n      <td>0</td>\n      <td>0</td>\n      <td>0</td>\n      <td>0</td>\n      <td>0</td>\n      <td>0</td>\n      <td>0</td>\n      <td>0</td>\n      <td>0</td>\n      <td>0</td>\n      <td>...</td>\n      <td>0</td>\n      <td>0</td>\n      <td>0</td>\n      <td>0</td>\n      <td>0</td>\n      <td>0</td>\n      <td>0</td>\n      <td>0</td>\n      <td>0</td>\n      <td>0</td>\n    </tr>\n    <tr>\n      <th>2</th>\n      <td>0</td>\n      <td>0</td>\n      <td>0</td>\n      <td>0</td>\n      <td>0</td>\n      <td>0</td>\n      <td>0</td>\n      <td>0</td>\n      <td>0</td>\n      <td>0</td>\n      <td>...</td>\n      <td>0</td>\n      <td>0</td>\n      <td>0</td>\n      <td>0</td>\n      <td>0</td>\n      <td>0</td>\n      <td>0</td>\n      <td>0</td>\n      <td>0</td>\n      <td>0</td>\n    </tr>\n    <tr>\n      <th>3</th>\n      <td>0</td>\n      <td>0</td>\n      <td>0</td>\n      <td>0</td>\n      <td>0</td>\n      <td>0</td>\n      <td>0</td>\n      <td>0</td>\n      <td>0</td>\n      <td>0</td>\n      <td>...</td>\n      <td>0</td>\n      <td>0</td>\n      <td>0</td>\n      <td>0</td>\n      <td>0</td>\n      <td>0</td>\n      <td>0</td>\n      <td>0</td>\n      <td>0</td>\n      <td>0</td>\n    </tr>\n    <tr>\n      <th>4</th>\n      <td>0</td>\n      <td>0</td>\n      <td>0</td>\n      <td>0</td>\n      <td>0</td>\n      <td>0</td>\n      <td>0</td>\n      <td>0</td>\n      <td>0</td>\n      <td>0</td>\n      <td>...</td>\n      <td>0</td>\n      <td>0</td>\n      <td>0</td>\n      <td>0</td>\n      <td>0</td>\n      <td>0</td>\n      <td>0</td>\n      <td>0</td>\n      <td>0</td>\n      <td>0</td>\n    </tr>\n    <tr>\n      <th>...</th>\n      <td>...</td>\n      <td>...</td>\n      <td>...</td>\n      <td>...</td>\n      <td>...</td>\n      <td>...</td>\n      <td>...</td>\n      <td>...</td>\n      <td>...</td>\n      <td>...</td>\n      <td>...</td>\n      <td>...</td>\n      <td>...</td>\n      <td>...</td>\n      <td>...</td>\n      <td>...</td>\n      <td>...</td>\n      <td>...</td>\n      <td>...</td>\n      <td>...</td>\n      <td>...</td>\n    </tr>\n    <tr>\n      <th>29995</th>\n      <td>0</td>\n      <td>0</td>\n      <td>0</td>\n      <td>0</td>\n      <td>0</td>\n      <td>0</td>\n      <td>0</td>\n      <td>0</td>\n      <td>0</td>\n      <td>0</td>\n      <td>...</td>\n      <td>0</td>\n      <td>0</td>\n      <td>0</td>\n      <td>0</td>\n      <td>0</td>\n      <td>0</td>\n      <td>0</td>\n      <td>0</td>\n      <td>0</td>\n      <td>0</td>\n    </tr>\n    <tr>\n      <th>29996</th>\n      <td>0</td>\n      <td>0</td>\n      <td>0</td>\n      <td>0</td>\n      <td>0</td>\n      <td>0</td>\n      <td>0</td>\n      <td>0</td>\n      <td>0</td>\n      <td>0</td>\n      <td>...</td>\n      <td>0</td>\n      <td>0</td>\n      <td>0</td>\n      <td>0</td>\n      <td>0</td>\n      <td>0</td>\n      <td>0</td>\n      <td>0</td>\n      <td>0</td>\n      <td>0</td>\n    </tr>\n    <tr>\n      <th>29997</th>\n      <td>0</td>\n      <td>0</td>\n      <td>0</td>\n      <td>0</td>\n      <td>0</td>\n      <td>0</td>\n      <td>0</td>\n      <td>0</td>\n      <td>0</td>\n      <td>0</td>\n      <td>...</td>\n      <td>0</td>\n      <td>0</td>\n      <td>0</td>\n      <td>0</td>\n      <td>0</td>\n      <td>0</td>\n      <td>0</td>\n      <td>0</td>\n      <td>0</td>\n      <td>0</td>\n    </tr>\n    <tr>\n      <th>29998</th>\n      <td>0</td>\n      <td>0</td>\n      <td>0</td>\n      <td>0</td>\n      <td>0</td>\n      <td>0</td>\n      <td>0</td>\n      <td>0</td>\n      <td>0</td>\n      <td>0</td>\n      <td>...</td>\n      <td>0</td>\n      <td>0</td>\n      <td>0</td>\n      <td>0</td>\n      <td>0</td>\n      <td>0</td>\n      <td>0</td>\n      <td>0</td>\n      <td>0</td>\n      <td>0</td>\n    </tr>\n    <tr>\n      <th>29999</th>\n      <td>0</td>\n      <td>0</td>\n      <td>0</td>\n      <td>0</td>\n      <td>0</td>\n      <td>0</td>\n      <td>0</td>\n      <td>0</td>\n      <td>0</td>\n      <td>0</td>\n      <td>...</td>\n      <td>0</td>\n      <td>0</td>\n      <td>0</td>\n      <td>0</td>\n      <td>0</td>\n      <td>0</td>\n      <td>0</td>\n      <td>0</td>\n      <td>0</td>\n      <td>0</td>\n    </tr>\n  </tbody>\n</table>\n<p>28982 rows × 4834 columns</p>\n</div>"
     },
     "execution_count": 18,
     "metadata": {},
     "output_type": "execute_result"
    }
   ],
   "source": [
    "X = no_null_longitude.drop(columns=['longitude'])\n",
    "y = no_null_longitude['longitude']\n",
    "X"
   ],
   "metadata": {
    "collapsed": false,
    "pycharm": {
     "name": "#%%\n"
    }
   }
  },
  {
   "cell_type": "code",
   "execution_count": 19,
   "outputs": [],
   "source": [
    "X_train, X_test, y_train, y_test = train_test_split(X, y, test_size=0.33)"
   ],
   "metadata": {
    "collapsed": false,
    "pycharm": {
     "name": "#%%\n"
    }
   }
  },
  {
   "cell_type": "code",
   "execution_count": 20,
   "outputs": [
    {
     "data": {
      "text/plain": "0.9070246312161556"
     },
     "execution_count": 20,
     "metadata": {},
     "output_type": "execute_result"
    }
   ],
   "source": [
    "rfr = RandomForestRegressor(100, max_depth=20)\n",
    "rfr.fit(X_train, y_train)\n",
    "rfr.score(X_test,y_test)"
   ],
   "metadata": {
    "collapsed": false,
    "pycharm": {
     "name": "#%%\n"
    }
   }
  },
  {
   "cell_type": "markdown",
   "source": [
    "And now for the prediction:"
   ],
   "metadata": {
    "collapsed": false,
    "pycharm": {
     "name": "#%% md\n"
    }
   }
  },
  {
   "cell_type": "code",
   "execution_count": 21,
   "outputs": [
    {
     "name": "stderr",
     "output_type": "stream",
     "text": [
      "<ipython-input-21-d541fce9108f>:1: SettingWithCopyWarning: \n",
      "A value is trying to be set on a copy of a slice from a DataFrame.\n",
      "Try using .loc[row_indexer,col_indexer] = value instead\n",
      "\n",
      "See the caveats in the documentation: https://pandas.pydata.org/pandas-docs/stable/user_guide/indexing.html#returning-a-view-versus-a-copy\n",
      "  null_longitude['longitude'] = rfr.predict(null_longitude.drop(columns=[\"longitude\"]))\n"
     ]
    },
    {
     "data": {
      "text/plain": "18       -85.600568\n192      -85.549192\n204      -84.762045\n213      -85.600568\n222     -119.140201\n            ...    \n29838    -85.600568\n29883    -85.600568\n29949    -74.336093\n29954    -95.396123\n29962    -77.103837\nName: longitude, Length: 1018, dtype: float64"
     },
     "execution_count": 21,
     "metadata": {},
     "output_type": "execute_result"
    }
   ],
   "source": [
    "null_longitude['longitude'] = rfr.predict(null_longitude.drop(columns=[\"longitude\"]))\n",
    "null_longitude['longitude']"
   ],
   "metadata": {
    "collapsed": false,
    "pycharm": {
     "name": "#%%\n"
    }
   }
  },
  {
   "cell_type": "markdown",
   "source": [
    "### 1.b)\n",
    "I've decided to work on the \"gun_type\" feature.\n",
    "I'm aware that sometimes the data refers to more than one gun, but I will focus on the first value that's in the cell."
   ],
   "metadata": {
    "collapsed": false,
    "pycharm": {
     "name": "#%% md\n"
    }
   }
  },
  {
   "cell_type": "code",
   "execution_count": 4,
   "outputs": [
    {
     "data": {
      "text/plain": "Unknown    12253\nHandgun     2047\n9mm          692\nAuto         605\nShotgun      336\nRifle        328\nLR           320\nSW           286\nSpl          200\ngauge        112\nRem          112\nMag          105\nOther         82\nAK            72\nWin           17\n0mm            6\nSpr            4\nName: Gun, dtype: int64"
     },
     "execution_count": 4,
     "metadata": {},
     "output_type": "execute_result"
    }
   ],
   "source": [
    "df = pd.read_csv(\"ex2.csv\")\n",
    "df['incident_characteristics'].value_counts()\n",
    "df['Gun']=df.gun_type.str.extract('([A-Za-z]+|[0-9][mm]+)')\n",
    "df['Gun'].value_counts()"
   ],
   "metadata": {
    "collapsed": false,
    "pycharm": {
     "name": "#%%\n"
    }
   }
  },
  {
   "cell_type": "markdown",
   "source": [
    "I'll define 2 sets of guns: Rifles (=big guns), and Handguns (=small guns).\n",
    "I'll say that the specific type of the gun is not relevant (at least for the sake of this question).\n",
    "I'll also keep the 'Unknown' type and combine in with 'Other'"
   ],
   "metadata": {
    "collapsed": false,
    "pycharm": {
     "name": "#%% md\n"
    }
   }
  },
  {
   "cell_type": "code",
   "execution_count": 5,
   "outputs": [
    {
     "data": {
      "text/plain": "0        Unknown\n1        Handgun\n2        Unknown\n3          Rifle\n4          Rifle\n          ...   \n29995      Rifle\n29996    Handgun\n29997      Rifle\n29998    Unknown\n29999    Unknown\nName: Gun, Length: 30000, dtype: object"
     },
     "execution_count": 5,
     "metadata": {},
     "output_type": "execute_result"
    }
   ],
   "source": [
    "def combine_guns(x):\n",
    "    if x in [\"Handgun\",\"9mm\",\"0mm\", \"Win\",\"Spl\", \"Spr\"]:\n",
    "        return 'Handgun'\n",
    "    if x in [\"Other\", \"Unknown\"]:\n",
    "        return 'Unknown'\n",
    "    else:\n",
    "        return 'Rifle'\n",
    "df[\"Gun\"] = df[\"Gun\"].apply(lambda x:combine_guns(x))\n",
    "df['Gun']"
   ],
   "metadata": {
    "collapsed": false,
    "pycharm": {
     "name": "#%%\n"
    }
   }
  },
  {
   "cell_type": "markdown",
   "source": [
    "### 2.a)\n",
    "I would add some information on the population in the city where the crime took place. That way, if we know for example that this\n",
    "city has a lot of poor people or a lot of gun-stores, maybe we can conclude that crimes would be more violent there that in other places\n",
    "where there are many good schools and higher social-economical class."
   ],
   "metadata": {
    "collapsed": false,
    "pycharm": {
     "name": "#%% md\n"
    }
   }
  },
  {
   "cell_type": "markdown",
   "source": [
    "### 2.b)\n",
    "I chose to add the median income of each state. I did it by taking all median incomes of all counties in the state, and take the average over it.\n",
    "In reality, maybe adding the data of each county is better, but in our data we have the feature 'city_or_county', so it was vry hard to map it to this data which contains only counties, so I chose going with states."
   ],
   "metadata": {
    "collapsed": false,
    "pycharm": {
     "name": "#%% md\n"
    }
   }
  },
  {
   "cell_type": "code",
   "execution_count": 29,
   "outputs": [
    {
     "data": {
      "text/plain": "   state_abbreviation  INC110213\n0                  AK      62611\n1                  AL      37778\n2                  AR      35861\n3                  AZ      42891\n4                  CA      55558\n5                  CO      50853\n6                  CT      70502\n7                  DC      65830\n8                  DE      57465\n9                  FL      43715\n10                 GA      40365\n11                 HI      61790\n12                 IA      49242\n13                 ID      42883\n14                 IL      49112\n15                 IN      47863\n16                 KS      46166\n17                 KY      38526\n18                 LA      42016\n19                 MA      64871\n20                 MD      69403\n21                 ME      45581\n22                 MI      43618\n23                 MN      52327\n24                 MO      41126\n25                 MS      34599\n26                 MT      43596\n27                 NC      41523\n28                 ND      51645\n29                 NE      46594\n30                 NH      58739\n31                 NJ      72386\n32                 NM      40431\n33                 NV      52270\n34                 NY      54496\n35                 OH      47136\n36                 OK      42642\n37                 OR      45103\n38                 PA      49212\n39                 RI      65333\n40                 SC      39188\n41                 SD      45649\n42                 TN      39357\n43                 TX      45651\n44                 UT      53591\n45                 VA      52468\n46                 VT      51800\n47                 WA      49359\n48                 WI      49474\n49                 WV      38216\n50                 WY      55930",
      "text/html": "<div>\n<style scoped>\n    .dataframe tbody tr th:only-of-type {\n        vertical-align: middle;\n    }\n\n    .dataframe tbody tr th {\n        vertical-align: top;\n    }\n\n    .dataframe thead th {\n        text-align: right;\n    }\n</style>\n<table border=\"1\" class=\"dataframe\">\n  <thead>\n    <tr style=\"text-align: right;\">\n      <th></th>\n      <th>state_abbreviation</th>\n      <th>INC110213</th>\n    </tr>\n  </thead>\n  <tbody>\n    <tr>\n      <th>0</th>\n      <td>AK</td>\n      <td>62611</td>\n    </tr>\n    <tr>\n      <th>1</th>\n      <td>AL</td>\n      <td>37778</td>\n    </tr>\n    <tr>\n      <th>2</th>\n      <td>AR</td>\n      <td>35861</td>\n    </tr>\n    <tr>\n      <th>3</th>\n      <td>AZ</td>\n      <td>42891</td>\n    </tr>\n    <tr>\n      <th>4</th>\n      <td>CA</td>\n      <td>55558</td>\n    </tr>\n    <tr>\n      <th>5</th>\n      <td>CO</td>\n      <td>50853</td>\n    </tr>\n    <tr>\n      <th>6</th>\n      <td>CT</td>\n      <td>70502</td>\n    </tr>\n    <tr>\n      <th>7</th>\n      <td>DC</td>\n      <td>65830</td>\n    </tr>\n    <tr>\n      <th>8</th>\n      <td>DE</td>\n      <td>57465</td>\n    </tr>\n    <tr>\n      <th>9</th>\n      <td>FL</td>\n      <td>43715</td>\n    </tr>\n    <tr>\n      <th>10</th>\n      <td>GA</td>\n      <td>40365</td>\n    </tr>\n    <tr>\n      <th>11</th>\n      <td>HI</td>\n      <td>61790</td>\n    </tr>\n    <tr>\n      <th>12</th>\n      <td>IA</td>\n      <td>49242</td>\n    </tr>\n    <tr>\n      <th>13</th>\n      <td>ID</td>\n      <td>42883</td>\n    </tr>\n    <tr>\n      <th>14</th>\n      <td>IL</td>\n      <td>49112</td>\n    </tr>\n    <tr>\n      <th>15</th>\n      <td>IN</td>\n      <td>47863</td>\n    </tr>\n    <tr>\n      <th>16</th>\n      <td>KS</td>\n      <td>46166</td>\n    </tr>\n    <tr>\n      <th>17</th>\n      <td>KY</td>\n      <td>38526</td>\n    </tr>\n    <tr>\n      <th>18</th>\n      <td>LA</td>\n      <td>42016</td>\n    </tr>\n    <tr>\n      <th>19</th>\n      <td>MA</td>\n      <td>64871</td>\n    </tr>\n    <tr>\n      <th>20</th>\n      <td>MD</td>\n      <td>69403</td>\n    </tr>\n    <tr>\n      <th>21</th>\n      <td>ME</td>\n      <td>45581</td>\n    </tr>\n    <tr>\n      <th>22</th>\n      <td>MI</td>\n      <td>43618</td>\n    </tr>\n    <tr>\n      <th>23</th>\n      <td>MN</td>\n      <td>52327</td>\n    </tr>\n    <tr>\n      <th>24</th>\n      <td>MO</td>\n      <td>41126</td>\n    </tr>\n    <tr>\n      <th>25</th>\n      <td>MS</td>\n      <td>34599</td>\n    </tr>\n    <tr>\n      <th>26</th>\n      <td>MT</td>\n      <td>43596</td>\n    </tr>\n    <tr>\n      <th>27</th>\n      <td>NC</td>\n      <td>41523</td>\n    </tr>\n    <tr>\n      <th>28</th>\n      <td>ND</td>\n      <td>51645</td>\n    </tr>\n    <tr>\n      <th>29</th>\n      <td>NE</td>\n      <td>46594</td>\n    </tr>\n    <tr>\n      <th>30</th>\n      <td>NH</td>\n      <td>58739</td>\n    </tr>\n    <tr>\n      <th>31</th>\n      <td>NJ</td>\n      <td>72386</td>\n    </tr>\n    <tr>\n      <th>32</th>\n      <td>NM</td>\n      <td>40431</td>\n    </tr>\n    <tr>\n      <th>33</th>\n      <td>NV</td>\n      <td>52270</td>\n    </tr>\n    <tr>\n      <th>34</th>\n      <td>NY</td>\n      <td>54496</td>\n    </tr>\n    <tr>\n      <th>35</th>\n      <td>OH</td>\n      <td>47136</td>\n    </tr>\n    <tr>\n      <th>36</th>\n      <td>OK</td>\n      <td>42642</td>\n    </tr>\n    <tr>\n      <th>37</th>\n      <td>OR</td>\n      <td>45103</td>\n    </tr>\n    <tr>\n      <th>38</th>\n      <td>PA</td>\n      <td>49212</td>\n    </tr>\n    <tr>\n      <th>39</th>\n      <td>RI</td>\n      <td>65333</td>\n    </tr>\n    <tr>\n      <th>40</th>\n      <td>SC</td>\n      <td>39188</td>\n    </tr>\n    <tr>\n      <th>41</th>\n      <td>SD</td>\n      <td>45649</td>\n    </tr>\n    <tr>\n      <th>42</th>\n      <td>TN</td>\n      <td>39357</td>\n    </tr>\n    <tr>\n      <th>43</th>\n      <td>TX</td>\n      <td>45651</td>\n    </tr>\n    <tr>\n      <th>44</th>\n      <td>UT</td>\n      <td>53591</td>\n    </tr>\n    <tr>\n      <th>45</th>\n      <td>VA</td>\n      <td>52468</td>\n    </tr>\n    <tr>\n      <th>46</th>\n      <td>VT</td>\n      <td>51800</td>\n    </tr>\n    <tr>\n      <th>47</th>\n      <td>WA</td>\n      <td>49359</td>\n    </tr>\n    <tr>\n      <th>48</th>\n      <td>WI</td>\n      <td>49474</td>\n    </tr>\n    <tr>\n      <th>49</th>\n      <td>WV</td>\n      <td>38216</td>\n    </tr>\n    <tr>\n      <th>50</th>\n      <td>WY</td>\n      <td>55930</td>\n    </tr>\n  </tbody>\n</table>\n</div>"
     },
     "execution_count": 29,
     "metadata": {},
     "output_type": "execute_result"
    }
   ],
   "source": [
    "df = pd.read_csv(\"county_facts.csv\")\n",
    "df = df[['state_abbreviation', 'INC110213']]\n",
    "yearly_income = df.groupby(['state_abbreviation']).mean().astype(int)\n",
    "yearly_income.reset_index()"
   ],
   "metadata": {
    "collapsed": false,
    "pycharm": {
     "name": "#%%\n"
    }
   }
  },
  {
   "cell_type": "markdown",
   "source": [
    "Now we'll make a dictionary mapping the state to the average yearly income:"
   ],
   "metadata": {
    "collapsed": false,
    "pycharm": {
     "name": "#%% md\n"
    }
   }
  },
  {
   "cell_type": "code",
   "execution_count": 30,
   "outputs": [
    {
     "data": {
      "text/plain": "{'AK': 62611,\n 'AL': 37778,\n 'AR': 35861,\n 'AZ': 42891,\n 'CA': 55558,\n 'CO': 50853,\n 'CT': 70502,\n 'DC': 65830,\n 'DE': 57465,\n 'FL': 43715,\n 'GA': 40365,\n 'HI': 61790,\n 'IA': 49242,\n 'ID': 42883,\n 'IL': 49112,\n 'IN': 47863,\n 'KS': 46166,\n 'KY': 38526,\n 'LA': 42016,\n 'MA': 64871,\n 'MD': 69403,\n 'ME': 45581,\n 'MI': 43618,\n 'MN': 52327,\n 'MO': 41126,\n 'MS': 34599,\n 'MT': 43596,\n 'NC': 41523,\n 'ND': 51645,\n 'NE': 46594,\n 'NH': 58739,\n 'NJ': 72386,\n 'NM': 40431,\n 'NV': 52270,\n 'NY': 54496,\n 'OH': 47136,\n 'OK': 42642,\n 'OR': 45103,\n 'PA': 49212,\n 'RI': 65333,\n 'SC': 39188,\n 'SD': 45649,\n 'TN': 39357,\n 'TX': 45651,\n 'UT': 53591,\n 'VA': 52468,\n 'VT': 51800,\n 'WA': 49359,\n 'WI': 49474,\n 'WV': 38216,\n 'WY': 55930}"
     },
     "execution_count": 30,
     "metadata": {},
     "output_type": "execute_result"
    }
   ],
   "source": [
    "state_to_income = {}\n",
    "for index, row in yearly_income.reset_index().iterrows():\n",
    "    state_to_income[row[0]] = row[1]\n",
    "state_to_income"
   ],
   "metadata": {
    "collapsed": false,
    "pycharm": {
     "name": "#%%\n"
    }
   }
  },
  {
   "cell_type": "markdown",
   "source": [
    "Now we'll add the new data to ex2.csv. I'll use a dictionary to map the state abbreviation to the full name of the state (taken from: \"https://gist.github.com/rogerallen/1583593\")"
   ],
   "metadata": {
    "collapsed": false,
    "pycharm": {
     "name": "#%% md\n"
    }
   }
  },
  {
   "cell_type": "code",
   "execution_count": 31,
   "outputs": [],
   "source": [
    "df = pd.read_csv(\"ex2.csv\")\n",
    "us_state_to_abbrev = {\n",
    "    \"Alabama\": \"AL\",\n",
    "    \"Alaska\": \"AK\",\n",
    "    \"Arizona\": \"AZ\",\n",
    "    \"Arkansas\": \"AR\",\n",
    "    \"California\": \"CA\",\n",
    "    \"Colorado\": \"CO\",\n",
    "    \"Connecticut\": \"CT\",\n",
    "    \"Delaware\": \"DE\",\n",
    "    \"Florida\": \"FL\",\n",
    "    \"Georgia\": \"GA\",\n",
    "    \"Hawaii\": \"HI\",\n",
    "    \"Idaho\": \"ID\",\n",
    "    \"Illinois\": \"IL\",\n",
    "    \"Indiana\": \"IN\",\n",
    "    \"Iowa\": \"IA\",\n",
    "    \"Kansas\": \"KS\",\n",
    "    \"Kentucky\": \"KY\",\n",
    "    \"Louisiana\": \"LA\",\n",
    "    \"Maine\": \"ME\",\n",
    "    \"Maryland\": \"MD\",\n",
    "    \"Massachusetts\": \"MA\",\n",
    "    \"Michigan\": \"MI\",\n",
    "    \"Minnesota\": \"MN\",\n",
    "    \"Mississippi\": \"MS\",\n",
    "    \"Missouri\": \"MO\",\n",
    "    \"Montana\": \"MT\",\n",
    "    \"Nebraska\": \"NE\",\n",
    "    \"Nevada\": \"NV\",\n",
    "    \"New Hampshire\": \"NH\",\n",
    "    \"New Jersey\": \"NJ\",\n",
    "    \"New Mexico\": \"NM\",\n",
    "    \"New York\": \"NY\",\n",
    "    \"North Carolina\": \"NC\",\n",
    "    \"North Dakota\": \"ND\",\n",
    "    \"Ohio\": \"OH\",\n",
    "    \"Oklahoma\": \"OK\",\n",
    "    \"Oregon\": \"OR\",\n",
    "    \"Pennsylvania\": \"PA\",\n",
    "    \"Rhode Island\": \"RI\",\n",
    "    \"South Carolina\": \"SC\",\n",
    "    \"South Dakota\": \"SD\",\n",
    "    \"Tennessee\": \"TN\",\n",
    "    \"Texas\": \"TX\",\n",
    "    \"Utah\": \"UT\",\n",
    "    \"Vermont\": \"VT\",\n",
    "    \"Virginia\": \"VA\",\n",
    "    \"Washington\": \"WA\",\n",
    "    \"West Virginia\": \"WV\",\n",
    "    \"Wisconsin\": \"WI\",\n",
    "    \"Wyoming\": \"WY\",\n",
    "    \"District of Columbia\": \"DC\",\n",
    "    \"American Samoa\": \"AS\",\n",
    "    \"Guam\": \"GU\",\n",
    "    \"Northern Mariana Islands\": \"MP\",\n",
    "    \"Puerto Rico\": \"PR\",\n",
    "    \"United States Minor Outlying Islands\": \"UM\",\n",
    "    \"U.S. Virgin Islands\": \"VI\",\n",
    "}\n",
    "\n"
   ],
   "metadata": {
    "collapsed": false,
    "pycharm": {
     "name": "#%%\n"
    }
   }
  },
  {
   "cell_type": "code",
   "execution_count": 32,
   "outputs": [],
   "source": [
    "def map_state_to_income(x):\n",
    "    return state_to_income[us_state_to_abbrev[x]]"
   ],
   "metadata": {
    "collapsed": false,
    "pycharm": {
     "name": "#%%\n"
    }
   }
  },
  {
   "cell_type": "code",
   "execution_count": 33,
   "outputs": [
    {
     "data": {
      "text/plain": "       Unnamed: 0  incident_id        date           state  \\\n0          194704       877945  2017-06-25      California   \n1          103375       467550  2015-12-15         Georgia   \n2          216952       983151  2017-11-04  North Carolina   \n3          140445       626752  2016-08-11           Texas   \n4           72670       349392  2015-05-30        New York   \n...           ...          ...         ...             ...   \n29995       75127       359015  2015-06-14         Georgia   \n29996       45912       576123  2014-11-11        New York   \n29997       44397       214500  2014-10-31      Washington   \n29998      238964      1079004  2018-03-26        Virginia   \n29999      169777       823447  2017-02-01        Oklahoma   \n\n                 city_or_county                            address  n_killed  \\\n0      Humboldt County (county)                                NaN         0   \n1             Gwinnett (county)                                NaN         0   \n2                   Rocky Mount           1000 Block of Niblick Dr         0   \n3                        Odessa               3939 Tanglewood Lane         0   \n4                    Amityville             15, 21 Rosewood Avenue         1   \n...                         ...                                ...       ...   \n29995                 Grovetown              5220 Wrightsboro Road         0   \n29996                   Yonkers                                NaN         0   \n29997                       Roy                  216 McNaught St S         0   \n29998              Newport News          4500 block of Baughman Ct         0   \n29999                     Tulsa  N Birmingham Ave and E Woodrow Pl         0   \n\n       n_injured  congressional_district  \\\n0              0                     2.0   \n1              0                     7.0   \n2              0                     2.0   \n3              0                    11.0   \n4              2                     2.0   \n...          ...                     ...   \n29995          0                    12.0   \n29996          0                    16.0   \n29997          0                    10.0   \n29998          1                     3.0   \n29999          0                     1.0   \n\n                                              gun_stolen  ...  \\\n0                                             0::Unknown  ...   \n1                                             0::Unknown  ...   \n2                                             0::Unknown  ...   \n3      0::Unknown||1::Unknown||2::Unknown||3::Unknown...  ...   \n4                                                    NaN  ...   \n...                                                  ...  ...   \n29995                                          0::Stolen  ...   \n29996                                         0::Unknown  ...   \n29997                                                NaN  ...   \n29998                                         0::Unknown  ...   \n29999                                         0::Unknown  ...   \n\n                  participant_age  \\\n0                             NaN   \n1                             NaN   \n2                             NaN   \n3                    0::23||1::24   \n4      0::44||1::38||2::37||3::38   \n...                           ...   \n29995                       0::38   \n29996                       0::20   \n29997                         NaN   \n29998                       0::21   \n29999                       0::26   \n\n                                   participant_age_group  \\\n0                                           0::Adult 18+   \n1                                                    NaN   \n2                                                    NaN   \n3      0::Adult 18+||1::Adult 18+||2::Adult 18+||3::A...   \n4      0::Adult 18+||1::Adult 18+||2::Adult 18+||3::A...   \n...                                                  ...   \n29995                                       0::Adult 18+   \n29996                                       0::Adult 18+   \n29997                                                NaN   \n29998                                       0::Adult 18+   \n29999                                       0::Adult 18+   \n\n                                      participant_gender  \\\n0                                                    NaN   \n1                                       0::Male||1::Male   \n2                                                    NaN   \n3      0::Male||1::Female||2::Male||3::Male||4::Male|...   \n4                     0::Male||1::Male||2::Male||3::Male   \n...                                                  ...   \n29995                                            0::Male   \n29996                                            0::Male   \n29997                                                NaN   \n29998                                   0::Male||1::Male   \n29999                                            0::Male   \n\n                                        participant_name  \\\n0                              0::Manuel Robert Alvidrez   \n1                 0::Eric Cotto||1::Christopher Anderson   \n2                                                    NaN   \n3                                                    NaN   \n4      0::Louis Wilson||1::Shaun Wilson||2::Junious W...   \n...                                                  ...   \n29995                                  0::Kenneth Temple   \n29996                                 0::Kevin Wiltshire   \n29997                                                NaN   \n29998                                                NaN   \n29999                            0::Adrian Jebree Sample   \n\n                                participant_relationship  \\\n0                                                    NaN   \n1                                                    NaN   \n2                                                    NaN   \n3      2::Home Invasion - Perp Does Not Know Victim||...   \n4                                                    NaN   \n...                                                  ...   \n29995                                                NaN   \n29996                                                NaN   \n29997                                                NaN   \n29998                                                NaN   \n29999                                                NaN   \n\n                                      participant_status  \\\n0                                  0::Unharmed, Arrested   \n1                                            0::Unharmed   \n2                                                    NaN   \n3      0::Unharmed||1::Unharmed||2::Unharmed||3::Unha...   \n4      0::Killed||1::Injured||2::Injured||3::Unharmed...   \n...                                                  ...   \n29995                              0::Unharmed, Arrested   \n29996                              0::Unharmed, Arrested   \n29997                                                NaN   \n29998                            0::Injured||1::Unharmed   \n29999                              0::Unharmed, Arrested   \n\n                                        participant_type state_house_district  \\\n0                                     0::Subject-Suspect                  2.0   \n1                          0::Victim||1::Subject-Suspect                102.0   \n2                                                    NaN                  7.0   \n3      0::Victim||1::Victim||2::Subject-Suspect||3::S...                 81.0   \n4      0::Victim||1::Victim||2::Victim||3::Subject-Su...                 11.0   \n...                                                  ...                  ...   \n29995                                 0::Subject-Suspect                121.0   \n29996                                 0::Subject-Suspect                 90.0   \n29997                                                NaN                  2.0   \n29998                      0::Victim||1::Subject-Suspect                 95.0   \n29999                                 0::Subject-Suspect                 72.0   \n\n      state_senate_district state_median_yearly_income  \n0                       2.0                      55558  \n1                      45.0                      40365  \n2                       4.0                      41523  \n3                      31.0                      45651  \n4                       8.0                      54496  \n...                     ...                        ...  \n29995                  23.0                      40365  \n29996                  35.0                      54496  \n29997                   2.0                      49359  \n29998                   2.0                      52468  \n29999                  11.0                      42642  \n\n[30000 rows x 27 columns]",
      "text/html": "<div>\n<style scoped>\n    .dataframe tbody tr th:only-of-type {\n        vertical-align: middle;\n    }\n\n    .dataframe tbody tr th {\n        vertical-align: top;\n    }\n\n    .dataframe thead th {\n        text-align: right;\n    }\n</style>\n<table border=\"1\" class=\"dataframe\">\n  <thead>\n    <tr style=\"text-align: right;\">\n      <th></th>\n      <th>Unnamed: 0</th>\n      <th>incident_id</th>\n      <th>date</th>\n      <th>state</th>\n      <th>city_or_county</th>\n      <th>address</th>\n      <th>n_killed</th>\n      <th>n_injured</th>\n      <th>congressional_district</th>\n      <th>gun_stolen</th>\n      <th>...</th>\n      <th>participant_age</th>\n      <th>participant_age_group</th>\n      <th>participant_gender</th>\n      <th>participant_name</th>\n      <th>participant_relationship</th>\n      <th>participant_status</th>\n      <th>participant_type</th>\n      <th>state_house_district</th>\n      <th>state_senate_district</th>\n      <th>state_median_yearly_income</th>\n    </tr>\n  </thead>\n  <tbody>\n    <tr>\n      <th>0</th>\n      <td>194704</td>\n      <td>877945</td>\n      <td>2017-06-25</td>\n      <td>California</td>\n      <td>Humboldt County (county)</td>\n      <td>NaN</td>\n      <td>0</td>\n      <td>0</td>\n      <td>2.0</td>\n      <td>0::Unknown</td>\n      <td>...</td>\n      <td>NaN</td>\n      <td>0::Adult 18+</td>\n      <td>NaN</td>\n      <td>0::Manuel Robert Alvidrez</td>\n      <td>NaN</td>\n      <td>0::Unharmed, Arrested</td>\n      <td>0::Subject-Suspect</td>\n      <td>2.0</td>\n      <td>2.0</td>\n      <td>55558</td>\n    </tr>\n    <tr>\n      <th>1</th>\n      <td>103375</td>\n      <td>467550</td>\n      <td>2015-12-15</td>\n      <td>Georgia</td>\n      <td>Gwinnett (county)</td>\n      <td>NaN</td>\n      <td>0</td>\n      <td>0</td>\n      <td>7.0</td>\n      <td>0::Unknown</td>\n      <td>...</td>\n      <td>NaN</td>\n      <td>NaN</td>\n      <td>0::Male||1::Male</td>\n      <td>0::Eric Cotto||1::Christopher Anderson</td>\n      <td>NaN</td>\n      <td>0::Unharmed</td>\n      <td>0::Victim||1::Subject-Suspect</td>\n      <td>102.0</td>\n      <td>45.0</td>\n      <td>40365</td>\n    </tr>\n    <tr>\n      <th>2</th>\n      <td>216952</td>\n      <td>983151</td>\n      <td>2017-11-04</td>\n      <td>North Carolina</td>\n      <td>Rocky Mount</td>\n      <td>1000 Block of Niblick Dr</td>\n      <td>0</td>\n      <td>0</td>\n      <td>2.0</td>\n      <td>0::Unknown</td>\n      <td>...</td>\n      <td>NaN</td>\n      <td>NaN</td>\n      <td>NaN</td>\n      <td>NaN</td>\n      <td>NaN</td>\n      <td>NaN</td>\n      <td>NaN</td>\n      <td>7.0</td>\n      <td>4.0</td>\n      <td>41523</td>\n    </tr>\n    <tr>\n      <th>3</th>\n      <td>140445</td>\n      <td>626752</td>\n      <td>2016-08-11</td>\n      <td>Texas</td>\n      <td>Odessa</td>\n      <td>3939 Tanglewood Lane</td>\n      <td>0</td>\n      <td>0</td>\n      <td>11.0</td>\n      <td>0::Unknown||1::Unknown||2::Unknown||3::Unknown...</td>\n      <td>...</td>\n      <td>0::23||1::24</td>\n      <td>0::Adult 18+||1::Adult 18+||2::Adult 18+||3::A...</td>\n      <td>0::Male||1::Female||2::Male||3::Male||4::Male|...</td>\n      <td>NaN</td>\n      <td>2::Home Invasion - Perp Does Not Know Victim||...</td>\n      <td>0::Unharmed||1::Unharmed||2::Unharmed||3::Unha...</td>\n      <td>0::Victim||1::Victim||2::Subject-Suspect||3::S...</td>\n      <td>81.0</td>\n      <td>31.0</td>\n      <td>45651</td>\n    </tr>\n    <tr>\n      <th>4</th>\n      <td>72670</td>\n      <td>349392</td>\n      <td>2015-05-30</td>\n      <td>New York</td>\n      <td>Amityville</td>\n      <td>15, 21 Rosewood Avenue</td>\n      <td>1</td>\n      <td>2</td>\n      <td>2.0</td>\n      <td>NaN</td>\n      <td>...</td>\n      <td>0::44||1::38||2::37||3::38</td>\n      <td>0::Adult 18+||1::Adult 18+||2::Adult 18+||3::A...</td>\n      <td>0::Male||1::Male||2::Male||3::Male</td>\n      <td>0::Louis Wilson||1::Shaun Wilson||2::Junious W...</td>\n      <td>NaN</td>\n      <td>0::Killed||1::Injured||2::Injured||3::Unharmed...</td>\n      <td>0::Victim||1::Victim||2::Victim||3::Subject-Su...</td>\n      <td>11.0</td>\n      <td>8.0</td>\n      <td>54496</td>\n    </tr>\n    <tr>\n      <th>...</th>\n      <td>...</td>\n      <td>...</td>\n      <td>...</td>\n      <td>...</td>\n      <td>...</td>\n      <td>...</td>\n      <td>...</td>\n      <td>...</td>\n      <td>...</td>\n      <td>...</td>\n      <td>...</td>\n      <td>...</td>\n      <td>...</td>\n      <td>...</td>\n      <td>...</td>\n      <td>...</td>\n      <td>...</td>\n      <td>...</td>\n      <td>...</td>\n      <td>...</td>\n      <td>...</td>\n    </tr>\n    <tr>\n      <th>29995</th>\n      <td>75127</td>\n      <td>359015</td>\n      <td>2015-06-14</td>\n      <td>Georgia</td>\n      <td>Grovetown</td>\n      <td>5220 Wrightsboro Road</td>\n      <td>0</td>\n      <td>0</td>\n      <td>12.0</td>\n      <td>0::Stolen</td>\n      <td>...</td>\n      <td>0::38</td>\n      <td>0::Adult 18+</td>\n      <td>0::Male</td>\n      <td>0::Kenneth Temple</td>\n      <td>NaN</td>\n      <td>0::Unharmed, Arrested</td>\n      <td>0::Subject-Suspect</td>\n      <td>121.0</td>\n      <td>23.0</td>\n      <td>40365</td>\n    </tr>\n    <tr>\n      <th>29996</th>\n      <td>45912</td>\n      <td>576123</td>\n      <td>2014-11-11</td>\n      <td>New York</td>\n      <td>Yonkers</td>\n      <td>NaN</td>\n      <td>0</td>\n      <td>0</td>\n      <td>16.0</td>\n      <td>0::Unknown</td>\n      <td>...</td>\n      <td>0::20</td>\n      <td>0::Adult 18+</td>\n      <td>0::Male</td>\n      <td>0::Kevin Wiltshire</td>\n      <td>NaN</td>\n      <td>0::Unharmed, Arrested</td>\n      <td>0::Subject-Suspect</td>\n      <td>90.0</td>\n      <td>35.0</td>\n      <td>54496</td>\n    </tr>\n    <tr>\n      <th>29997</th>\n      <td>44397</td>\n      <td>214500</td>\n      <td>2014-10-31</td>\n      <td>Washington</td>\n      <td>Roy</td>\n      <td>216 McNaught St S</td>\n      <td>0</td>\n      <td>0</td>\n      <td>10.0</td>\n      <td>NaN</td>\n      <td>...</td>\n      <td>NaN</td>\n      <td>NaN</td>\n      <td>NaN</td>\n      <td>NaN</td>\n      <td>NaN</td>\n      <td>NaN</td>\n      <td>NaN</td>\n      <td>2.0</td>\n      <td>2.0</td>\n      <td>49359</td>\n    </tr>\n    <tr>\n      <th>29998</th>\n      <td>238964</td>\n      <td>1079004</td>\n      <td>2018-03-26</td>\n      <td>Virginia</td>\n      <td>Newport News</td>\n      <td>4500 block of Baughman Ct</td>\n      <td>0</td>\n      <td>1</td>\n      <td>3.0</td>\n      <td>0::Unknown</td>\n      <td>...</td>\n      <td>0::21</td>\n      <td>0::Adult 18+</td>\n      <td>0::Male||1::Male</td>\n      <td>NaN</td>\n      <td>NaN</td>\n      <td>0::Injured||1::Unharmed</td>\n      <td>0::Victim||1::Subject-Suspect</td>\n      <td>95.0</td>\n      <td>2.0</td>\n      <td>52468</td>\n    </tr>\n    <tr>\n      <th>29999</th>\n      <td>169777</td>\n      <td>823447</td>\n      <td>2017-02-01</td>\n      <td>Oklahoma</td>\n      <td>Tulsa</td>\n      <td>N Birmingham Ave and E Woodrow Pl</td>\n      <td>0</td>\n      <td>0</td>\n      <td>1.0</td>\n      <td>0::Unknown</td>\n      <td>...</td>\n      <td>0::26</td>\n      <td>0::Adult 18+</td>\n      <td>0::Male</td>\n      <td>0::Adrian Jebree Sample</td>\n      <td>NaN</td>\n      <td>0::Unharmed, Arrested</td>\n      <td>0::Subject-Suspect</td>\n      <td>72.0</td>\n      <td>11.0</td>\n      <td>42642</td>\n    </tr>\n  </tbody>\n</table>\n<p>30000 rows × 27 columns</p>\n</div>"
     },
     "execution_count": 33,
     "metadata": {},
     "output_type": "execute_result"
    }
   ],
   "source": [
    "df['state_median_yearly_income'] = df['state']\n",
    "df['state_median_yearly_income'] = df['state_median_yearly_income'].apply(map_state_to_income)\n",
    "df"
   ],
   "metadata": {
    "collapsed": false,
    "pycharm": {
     "name": "#%%\n"
    }
   }
  },
  {
   "cell_type": "markdown",
   "source": [
    "### 3.a)\n",
    "First I will aggregate the month and the number of injured within each state, to see if there are months with more violent crimes in general.\n",
    "I'll first extract the month from the date feature and then aggregate as we learned in class:"
   ],
   "metadata": {
    "collapsed": false,
    "pycharm": {
     "name": "#%% md\n"
    }
   }
  },
  {
   "cell_type": "code",
   "execution_count": 26,
   "outputs": [
    {
     "data": {
      "text/plain": "0        6\n1        6\n2        6\n3        6\n4        6\n        ..\n29995    5\n29996    5\n29997    3\n29998    3\n29999    3\nName: month, Length: 30000, dtype: int64"
     },
     "execution_count": 26,
     "metadata": {},
     "output_type": "execute_result"
    }
   ],
   "source": [
    "def extract_month(x):\n",
    "    return int(x[5:-3])\n",
    "df['month'] = df['date'].apply(extract_month)\n",
    "df['month']"
   ],
   "metadata": {
    "collapsed": false,
    "pycharm": {
     "name": "#%%\n"
    }
   }
  },
  {
   "cell_type": "code",
   "execution_count": 27,
   "outputs": [
    {
     "data": {
      "text/plain": "              n_injured_in_month\n                            mean\nstate   month                   \nAlabama 1                   86.0\n        2                   55.0\n        3                   79.0\n        4                   51.0\n        5                   47.0\n...                          ...\nWyoming 8                    4.0\n        9                    4.0\n        10                   3.0\n        11                   4.0\n        12                   7.0\n\n[610 rows x 1 columns]",
      "text/html": "<div>\n<style scoped>\n    .dataframe tbody tr th:only-of-type {\n        vertical-align: middle;\n    }\n\n    .dataframe tbody tr th {\n        vertical-align: top;\n    }\n\n    .dataframe thead tr th {\n        text-align: left;\n    }\n\n    .dataframe thead tr:last-of-type th {\n        text-align: right;\n    }\n</style>\n<table border=\"1\" class=\"dataframe\">\n  <thead>\n    <tr>\n      <th></th>\n      <th></th>\n      <th>n_injured_in_month</th>\n    </tr>\n    <tr>\n      <th></th>\n      <th></th>\n      <th>mean</th>\n    </tr>\n    <tr>\n      <th>state</th>\n      <th>month</th>\n      <th></th>\n    </tr>\n  </thead>\n  <tbody>\n    <tr>\n      <th rowspan=\"5\" valign=\"top\">Alabama</th>\n      <th>1</th>\n      <td>86.0</td>\n    </tr>\n    <tr>\n      <th>2</th>\n      <td>55.0</td>\n    </tr>\n    <tr>\n      <th>3</th>\n      <td>79.0</td>\n    </tr>\n    <tr>\n      <th>4</th>\n      <td>51.0</td>\n    </tr>\n    <tr>\n      <th>5</th>\n      <td>47.0</td>\n    </tr>\n    <tr>\n      <th>...</th>\n      <th>...</th>\n      <td>...</td>\n    </tr>\n    <tr>\n      <th rowspan=\"5\" valign=\"top\">Wyoming</th>\n      <th>8</th>\n      <td>4.0</td>\n    </tr>\n    <tr>\n      <th>9</th>\n      <td>4.0</td>\n    </tr>\n    <tr>\n      <th>10</th>\n      <td>3.0</td>\n    </tr>\n    <tr>\n      <th>11</th>\n      <td>4.0</td>\n    </tr>\n    <tr>\n      <th>12</th>\n      <td>7.0</td>\n    </tr>\n  </tbody>\n</table>\n<p>610 rows × 1 columns</p>\n</div>"
     },
     "execution_count": 27,
     "metadata": {},
     "output_type": "execute_result"
    }
   ],
   "source": [
    "counter = df.groupby([\"state\",\"month\"]).count().reset_index()[[\"state\",\"month\",\"n_injured\"]].rename(columns={\"n_injured\":\"n_injured_in_month\"})\n",
    "df = df.merge(counter,on = [\"state\",\"month\"])\n",
    "df.groupby([\"state\",\"month\"]).agg({\"n_injured_in_month\":[\"mean\"]})"
   ],
   "metadata": {
    "collapsed": false,
    "pycharm": {
     "name": "#%%\n"
    }
   }
  },
  {
   "cell_type": "markdown",
   "source": [
    "The second aggregation I'll do will be a combination of the median income (a feature I've added before), and the number of killed people in the accident. I'll show the mean number of killed people for every crime that happened in a state with 'x' income"
   ],
   "metadata": {
    "collapsed": false,
    "pycharm": {
     "name": "#%% md\n"
    }
   }
  },
  {
   "cell_type": "code",
   "execution_count": 39,
   "outputs": [
    {
     "data": {
      "text/plain": "                           n_killed_per_income\n                                          mean\nstate_median_yearly_income                    \n34599                                    476.0\n35861                                    326.0\n37778                                    676.0\n38216                                    192.0\n38526                                    523.0\n39188                                    856.0\n39357                                    984.0\n40365                                   1144.0\n40431                                    216.0\n41126                                    807.0\n41523                                   1086.0\n42016                                   1072.0\n42642                                    410.0\n42883                                     83.0\n42891                                    290.0\n43596                                     76.0\n43618                                    790.0\n43715                                   1863.0\n45103                                    304.0\n45581                                    109.0\n45649                                     70.0\n45651                                   1719.0\n46166                                    266.0\n46594                                    245.0\n47136                                   1236.0\n47863                                    746.0\n49112                                   2165.0\n49212                                   1131.0\n49242                                    306.0\n49359                                    445.0\n49474                                    594.0\n50853                                    407.0\n51645                                     69.0\n51800                                     48.0\n52270                                    233.0\n52327                                    311.0\n52468                                    740.0\n53591                                    122.0\n54496                                   1258.0\n55558                                   1992.0\n55930                                     57.0\n57465                                    188.0\n58739                                    125.0\n61790                                     36.0\n62611                                    185.0\n64871                                    714.0\n65333                                    128.0\n65830                                    404.0\n69403                                    724.0\n70502                                    365.0\n72386                                    688.0",
      "text/html": "<div>\n<style scoped>\n    .dataframe tbody tr th:only-of-type {\n        vertical-align: middle;\n    }\n\n    .dataframe tbody tr th {\n        vertical-align: top;\n    }\n\n    .dataframe thead tr th {\n        text-align: left;\n    }\n\n    .dataframe thead tr:last-of-type th {\n        text-align: right;\n    }\n</style>\n<table border=\"1\" class=\"dataframe\">\n  <thead>\n    <tr>\n      <th></th>\n      <th>n_killed_per_income</th>\n    </tr>\n    <tr>\n      <th></th>\n      <th>mean</th>\n    </tr>\n    <tr>\n      <th>state_median_yearly_income</th>\n      <th></th>\n    </tr>\n  </thead>\n  <tbody>\n    <tr>\n      <th>34599</th>\n      <td>476.0</td>\n    </tr>\n    <tr>\n      <th>35861</th>\n      <td>326.0</td>\n    </tr>\n    <tr>\n      <th>37778</th>\n      <td>676.0</td>\n    </tr>\n    <tr>\n      <th>38216</th>\n      <td>192.0</td>\n    </tr>\n    <tr>\n      <th>38526</th>\n      <td>523.0</td>\n    </tr>\n    <tr>\n      <th>39188</th>\n      <td>856.0</td>\n    </tr>\n    <tr>\n      <th>39357</th>\n      <td>984.0</td>\n    </tr>\n    <tr>\n      <th>40365</th>\n      <td>1144.0</td>\n    </tr>\n    <tr>\n      <th>40431</th>\n      <td>216.0</td>\n    </tr>\n    <tr>\n      <th>41126</th>\n      <td>807.0</td>\n    </tr>\n    <tr>\n      <th>41523</th>\n      <td>1086.0</td>\n    </tr>\n    <tr>\n      <th>42016</th>\n      <td>1072.0</td>\n    </tr>\n    <tr>\n      <th>42642</th>\n      <td>410.0</td>\n    </tr>\n    <tr>\n      <th>42883</th>\n      <td>83.0</td>\n    </tr>\n    <tr>\n      <th>42891</th>\n      <td>290.0</td>\n    </tr>\n    <tr>\n      <th>43596</th>\n      <td>76.0</td>\n    </tr>\n    <tr>\n      <th>43618</th>\n      <td>790.0</td>\n    </tr>\n    <tr>\n      <th>43715</th>\n      <td>1863.0</td>\n    </tr>\n    <tr>\n      <th>45103</th>\n      <td>304.0</td>\n    </tr>\n    <tr>\n      <th>45581</th>\n      <td>109.0</td>\n    </tr>\n    <tr>\n      <th>45649</th>\n      <td>70.0</td>\n    </tr>\n    <tr>\n      <th>45651</th>\n      <td>1719.0</td>\n    </tr>\n    <tr>\n      <th>46166</th>\n      <td>266.0</td>\n    </tr>\n    <tr>\n      <th>46594</th>\n      <td>245.0</td>\n    </tr>\n    <tr>\n      <th>47136</th>\n      <td>1236.0</td>\n    </tr>\n    <tr>\n      <th>47863</th>\n      <td>746.0</td>\n    </tr>\n    <tr>\n      <th>49112</th>\n      <td>2165.0</td>\n    </tr>\n    <tr>\n      <th>49212</th>\n      <td>1131.0</td>\n    </tr>\n    <tr>\n      <th>49242</th>\n      <td>306.0</td>\n    </tr>\n    <tr>\n      <th>49359</th>\n      <td>445.0</td>\n    </tr>\n    <tr>\n      <th>49474</th>\n      <td>594.0</td>\n    </tr>\n    <tr>\n      <th>50853</th>\n      <td>407.0</td>\n    </tr>\n    <tr>\n      <th>51645</th>\n      <td>69.0</td>\n    </tr>\n    <tr>\n      <th>51800</th>\n      <td>48.0</td>\n    </tr>\n    <tr>\n      <th>52270</th>\n      <td>233.0</td>\n    </tr>\n    <tr>\n      <th>52327</th>\n      <td>311.0</td>\n    </tr>\n    <tr>\n      <th>52468</th>\n      <td>740.0</td>\n    </tr>\n    <tr>\n      <th>53591</th>\n      <td>122.0</td>\n    </tr>\n    <tr>\n      <th>54496</th>\n      <td>1258.0</td>\n    </tr>\n    <tr>\n      <th>55558</th>\n      <td>1992.0</td>\n    </tr>\n    <tr>\n      <th>55930</th>\n      <td>57.0</td>\n    </tr>\n    <tr>\n      <th>57465</th>\n      <td>188.0</td>\n    </tr>\n    <tr>\n      <th>58739</th>\n      <td>125.0</td>\n    </tr>\n    <tr>\n      <th>61790</th>\n      <td>36.0</td>\n    </tr>\n    <tr>\n      <th>62611</th>\n      <td>185.0</td>\n    </tr>\n    <tr>\n      <th>64871</th>\n      <td>714.0</td>\n    </tr>\n    <tr>\n      <th>65333</th>\n      <td>128.0</td>\n    </tr>\n    <tr>\n      <th>65830</th>\n      <td>404.0</td>\n    </tr>\n    <tr>\n      <th>69403</th>\n      <td>724.0</td>\n    </tr>\n    <tr>\n      <th>70502</th>\n      <td>365.0</td>\n    </tr>\n    <tr>\n      <th>72386</th>\n      <td>688.0</td>\n    </tr>\n  </tbody>\n</table>\n</div>"
     },
     "execution_count": 39,
     "metadata": {},
     "output_type": "execute_result"
    }
   ],
   "source": [
    "counter = df.groupby([\"state_median_yearly_income\"]).count().reset_index()[[\"state_median_yearly_income\",\"n_killed\"]].rename(\n",
    "    columns={\"n_killed\": \"n_killed_per_income\"})\n",
    "df = df.merge(counter,on = [\"state_median_yearly_income\"])\n",
    "df.groupby([\"state_median_yearly_income\"]).agg({\"n_killed_per_income\": [\"mean\"]})"
   ],
   "metadata": {
    "collapsed": false,
    "pycharm": {
     "name": "#%%\n"
    }
   }
  },
  {
   "cell_type": "markdown",
   "source": [
    "Just out of curiosity, let's plot the results of the above and see if there are more killed people in poorer areas, per crime:"
   ],
   "metadata": {
    "collapsed": false,
    "pycharm": {
     "name": "#%% md\n"
    }
   }
  },
  {
   "cell_type": "code",
   "execution_count": 49,
   "outputs": [
    {
     "data": {
      "text/plain": "[<matplotlib.lines.Line2D at 0x12f991d2e80>]"
     },
     "execution_count": 49,
     "metadata": {},
     "output_type": "execute_result"
    },
    {
     "data": {
      "text/plain": "<Figure size 432x288 with 1 Axes>",
      "image/png": "[encoded data removed]"
     },
     "metadata": {
      "needs_background": "light"
     },
     "output_type": "display_data"
    }
   ],
   "source": [
    "p = df.groupby([\"state_median_yearly_income\"]).agg({\"n_killed_per_income\": [\"mean\"]})\n",
    "p = p.reset_index()\n",
    "plt.plot(p['state_median_yearly_income'], p['n_killed_per_income'])"
   ],
   "metadata": {
    "collapsed": false,
    "pycharm": {
     "name": "#%%\n"
    }
   }
  }
 ],
 "metadata": {
  "kernelspec": {
   "display_name": "Python 3",
   "language": "python",
   "name": "python3"
  },
  "language_info": {
   "codemirror_mode": {
    "name": "ipython",
    "version": 2
   },
   "file_extension": ".py",
   "mimetype": "text/x-python",
   "name": "python",
   "nbconvert_exporter": "python",
   "pygments_lexer": "ipython2",
   "version": "2.7.6"
  }
 },
 "nbformat": 4,
 "nbformat_minor": 0
}