{
 "cells": [
  {
   "cell_type": "markdown",
   "source": [
    "# Ex1 - Raz Bareli"
   ],
   "metadata": {
    "collapsed": false,
    "pycharm": {
     "name": "#%% md\n"
    }
   }
  },
  {
   "cell_type": "code",
   "execution_count": 2,
   "outputs": [],
   "source": [
    "import pandas as pd\n",
    "import matplotlib.pyplot as plt\n",
    "import seaborn as sns"
   ],
   "metadata": {
    "collapsed": false,
    "pycharm": {
     "name": "#%%\n"
    }
   }
  },
  {
   "cell_type": "markdown",
   "source": [
    "### 1.a"
   ],
   "metadata": {
    "collapsed": false
   }
  },
  {
   "cell_type": "code",
   "execution_count": 3,
   "outputs": [
    {
     "data": {
      "text/plain": "   Unnamed: 0  incident_id        date           state city_or_county  \\\n0           0       137007  2016-07-23            Utah         Draper   \n1           1        49807  2014-12-13              -1        Chicago   \n2           2         2318  2014-01-15  south carolina           Irmo   \n3           3       237635  2018-03-18              -1        Detroit   \n4           4       238068  2018-03-21        Michigan  Benton Harbor   \n\n                             address  n_killed  n_injured  \\\n0                        12300 South         0          1   \n1  10400 block of South State Street        -1          0   \n2                1 Forest Walk Court         4          0   \n3     5600 BLOCK OF JOHN C LODGE FWY         0          0   \n4           1200 block of Parkway Dr         0          0   \n\n   congressional_district  gun_stolen  ...  \\\n0                     4.0         NaN  ...   \n1                     2.0  0::Unknown  ...   \n2                     2.0         NaN  ...   \n3                     NaN  0::Unknown  ...   \n4                     6.0   0::Stolen  ...   \n\n                                               notes  \\\n0  Man wanted for prior agg asault shot self in h...   \n1                                Man shot, drive-by;   \n2                                                NaN   \n3                                                NaN   \n4                         raid, drug, stolen handgun   \n\n              participant_age  \\\n0                       0::30   \n1                       0::26   \n2    0::28||1::3||2::1||3::38   \n3                         NaN   \n4  0::34||1::39||2::31||3::47   \n\n                               participant_age_group  \\\n0                                       0::Adult 18+   \n1                                       0::Adult 18+   \n2  0::Adult 18+||1::Child 0-11||2::Child 0-11||3:...   \n3                                                NaN   \n4  0::Adult 18+||1::Adult 18+||2::Adult 18+||3::A...   \n\n                       participant_gender  \\\n0                                 0::Male   \n1                                 0::Male   \n2  0::Female||1::Male||2::Female||3::Male   \n3                                     NaN   \n4      0::Male||1::Male||2::Male||3::Male   \n\n                                    participant_name  \\\n0                                    0::Eddie Heuser   \n1                               0::Tyrece L. Stornes   \n2  0::Kia Miller||1::Kyler Devane Miller||2::Syra...   \n3                                                NaN   \n4  0::Sylvester Davis III||1::Leonard Robinson||2...   \n\n   participant_relationship  \\\n0                       NaN   \n1                       NaN   \n2                 3::Family   \n3                       NaN   \n4                       NaN   \n\n                                  participant_status  \\\n0                                         0::Injured   \n1                                          0::Killed   \n2         0::Killed||1::Killed||2::Killed||3::Killed   \n3                                                NaN   \n4  0::Unharmed, Arrested||1::Unharmed, Arrested||...   \n\n                                    participant_type state_house_district  \\\n0                                 0::Subject-Suspect                 51.0   \n1                                          0::Victim                 28.0   \n2  0::Victim||1::Victim||2::Victim||3::Subject-Su...                 73.0   \n3                                                NaN                  NaN   \n4  0::Subject-Suspect||1::Subject-Suspect||2::Sub...                 79.0   \n\n  state_senate_district  \n0                  11.0  \n1                  14.0  \n2                  19.0  \n3                   NaN  \n4                  21.0  \n\n[5 rows x 26 columns]",
      "text/html": "<div>\n<style scoped>\n    .dataframe tbody tr th:only-of-type {\n        vertical-align: middle;\n    }\n\n    .dataframe tbody tr th {\n        vertical-align: top;\n    }\n\n    .dataframe thead th {\n        text-align: right;\n    }\n</style>\n<table border=\"1\" class=\"dataframe\">\n  <thead>\n    <tr style=\"text-align: right;\">\n      <th></th>\n      <th>Unnamed: 0</th>\n      <th>incident_id</th>\n      <th>date</th>\n      <th>state</th>\n      <th>city_or_county</th>\n      <th>address</th>\n      <th>n_killed</th>\n      <th>n_injured</th>\n      <th>congressional_district</th>\n      <th>gun_stolen</th>\n      <th>...</th>\n      <th>notes</th>\n      <th>participant_age</th>\n      <th>participant_age_group</th>\n      <th>participant_gender</th>\n      <th>participant_name</th>\n      <th>participant_relationship</th>\n      <th>participant_status</th>\n      <th>participant_type</th>\n      <th>state_house_district</th>\n      <th>state_senate_district</th>\n    </tr>\n  </thead>\n  <tbody>\n    <tr>\n      <th>0</th>\n      <td>0</td>\n      <td>137007</td>\n      <td>2016-07-23</td>\n      <td>Utah</td>\n      <td>Draper</td>\n      <td>12300 South</td>\n      <td>0</td>\n      <td>1</td>\n      <td>4.0</td>\n      <td>NaN</td>\n      <td>...</td>\n      <td>Man wanted for prior agg asault shot self in h...</td>\n      <td>0::30</td>\n      <td>0::Adult 18+</td>\n      <td>0::Male</td>\n      <td>0::Eddie Heuser</td>\n      <td>NaN</td>\n      <td>0::Injured</td>\n      <td>0::Subject-Suspect</td>\n      <td>51.0</td>\n      <td>11.0</td>\n    </tr>\n    <tr>\n      <th>1</th>\n      <td>1</td>\n      <td>49807</td>\n      <td>2014-12-13</td>\n      <td>-1</td>\n      <td>Chicago</td>\n      <td>10400 block of South State Street</td>\n      <td>-1</td>\n      <td>0</td>\n      <td>2.0</td>\n      <td>0::Unknown</td>\n      <td>...</td>\n      <td>Man shot, drive-by;</td>\n      <td>0::26</td>\n      <td>0::Adult 18+</td>\n      <td>0::Male</td>\n      <td>0::Tyrece L. Stornes</td>\n      <td>NaN</td>\n      <td>0::Killed</td>\n      <td>0::Victim</td>\n      <td>28.0</td>\n      <td>14.0</td>\n    </tr>\n    <tr>\n      <th>2</th>\n      <td>2</td>\n      <td>2318</td>\n      <td>2014-01-15</td>\n      <td>south carolina</td>\n      <td>Irmo</td>\n      <td>1 Forest Walk Court</td>\n      <td>4</td>\n      <td>0</td>\n      <td>2.0</td>\n      <td>NaN</td>\n      <td>...</td>\n      <td>NaN</td>\n      <td>0::28||1::3||2::1||3::38</td>\n      <td>0::Adult 18+||1::Child 0-11||2::Child 0-11||3:...</td>\n      <td>0::Female||1::Male||2::Female||3::Male</td>\n      <td>0::Kia Miller||1::Kyler Devane Miller||2::Syra...</td>\n      <td>3::Family</td>\n      <td>0::Killed||1::Killed||2::Killed||3::Killed</td>\n      <td>0::Victim||1::Victim||2::Victim||3::Subject-Su...</td>\n      <td>73.0</td>\n      <td>19.0</td>\n    </tr>\n    <tr>\n      <th>3</th>\n      <td>3</td>\n      <td>237635</td>\n      <td>2018-03-18</td>\n      <td>-1</td>\n      <td>Detroit</td>\n      <td>5600 BLOCK OF JOHN C LODGE FWY</td>\n      <td>0</td>\n      <td>0</td>\n      <td>NaN</td>\n      <td>0::Unknown</td>\n      <td>...</td>\n      <td>NaN</td>\n      <td>NaN</td>\n      <td>NaN</td>\n      <td>NaN</td>\n      <td>NaN</td>\n      <td>NaN</td>\n      <td>NaN</td>\n      <td>NaN</td>\n      <td>NaN</td>\n      <td>NaN</td>\n    </tr>\n    <tr>\n      <th>4</th>\n      <td>4</td>\n      <td>238068</td>\n      <td>2018-03-21</td>\n      <td>Michigan</td>\n      <td>Benton Harbor</td>\n      <td>1200 block of Parkway Dr</td>\n      <td>0</td>\n      <td>0</td>\n      <td>6.0</td>\n      <td>0::Stolen</td>\n      <td>...</td>\n      <td>raid, drug, stolen handgun</td>\n      <td>0::34||1::39||2::31||3::47</td>\n      <td>0::Adult 18+||1::Adult 18+||2::Adult 18+||3::A...</td>\n      <td>0::Male||1::Male||2::Male||3::Male</td>\n      <td>0::Sylvester Davis III||1::Leonard Robinson||2...</td>\n      <td>NaN</td>\n      <td>0::Unharmed, Arrested||1::Unharmed, Arrested||...</td>\n      <td>0::Subject-Suspect||1::Subject-Suspect||2::Sub...</td>\n      <td>79.0</td>\n      <td>21.0</td>\n    </tr>\n  </tbody>\n</table>\n<p>5 rows × 26 columns</p>\n</div>"
     },
     "execution_count": 3,
     "metadata": {},
     "output_type": "execute_result"
    }
   ],
   "source": [
    "dataset = pd.read_csv(\"ex1.csv\")\n",
    "dataset.head()"
   ],
   "metadata": {
    "collapsed": false,
    "pycharm": {
     "name": "#%%\n"
    }
   }
  },
  {
   "cell_type": "markdown",
   "source": [
    "Categorical features are features that can be divided into different categories, for example: state, city_or_country, participant_gender, participant_age_group.\n",
    "Ordinal features are features that are categorical but with a certain hierarchy between the categories, and I couldn't find such in the database.\n",
    "The continues features are: Latitude, longitude, participants_age."
   ],
   "metadata": {
    "collapsed": false,
    "pycharm": {
     "name": "#%% md\n"
    }
   }
  },
  {
   "cell_type": "markdown",
   "source": [
    "### 1.b\n",
    "I've chosen state and gender:"
   ],
   "metadata": {
    "collapsed": false,
    "pycharm": {
     "name": "#%% md\n"
    }
   }
  },
  {
   "cell_type": "code",
   "execution_count": 4,
   "outputs": [
    {
     "name": "stderr",
     "output_type": "stream",
     "text": [
      "C:\\Users\\97250\\anaconda3\\lib\\site-packages\\seaborn\\_decorators.py:36: FutureWarning: Pass the following variable as a keyword arg: x. From version 0.12, the only valid positional argument will be `data`, and passing other arguments without an explicit keyword will result in an error or misinterpretation.\n",
      "  warnings.warn(\n"
     ]
    },
    {
     "data": {
      "text/plain": "<AxesSubplot:xlabel='state', ylabel='count'>"
     },
     "execution_count": 4,
     "metadata": {},
     "output_type": "execute_result"
    },
    {
     "data": {
      "text/plain": "<Figure size 432x288 with 1 Axes>",
      "image/png": "[encoded data removed]"
     },
     "metadata": {
      "needs_background": "light"
     },
     "output_type": "display_data"
    }
   ],
   "source": [
    "sns.countplot('state',data=dataset)"
   ],
   "metadata": {
    "collapsed": false,
    "pycharm": {
     "name": "#%%\n"
    }
   }
  },
  {
   "cell_type": "code",
   "execution_count": 5,
   "outputs": [
    {
     "data": {
      "text/plain": "103"
     },
     "execution_count": 5,
     "metadata": {},
     "output_type": "execute_result"
    }
   ],
   "source": [
    "dataset['state'].value_counts().shape[0]"
   ],
   "metadata": {
    "collapsed": false,
    "pycharm": {
     "name": "#%%\n"
    }
   }
  },
  {
   "cell_type": "code",
   "execution_count": 6,
   "outputs": [
    {
     "name": "stderr",
     "output_type": "stream",
     "text": [
      "C:\\Users\\97250\\anaconda3\\lib\\site-packages\\seaborn\\_decorators.py:36: FutureWarning: Pass the following variable as a keyword arg: x. From version 0.12, the only valid positional argument will be `data`, and passing other arguments without an explicit keyword will result in an error or misinterpretation.\n",
      "  warnings.warn(\n"
     ]
    },
    {
     "data": {
      "text/plain": "<AxesSubplot:xlabel='participant_gender', ylabel='count'>"
     },
     "execution_count": 6,
     "metadata": {},
     "output_type": "execute_result"
    },
    {
     "data": {
      "text/plain": "<Figure size 432x288 with 1 Axes>",
      "image/png": "[encoded data removed]"
     },
     "metadata": {
      "needs_background": "light"
     },
     "output_type": "display_data"
    }
   ],
   "source": [
    "sns.countplot('participant_gender',data=dataset)"
   ],
   "metadata": {
    "collapsed": false,
    "pycharm": {
     "name": "#%%\n"
    }
   }
  },
  {
   "cell_type": "code",
   "execution_count": 7,
   "outputs": [
    {
     "data": {
      "text/plain": "251"
     },
     "execution_count": 7,
     "metadata": {},
     "output_type": "execute_result"
    }
   ],
   "source": [
    "dataset['participant_gender'].value_counts().shape[0]"
   ],
   "metadata": {
    "collapsed": false,
    "pycharm": {
     "name": "#%%\n"
    }
   }
  },
  {
   "cell_type": "markdown",
   "source": [
    "for the state feature, we have 103 unique features and for the gender we have 251. That's of course something we should address, since we expect to have 2 categories in \"gender\" and 52 in \"state\".\n",
    "Both are far from being uniformly distributed - there are much more male values than women, and some states appear more times than others."
   ],
   "metadata": {
    "collapsed": false,
    "pycharm": {
     "name": "#%% md\n"
    }
   }
  },
  {
   "cell_type": "markdown",
   "source": [
    "### 2.a\n",
    "yes, most of the columns have null values, as we can see below:"
   ],
   "metadata": {
    "collapsed": false,
    "pycharm": {
     "name": "#%% md\n"
    }
   }
  },
  {
   "cell_type": "code",
   "execution_count": 8,
   "outputs": [
    {
     "data": {
      "text/plain": "Unnamed: 0                      0\nincident_id                     0\ndate                            0\nstate                           0\ncity_or_county                  0\naddress                      1640\nn_killed                        0\nn_injured                       0\ncongressional_district       1187\ngun_stolen                   9952\ngun_type                     9950\nincident_characteristics       29\nlatitude                      629\nlocation_description        19817\nlongitude                     775\nn_guns_involved              9950\nnotes                        7967\nparticipant_age              9203\nparticipant_age_group        4185\nparticipant_gender           3599\nparticipant_name            12332\nparticipant_relationship    22365\nparticipant_status           2784\nparticipant_type             2523\nstate_house_district         3953\nstate_senate_district        3285\ndtype: int64"
     },
     "execution_count": 8,
     "metadata": {},
     "output_type": "execute_result"
    }
   ],
   "source": [
    "dataset.isna().sum()"
   ],
   "metadata": {
    "collapsed": false,
    "pycharm": {
     "name": "#%%\n"
    }
   }
  },
  {
   "cell_type": "code",
   "execution_count": 9,
   "outputs": [],
   "source": [
    "for column in dataset:\n",
    "    dataset[column] = dataset[column].fillna(dataset[column].mode()[0])"
   ],
   "metadata": {
    "collapsed": false,
    "pycharm": {
     "name": "#%%\n"
    }
   }
  },
  {
   "cell_type": "markdown",
   "source": [
    "### 2.b\n",
    "1) in the column n_killed there are negative values, which doesn't make any sense. we can try and fix them with the data of column 'incident_characteristics'. we'll see if the word 'dead' appears there, if it does - well change the value to 1, else to zero. This is of course not ideal, but better than to leave it with negative values."
   ],
   "metadata": {
    "collapsed": false,
    "pycharm": {
     "name": "#%% md\n"
    }
   }
  },
  {
   "cell_type": "code",
   "execution_count": 10,
   "outputs": [
    {
     "data": {
      "text/plain": " 0    18588\n 1     3589\n-1     1246\n 2      337\n-2      129\n 3       40\n-3       20\n 4        9\n 5        4\n-4        3\n-5        2\nName: n_killed, dtype: int64"
     },
     "execution_count": 10,
     "metadata": {},
     "output_type": "execute_result"
    }
   ],
   "source": [
    "dataset['n_killed'].value_counts()"
   ],
   "metadata": {
    "collapsed": false,
    "pycharm": {
     "name": "#%%\n"
    }
   }
  },
  {
   "cell_type": "code",
   "execution_count": 11,
   "outputs": [
    {
     "data": {
      "text/plain": "0    18605\n1     4972\n2      337\n3       40\n4        9\n5        4\nName: n_killed, dtype: int64"
     },
     "execution_count": 11,
     "metadata": {},
     "output_type": "execute_result"
    }
   ],
   "source": [
    "dataset.loc[((dataset['n_killed'] < 0) & (dataset['incident_characteristics'].str.contains('Dead', regex=True))), ['n_killed']] = [1]\n",
    "dataset.loc[dataset['n_killed'] < 0, ['n_killed']] = [0]\n",
    "dataset['n_killed'].value_counts()"
   ],
   "metadata": {
    "collapsed": false,
    "pycharm": {
     "name": "#%%\n"
    }
   }
  },
  {
   "cell_type": "markdown",
   "source": [
    "2) The latitude column contains strings. well change it to zero instead, so we will have integers for all entries."
   ],
   "metadata": {
    "collapsed": false,
    "pycharm": {
     "name": "#%% md\n"
    }
   }
  },
  {
   "cell_type": "code",
   "execution_count": 12,
   "outputs": [
    {
     "data": {
      "text/plain": "0        40.5268\n1              0\n2              0\n3              0\n4              0\n          ...   \n23962          0\n23963    27.6784\n23964    42.4261\n23965    34.4736\n23966    27.7556\nName: latitude, Length: 23967, dtype: object"
     },
     "execution_count": 12,
     "metadata": {},
     "output_type": "execute_result"
    }
   ],
   "source": [
    "dataset.loc[dataset['latitude'].str.contains('man', regex=True), ['latitude']] = 0\n",
    "dataset.latitude"
   ],
   "metadata": {
    "collapsed": false,
    "pycharm": {
     "name": "#%%\n"
    }
   }
  },
  {
   "cell_type": "markdown",
   "source": [
    "3) the longtitude contains illegal values, that means, values outside the range [-180, 180]. we'll change it to zero instead like we did in latitude"
   ],
   "metadata": {
    "collapsed": false,
    "pycharm": {
     "name": "#%% md\n"
    }
   }
  },
  {
   "cell_type": "code",
   "execution_count": 13,
   "outputs": [
    {
     "data": {
      "text/plain": "0       -111.9020\n1        -87.6235\n2        -81.1525\n3        -76.6200\n4        -86.4288\n           ...   \n23962    -88.4467\n23963      0.0000\n23964    -82.9528\n23965   -117.3620\n23966    -82.6948\nName: longitude, Length: 23967, dtype: float64"
     },
     "execution_count": 13,
     "metadata": {},
     "output_type": "execute_result"
    }
   ],
   "source": [
    "dataset.loc[(dataset['longitude'] > 180) | (dataset['longitude'] < -180) , ['longitude']] = 0\n",
    "dataset.longitude"
   ],
   "metadata": {
    "collapsed": false,
    "pycharm": {
     "name": "#%%\n"
    }
   }
  },
  {
   "cell_type": "markdown",
   "source": [
    "### 3.a\n",
    "First well plot the amount of crimes per month: It looks like the amount of crimes is uniform throughout the time"
   ],
   "metadata": {
    "collapsed": false,
    "pycharm": {
     "name": "#%% md\n"
    }
   }
  },
  {
   "cell_type": "code",
   "execution_count": 34,
   "outputs": [
    {
     "data": {
      "text/plain": "Text(0.5, 1.0, 'Crimes per day')"
     },
     "execution_count": 34,
     "metadata": {},
     "output_type": "execute_result"
    },
    {
     "data": {
      "text/plain": "<Figure size 432x288 with 1 Axes>",
      "image/png": "[encoded data removed]"
     },
     "metadata": {
      "needs_background": "light"
     },
     "output_type": "display_data"
    }
   ],
   "source": [
    "def delete_day(x):\n",
    "    return x[:-3]\n",
    "\n",
    "dataset['month'] = dataset['date'].apply(delete_day)\n",
    "sns.histplot(data=dataset,x='month', binwidth=2, kde=True).set_title(\"Crimes per month\")\n"
   ],
   "metadata": {
    "collapsed": false,
    "pycharm": {
     "name": "#%%\n"
    }
   }
  },
  {
   "cell_type": "markdown",
   "source": [
    "For the amount of gun violence we can plot the numbers of guns involved over time:"
   ],
   "metadata": {
    "collapsed": false,
    "pycharm": {
     "name": "#%% md\n"
    }
   }
  }
 ],
 "metadata": {
  "kernelspec": {
   "display_name": "Python 3",
   "language": "python",
   "name": "python3"
  },
  "language_info": {
   "codemirror_mode": {
    "name": "ipython",
    "version": 2
   },
   "file_extension": ".py",
   "mimetype": "text/x-python",
   "name": "python",
   "nbconvert_exporter": "python",
   "pygments_lexer": "ipython2",
   "version": "2.7.6"
  }
 },
 "nbformat": 4,
 "nbformat_minor": 0
}