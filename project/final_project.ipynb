{
 "cells": [
  {
   "cell_type": "code",
   "execution_count": 65,
   "outputs": [],
   "source": [
    "import sqlite3\n",
    "import pandas as pd\n",
    "from sklearn.preprocessing import OneHotEncoder\n",
    "from sklearn.model_selection import train_test_split\n",
    "from sklearn.metrics import classification_report, confusion_matrix\n",
    "import matplotlib.pyplot as plt"
   ],
   "metadata": {
    "collapsed": false,
    "pycharm": {
     "name": "#%%\n"
    }
   }
  },
  {
   "cell_type": "code",
   "execution_count": 1,
   "outputs": [],
   "source": [
    "conn = sqlite3.connect('FPA_FOD_20170508.sqlite')\n",
    "df = pd.read_sql_query(\"SELECT * from Fires\", conn)"
   ],
   "metadata": {
    "collapsed": false,
    "pycharm": {
     "name": "#%%\n"
    }
   }
  },
  {
   "cell_type": "code",
   "execution_count": 5,
   "outputs": [
    {
     "data": {
      "text/plain": "       OBJECTID     FOD_ID                         FPA_ID SOURCE_SYSTEM_TYPE  \\\n10000   1596775  201615000         SFO-MN-2012-2012312167             NONFED   \n10001   1248030    1651189     SFO-GA-FY2001-Paulding-035             NONFED   \n10002   1357657    1838687                SFO-TN-2007-900             NONFED   \n10003    422677     456674  SFO-GA00680505-36-175-0112-03             NONFED   \n10004   1327749    1806757      SFO-NY-NY0724-2003-001058             NONFED   \n10005    917743    1044991                  SWRA_SC_58622             NONFED   \n10006   1261787    1665124     SFO-GA-FY2003-McDuffie-010             NONFED   \n10007    323187     330043                       W-121736                FED   \n10008   1110996    1352971  CDF_1997_54_2215_10563                    NONFED   \n10009    729301     828198                        SC_5892             NONFED   \n\n      SOURCE_SYSTEM NWCG_REPORTING_AGENCY NWCG_REPORTING_UNIT_ID  \\\n10000       ST-NASF                ST/C&L                USMNMNS   \n10001       ST-NASF                ST/C&L                USGAGAS   \n10002       ST-NASF                ST/C&L                USTNTNS   \n10003       ST-NASF                ST/C&L                USGAGAS   \n10004       ST-NASF                ST/C&L                USNYNYX   \n10005      ST-SCSCS                ST/C&L                USSCSCS   \n10006       ST-NASF                ST/C&L                USGAGAS   \n10007      DOI-WFMI                   BLM                USCOCRD   \n10008      ST-CACDF                ST/C&L                USCABTU   \n10009      ST-SCSCS                ST/C&L                USSCSCS   \n\n                        NWCG_REPORTING_UNIT_NAME SOURCE_REPORTING_UNIT  \\\n10000  Minnesota Department of Natural Resources                 MNDNR   \n10001                Georgia Forestry Commission                 GAGAS   \n10002             Tennessee Division of Forestry                   TDA   \n10003                Georgia Forestry Commission              GA McRae   \n10004                Fire Department of New York                NY0724   \n10005         South Carolina Forestry Commission                SCSCS4   \n10006                Georgia Forestry Commission                 GAGAS   \n10007                         Northwest District                 COCRD   \n10008                                 Butte Unit                 CABTU   \n10009         South Carolina Forestry Commission                 SCSCS   \n\n                      SOURCE_REPORTING_UNIT_NAME  ... FIRE_SIZE_CLASS  \\\n10000  Minnesota Department of Natural Resources  ...               A   \n10001                Georgia Forestry Commission  ...               A   \n10002        Tennessee Department of Agriculture  ...               C   \n10003        GAS Ogeechee District, McRae Office  ...               B   \n10004                Fire Department of New York  ...               B   \n10005                                 SCS Unit 4  ...               A   \n10006                Georgia Forestry Commission  ...               A   \n10007                Western Slope Center, Craig  ...               B   \n10008                                 Butte Unit  ...               B   \n10009         South Carolina Forestry Commission  ...               B   \n\n        LATITUDE   LONGITUDE OWNER_CODE            OWNER_DESCR STATE  \\\n10000  45.869652  -93.192234        8.0                PRIVATE    MN   \n10001  33.795800  -84.754400        8.0                PRIVATE    GA   \n10002  35.673333  -85.186670        8.0                PRIVATE    TN   \n10003  32.488140  -82.970134       14.0  MISSING/NOT SPECIFIED    GA   \n10004  42.082938  -79.253567       14.0  MISSING/NOT SPECIFIED    NY   \n10005  33.633300  -79.900000       14.0  MISSING/NOT SPECIFIED    SC   \n10006  33.474749  -82.554078       14.0  MISSING/NOT SPECIFIED    GA   \n10007  40.259700 -107.415100        7.0                  STATE    CO   \n10008  39.428889 -121.715000       14.0  MISSING/NOT SPECIFIED    CA   \n10009  33.129167  -80.304167       14.0  MISSING/NOT SPECIFIED    SC   \n\n           COUNTY FIPS_CODE   FIPS_NAME  \\\n10000     Kanabec       065     Kanabec   \n10001    Paulding       223    Paulding   \n10002     BLEDSOE       007     Bledsoe   \n10003     Laurens       175     Laurens   \n10004  CHAUTAUQUA       013  Chautauqua   \n10005        None      None        None   \n10006    McDuffie       189    McDuffie   \n10007       Routt       107       Routt   \n10008        None      None        None   \n10009          18       035  Dorchester   \n\n                                                   Shape  \n10000  b'\\x00\\x01\\xad\\x10\\x00\\x00\\x10f\\xd2\\x8dMLW\\xc0...  \n10001  b'\\x00\\x01\\xad\\x10\\x00\\x00\\x8c\\x06\\xf0\\x16H0U\\...  \n10002  b'\\x00\\x01\\xad\\x10\\x00\\x008I\\xbaf\\xf2KU\\xc0\\xb...  \n10003  b'\\x00\\x01\\xad\\x10\\x00\\x008\\xf5\\xab\\xad\\x16\\xb...  \n10004  b'\\x00\\x01\\xad\\x10\\x00\\x00X\\x88\\xedr:\\xd0S\\xc0...  \n10005  b'\\x00\\x01\\xad\\x10\\x00\\x00\\x98\\x99\\x99\\x99\\x99...  \n10006  b'\\x00\\x01\\xad\\x10\\x00\\x00\\x98hg\\x03v\\xa3T\\xc0...  \n10007  b'\\x00\\x01\\xad\\x10\\x00\\x00p$\\x97\\xff\\x90\\xdaZ\\...  \n10008  b'\\x00\\x01\\xad\\x10\\x00\\x00\\xf4(\\\\\\x8f\\xc2m^\\xc...  \n10009  b'\\x00\\x01\\xad\\x10\\x00\\x00\\xb8\\x0b{ww\\x13T\\xc0...  \n\n[10 rows x 39 columns]",
      "text/html": "<div>\n<style scoped>\n    .dataframe tbody tr th:only-of-type {\n        vertical-align: middle;\n    }\n\n    .dataframe tbody tr th {\n        vertical-align: top;\n    }\n\n    .dataframe thead th {\n        text-align: right;\n    }\n</style>\n<table border=\"1\" class=\"dataframe\">\n  <thead>\n    <tr style=\"text-align: right;\">\n      <th></th>\n      <th>OBJECTID</th>\n      <th>FOD_ID</th>\n      <th>FPA_ID</th>\n      <th>SOURCE_SYSTEM_TYPE</th>\n      <th>SOURCE_SYSTEM</th>\n      <th>NWCG_REPORTING_AGENCY</th>\n      <th>NWCG_REPORTING_UNIT_ID</th>\n      <th>NWCG_REPORTING_UNIT_NAME</th>\n      <th>SOURCE_REPORTING_UNIT</th>\n      <th>SOURCE_REPORTING_UNIT_NAME</th>\n      <th>...</th>\n      <th>FIRE_SIZE_CLASS</th>\n      <th>LATITUDE</th>\n      <th>LONGITUDE</th>\n      <th>OWNER_CODE</th>\n      <th>OWNER_DESCR</th>\n      <th>STATE</th>\n      <th>COUNTY</th>\n      <th>FIPS_CODE</th>\n      <th>FIPS_NAME</th>\n      <th>Shape</th>\n    </tr>\n  </thead>\n  <tbody>\n    <tr>\n      <th>10000</th>\n      <td>1596775</td>\n      <td>201615000</td>\n      <td>SFO-MN-2012-2012312167</td>\n      <td>NONFED</td>\n      <td>ST-NASF</td>\n      <td>ST/C&amp;L</td>\n      <td>USMNMNS</td>\n      <td>Minnesota Department of Natural Resources</td>\n      <td>MNDNR</td>\n      <td>Minnesota Department of Natural Resources</td>\n      <td>...</td>\n      <td>A</td>\n      <td>45.869652</td>\n      <td>-93.192234</td>\n      <td>8.0</td>\n      <td>PRIVATE</td>\n      <td>MN</td>\n      <td>Kanabec</td>\n      <td>065</td>\n      <td>Kanabec</td>\n      <td>b'\\x00\\x01\\xad\\x10\\x00\\x00\\x10f\\xd2\\x8dMLW\\xc0...</td>\n    </tr>\n    <tr>\n      <th>10001</th>\n      <td>1248030</td>\n      <td>1651189</td>\n      <td>SFO-GA-FY2001-Paulding-035</td>\n      <td>NONFED</td>\n      <td>ST-NASF</td>\n      <td>ST/C&amp;L</td>\n      <td>USGAGAS</td>\n      <td>Georgia Forestry Commission</td>\n      <td>GAGAS</td>\n      <td>Georgia Forestry Commission</td>\n      <td>...</td>\n      <td>A</td>\n      <td>33.795800</td>\n      <td>-84.754400</td>\n      <td>8.0</td>\n      <td>PRIVATE</td>\n      <td>GA</td>\n      <td>Paulding</td>\n      <td>223</td>\n      <td>Paulding</td>\n      <td>b'\\x00\\x01\\xad\\x10\\x00\\x00\\x8c\\x06\\xf0\\x16H0U\\...</td>\n    </tr>\n    <tr>\n      <th>10002</th>\n      <td>1357657</td>\n      <td>1838687</td>\n      <td>SFO-TN-2007-900</td>\n      <td>NONFED</td>\n      <td>ST-NASF</td>\n      <td>ST/C&amp;L</td>\n      <td>USTNTNS</td>\n      <td>Tennessee Division of Forestry</td>\n      <td>TDA</td>\n      <td>Tennessee Department of Agriculture</td>\n      <td>...</td>\n      <td>C</td>\n      <td>35.673333</td>\n      <td>-85.186670</td>\n      <td>8.0</td>\n      <td>PRIVATE</td>\n      <td>TN</td>\n      <td>BLEDSOE</td>\n      <td>007</td>\n      <td>Bledsoe</td>\n      <td>b'\\x00\\x01\\xad\\x10\\x00\\x008I\\xbaf\\xf2KU\\xc0\\xb...</td>\n    </tr>\n    <tr>\n      <th>10003</th>\n      <td>422677</td>\n      <td>456674</td>\n      <td>SFO-GA00680505-36-175-0112-03</td>\n      <td>NONFED</td>\n      <td>ST-NASF</td>\n      <td>ST/C&amp;L</td>\n      <td>USGAGAS</td>\n      <td>Georgia Forestry Commission</td>\n      <td>GA McRae</td>\n      <td>GAS Ogeechee District, McRae Office</td>\n      <td>...</td>\n      <td>B</td>\n      <td>32.488140</td>\n      <td>-82.970134</td>\n      <td>14.0</td>\n      <td>MISSING/NOT SPECIFIED</td>\n      <td>GA</td>\n      <td>Laurens</td>\n      <td>175</td>\n      <td>Laurens</td>\n      <td>b'\\x00\\x01\\xad\\x10\\x00\\x008\\xf5\\xab\\xad\\x16\\xb...</td>\n    </tr>\n    <tr>\n      <th>10004</th>\n      <td>1327749</td>\n      <td>1806757</td>\n      <td>SFO-NY-NY0724-2003-001058</td>\n      <td>NONFED</td>\n      <td>ST-NASF</td>\n      <td>ST/C&amp;L</td>\n      <td>USNYNYX</td>\n      <td>Fire Department of New York</td>\n      <td>NY0724</td>\n      <td>Fire Department of New York</td>\n      <td>...</td>\n      <td>B</td>\n      <td>42.082938</td>\n      <td>-79.253567</td>\n      <td>14.0</td>\n      <td>MISSING/NOT SPECIFIED</td>\n      <td>NY</td>\n      <td>CHAUTAUQUA</td>\n      <td>013</td>\n      <td>Chautauqua</td>\n      <td>b'\\x00\\x01\\xad\\x10\\x00\\x00X\\x88\\xedr:\\xd0S\\xc0...</td>\n    </tr>\n    <tr>\n      <th>10005</th>\n      <td>917743</td>\n      <td>1044991</td>\n      <td>SWRA_SC_58622</td>\n      <td>NONFED</td>\n      <td>ST-SCSCS</td>\n      <td>ST/C&amp;L</td>\n      <td>USSCSCS</td>\n      <td>South Carolina Forestry Commission</td>\n      <td>SCSCS4</td>\n      <td>SCS Unit 4</td>\n      <td>...</td>\n      <td>A</td>\n      <td>33.633300</td>\n      <td>-79.900000</td>\n      <td>14.0</td>\n      <td>MISSING/NOT SPECIFIED</td>\n      <td>SC</td>\n      <td>None</td>\n      <td>None</td>\n      <td>None</td>\n      <td>b'\\x00\\x01\\xad\\x10\\x00\\x00\\x98\\x99\\x99\\x99\\x99...</td>\n    </tr>\n    <tr>\n      <th>10006</th>\n      <td>1261787</td>\n      <td>1665124</td>\n      <td>SFO-GA-FY2003-McDuffie-010</td>\n      <td>NONFED</td>\n      <td>ST-NASF</td>\n      <td>ST/C&amp;L</td>\n      <td>USGAGAS</td>\n      <td>Georgia Forestry Commission</td>\n      <td>GAGAS</td>\n      <td>Georgia Forestry Commission</td>\n      <td>...</td>\n      <td>A</td>\n      <td>33.474749</td>\n      <td>-82.554078</td>\n      <td>14.0</td>\n      <td>MISSING/NOT SPECIFIED</td>\n      <td>GA</td>\n      <td>McDuffie</td>\n      <td>189</td>\n      <td>McDuffie</td>\n      <td>b'\\x00\\x01\\xad\\x10\\x00\\x00\\x98hg\\x03v\\xa3T\\xc0...</td>\n    </tr>\n    <tr>\n      <th>10007</th>\n      <td>323187</td>\n      <td>330043</td>\n      <td>W-121736</td>\n      <td>FED</td>\n      <td>DOI-WFMI</td>\n      <td>BLM</td>\n      <td>USCOCRD</td>\n      <td>Northwest District</td>\n      <td>COCRD</td>\n      <td>Western Slope Center, Craig</td>\n      <td>...</td>\n      <td>B</td>\n      <td>40.259700</td>\n      <td>-107.415100</td>\n      <td>7.0</td>\n      <td>STATE</td>\n      <td>CO</td>\n      <td>Routt</td>\n      <td>107</td>\n      <td>Routt</td>\n      <td>b'\\x00\\x01\\xad\\x10\\x00\\x00p$\\x97\\xff\\x90\\xdaZ\\...</td>\n    </tr>\n    <tr>\n      <th>10008</th>\n      <td>1110996</td>\n      <td>1352971</td>\n      <td>CDF_1997_54_2215_10563</td>\n      <td>NONFED</td>\n      <td>ST-CACDF</td>\n      <td>ST/C&amp;L</td>\n      <td>USCABTU</td>\n      <td>Butte Unit</td>\n      <td>CABTU</td>\n      <td>Butte Unit</td>\n      <td>...</td>\n      <td>B</td>\n      <td>39.428889</td>\n      <td>-121.715000</td>\n      <td>14.0</td>\n      <td>MISSING/NOT SPECIFIED</td>\n      <td>CA</td>\n      <td>None</td>\n      <td>None</td>\n      <td>None</td>\n      <td>b'\\x00\\x01\\xad\\x10\\x00\\x00\\xf4(\\\\\\x8f\\xc2m^\\xc...</td>\n    </tr>\n    <tr>\n      <th>10009</th>\n      <td>729301</td>\n      <td>828198</td>\n      <td>SC_5892</td>\n      <td>NONFED</td>\n      <td>ST-SCSCS</td>\n      <td>ST/C&amp;L</td>\n      <td>USSCSCS</td>\n      <td>South Carolina Forestry Commission</td>\n      <td>SCSCS</td>\n      <td>South Carolina Forestry Commission</td>\n      <td>...</td>\n      <td>B</td>\n      <td>33.129167</td>\n      <td>-80.304167</td>\n      <td>14.0</td>\n      <td>MISSING/NOT SPECIFIED</td>\n      <td>SC</td>\n      <td>18</td>\n      <td>035</td>\n      <td>Dorchester</td>\n      <td>b'\\x00\\x01\\xad\\x10\\x00\\x00\\xb8\\x0b{ww\\x13T\\xc0...</td>\n    </tr>\n  </tbody>\n</table>\n<p>10 rows × 39 columns</p>\n</div>"
     },
     "execution_count": 5,
     "metadata": {},
     "output_type": "execute_result"
    }
   ],
   "source": [
    "df[10000:10010]"
   ],
   "metadata": {
    "collapsed": false,
    "pycharm": {
     "name": "#%%\n"
    }
   }
  },
  {
   "cell_type": "code",
   "execution_count": 53,
   "outputs": [
    {
     "name": "stdout",
     "output_type": "stream",
     "text": [
      "[array(['AK', 'AL', 'AR', 'AZ', 'CA', 'CO', 'CT', 'DC', 'DE', 'FL', 'GA',\n",
      "       'HI', 'IA', 'ID', 'IL', 'IN', 'KS', 'KY', 'LA', 'MA', 'MD', 'ME',\n",
      "       'MI', 'MN', 'MO', 'MS', 'MT', 'NC', 'ND', 'NE', 'NH', 'NJ', 'NM',\n",
      "       'NV', 'NY', 'OH', 'OK', 'OR', 'PA', 'PR', 'RI', 'SC', 'SD', 'TN',\n",
      "       'TX', 'UT', 'VA', 'VT', 'WA', 'WI', 'WV', 'WY'], dtype=object)]\n"
     ]
    }
   ],
   "source": [
    "ohe = OneHotEncoder()\n",
    "transformed = ohe.fit_transform(df[['STATE']])\n",
    "print(ohe.categories_)\n",
    "df[ohe.categories_[0]] = transformed.toarray()"
   ],
   "metadata": {
    "collapsed": false,
    "pycharm": {
     "name": "#%%\n"
    }
   }
  },
  {
   "cell_type": "code",
   "execution_count": 67,
   "outputs": [],
   "source": [
    "X = df[[\"DISCOVERY_DOY\", \"FIRE_SIZE\" ,\"LONGITUDE\", \"LATITUDE\"]]\n",
    "y = df[\"STAT_CAUSE_CODE\"]\n",
    "X_train, X_test, y_train, y_test = train_test_split(X, y, test_size=0.33)"
   ],
   "metadata": {
    "collapsed": false,
    "pycharm": {
     "name": "#%%\n"
    }
   }
  },
  {
   "cell_type": "code",
   "execution_count": 68,
   "outputs": [],
   "source": [
    "from sklearn.ensemble import RandomForestClassifier\n",
    "rfr = RandomForestClassifier().fit(X_train, y_train)"
   ],
   "metadata": {
    "collapsed": false,
    "pycharm": {
     "name": "#%%\n"
    }
   }
  },
  {
   "cell_type": "code",
   "execution_count": 69,
   "outputs": [],
   "source": [
    "y_pred = rfr.predict(X_test)"
   ],
   "metadata": {
    "collapsed": false,
    "pycharm": {
     "name": "#%%\n"
    }
   }
  },
  {
   "cell_type": "code",
   "execution_count": 70,
   "outputs": [
    {
     "name": "stdout",
     "output_type": "stream",
     "text": [
      "              precision    recall  f1-score   support\n",
      "\n",
      "         1.0       0.70      0.80      0.75     30850\n",
      "         2.0       0.32      0.23      0.26     16336\n",
      "         3.0       0.16      0.04      0.07      5821\n",
      "         4.0       0.40      0.24      0.30      8360\n",
      "         5.0       0.47      0.63      0.53     47034\n",
      "         6.0       0.36      0.26      0.30      3741\n",
      "         7.0       0.46      0.45      0.45     30747\n",
      "         8.0       0.25      0.11      0.16      6746\n",
      "         9.0       0.44      0.45      0.44     35709\n",
      "        10.0       0.55      0.41      0.47      1303\n",
      "        11.0       0.11      0.02      0.04      1535\n",
      "        12.0       0.15      0.03      0.05       409\n",
      "        13.0       0.57      0.51      0.54     18261\n",
      "\n",
      "    accuracy                           0.49    206852\n",
      "   macro avg       0.38      0.32      0.34    206852\n",
      "weighted avg       0.47      0.49      0.47    206852\n",
      "\n",
      "[[24760   555    87   572  1410    98   651    82  1839    41    28     3\n",
      "    724]\n",
      " [ 1367  3707   151   229  4573   341  1306   239  3766    28    41    10\n",
      "    578]\n",
      " [  469   403   246   188  1971    56   566   153  1478    13    20     3\n",
      "    255]\n",
      " [ 1776   333   101  1973  1687    60   737    89  1253    26    11     5\n",
      "    309]\n",
      " [ 1252  1520   242   469 29477   404  6429   546  4689    77    53    20\n",
      "   1856]\n",
      " [  478   325    23    48  1017   957   293    71   408     5     2     1\n",
      "    113]\n",
      " [  860   971   152   297  9010   177 13692   471  3584    52    20     3\n",
      "   1458]\n",
      " [  361   417   103   110  2256   134   990   772  1224    55     9    12\n",
      "    303]\n",
      " [ 2576  2632   353   798  7810   338  3188   513 16031   119    77     9\n",
      "   1265]\n",
      " [  150    44    10    23   146     9   115    39   192   536     2     1\n",
      "     36]\n",
      " [  150   155    18    17   493    15   122    17   454     5    36     1\n",
      "     52]\n",
      " [   29    26     4     9   154     4    60    18    61     9     3    13\n",
      "     19]\n",
      " [ 1365   583    87   209  3168    84  1800   133  1557    11    19     4\n",
      "   9241]]\n"
     ]
    }
   ],
   "source": [
    "print(classification_report(y_test, y_pred))\n",
    "print(confusion_matrix(y_test, y_pred))"
   ],
   "metadata": {
    "collapsed": false,
    "pycharm": {
     "name": "#%%\n"
    }
   }
  },
  {
   "cell_type": "code",
   "execution_count": 14,
   "outputs": [
    {
     "data": {
      "text/plain": "STATE  STAT_CAUSE_DESCR \nAK     Arson                150\n       Campfire             499\n       Children             186\n       Debris Burning       777\n       Equipment Use        137\n                           ... \nWY     Missing/Undefined    709\n       Powerline             42\n       Railroad             131\n       Smoking              100\n       Structure              3\nName: STAT_CAUSE_CODE, Length: 623, dtype: int64"
     },
     "execution_count": 14,
     "metadata": {},
     "output_type": "execute_result"
    }
   ],
   "source": [
    "df.groupby([\"STATE\", \"STAT_CAUSE_DESCR\"])[\"STAT_CAUSE_CODE\"].count()"
   ],
   "metadata": {
    "collapsed": false,
    "pycharm": {
     "name": "#%%\n"
    }
   }
  },
  {
   "cell_type": "code",
   "execution_count": 16,
   "outputs": [
    {
     "data": {
      "text/plain": "STAT_CAUSE_DESCR  STATE\nArson             AK        150\n                  AL       7244\n                  AR       3384\n                  AZ       1791\n                  CA       6628\n                           ... \nStructure         VA         38\n                  WA         44\n                  WI        118\n                  WV        111\n                  WY          3\nName: STAT_CAUSE_DESCR, Length: 623, dtype: int64"
     },
     "execution_count": 16,
     "metadata": {},
     "output_type": "execute_result"
    }
   ],
   "source": [
    "df.groupby([\"STAT_CAUSE_DESCR\", \"STATE\"])[\"STAT_CAUSE_DESCR\"].count()"
   ],
   "metadata": {
    "collapsed": false,
    "pycharm": {
     "name": "#%%\n"
    }
   }
  },
  {
   "cell_type": "code",
   "execution_count": 27,
   "outputs": [
    {
     "data": {
      "text/plain": "STAT_CAUSE_DESCR\nArson                 30.676274\nCampfire              37.324330\nChildren               7.371390\nDebris Burning        14.719021\nEquipment Use         37.892808\nFireworks             23.820233\nLightning            295.441598\nMiscellaneous         47.604008\nMissing/Undefined     40.996310\nPowerline             80.448005\nRailroad              24.329105\nSmoking               13.336670\nStructure             35.595463\nName: FIRE_SIZE, dtype: float64"
     },
     "execution_count": 27,
     "metadata": {},
     "output_type": "execute_result"
    }
   ],
   "source": [
    "df.groupby(\"STAT_CAUSE_DESCR\").mean()[\"FIRE_SIZE\"]"
   ],
   "metadata": {
    "collapsed": false,
    "pycharm": {
     "name": "#%%\n"
    }
   }
  },
  {
   "cell_type": "code",
   "execution_count": 43,
   "outputs": [
    {
     "data": {
      "text/plain": "22         0.20\n27        15.00\n32         0.10\n36         0.10\n47         0.50\n          ...  \n626772     0.10\n626778     0.10\n626779     0.20\n626790     2.50\n626818     0.01\nName: FIRE_SIZE, Length: 93057, dtype: float64"
     },
     "execution_count": 43,
     "metadata": {},
     "output_type": "execute_result"
    }
   ],
   "source": [
    "lightning = df[df[\"STAT_CAUSE_DESCR\"] == \"Lightning\"]\n",
    "lightning[\"FIRE_SIZE\"]"
   ],
   "metadata": {
    "collapsed": false,
    "pycharm": {
     "name": "#%%\n"
    }
   }
  },
  {
   "cell_type": "code",
   "execution_count": null,
   "outputs": [],
   "source": [],
   "metadata": {
    "collapsed": false,
    "pycharm": {
     "name": "#%%\n"
    }
   }
  }
 ],
 "metadata": {
  "kernelspec": {
   "display_name": "Python 3",
   "language": "python",
   "name": "python3"
  },
  "language_info": {
   "codemirror_mode": {
    "name": "ipython",
    "version": 2
   },
   "file_extension": ".py",
   "mimetype": "text/x-python",
   "name": "python",
   "nbconvert_exporter": "python",
   "pygments_lexer": "ipython2",
   "version": "2.7.6"
  }
 },
 "nbformat": 4,
 "nbformat_minor": 0
}