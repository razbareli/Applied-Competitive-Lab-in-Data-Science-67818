{
 "cells": [
  {
   "cell_type": "markdown",
   "metadata": {
    "pycharm": {
     "name": "#%% md\n"
    }
   },
   "source": [
    "# 67818 - Week 3"
   ]
  },
  {
   "cell_type": "code",
   "execution_count": 1,
   "metadata": {
    "pycharm": {
     "name": "#%%\n"
    }
   },
   "outputs": [],
   "source": [
    "import pandas as pd\n",
    "import numpy as np\n",
    "from scipy.spatial import distance_matrix,distance\n",
    "import random\n",
    "import sqlite3\n",
    "%matplotlib inline\n",
    "from sklearn.ensemble import RandomForestClassifier\n",
    "from sklearn.metrics import classification_report,balanced_accuracy_score,accuracy_score,recall_score,precision_score,precision_recall_curve,plot_roc_curve,f1_score,cohen_kappa_score,roc_auc_score,auc\n",
    "import warnings\n",
    "import seaborn as sns\n",
    "warnings.filterwarnings('ignore')\n",
    "from hyperopt import *\n",
    "from scipy.optimize import minimize\n",
    "\n",
    "import sklearn\n",
    "import matplotlib\n",
    "import matplotlib.pyplot as plt\n",
    "from sklearn.linear_model import LogisticRegression,LinearRegression\n",
    "\n",
    "from sklearn.preprocessing import StandardScaler\n",
    "\n",
    "from sklearn.ensemble import RandomForestClassifier\n",
    "from sklearn.neighbors import KNeighborsClassifier\n",
    "from sklearn.svm import SVC\n",
    "from sklearn.tree import DecisionTreeClassifier\n",
    "from sklearn.naive_bayes import BernoulliNB\n",
    "from sklearn.model_selection import train_test_split, RandomizedSearchCV, GridSearchCV, cross_val_score\n",
    "\n",
    "plt.style.use('ggplot')\n",
    "\n",
    "\n",
    "s=100\n",
    "matplotlib.rcParams['font.size'] = 14\n",
    "matplotlib.rcParams['figure.figsize'] = (18,8)\n"
   ]
  },
  {
   "cell_type": "markdown",
   "metadata": {
    "id": "lTqRwJGvDjeA",
    "pycharm": {
     "name": "#%% md\n"
    }
   },
   "source": [
    "## Baselining\n"
   ]
  },
  {
   "cell_type": "markdown",
   "metadata": {
    "id": "96ReUOVpDnRF",
    "pycharm": {
     "name": "#%% md\n"
    }
   },
   "source": [
    "When trying to create or design solutions to any open-ended problem, modeling included, it is often dificult to find a suitable stopping point if one was not pre-defined. It's also important to understand whether or not our efforts have any impact- We could spend days hand crafting features and not have any idea whether our work had any effect.\n",
    "<br> A good way to get a grasp on the effect of our efforts is to utilize baseline metrics.\n",
    "<br> A baseline metric can be any metric we use to measure our 'progress'- for example, in a regression problem, we can compare our loss (MSE, for example) to the loss achieved by simply predicting the mean value for all the dependent values in our training set, or constatly predicting the most common class (or a random class) for a classification problem.\n",
    "<br> Another option is trainig a 'naive' algorithm, using the most basic feature set, and measuring our result metric for it as a baseline."
   ]
  },
  {
   "cell_type": "code",
   "execution_count": 2,
   "metadata": {
    "id": "uKGdxO0UDUUN",
    "tags": [],
    "pycharm": {
     "name": "#%%\n"
    }
   },
   "outputs": [],
   "source": [
    "conn = sqlite3.connect(\"example_db.db\")\n",
    "data = pd.read_sql(\"select * from titanic_data\",conn)\n",
    "conn.close()"
   ]
  },
  {
   "cell_type": "code",
   "execution_count": 3,
   "metadata": {
    "id": "obKkP0PZGEZx",
    "tags": [],
    "pycharm": {
     "name": "#%%\n"
    }
   },
   "outputs": [],
   "source": [
    "data = data.drop(columns=[\"PassengerId\",\"Name\",\"Ticket\",\"Cabin\"]).dropna()\n",
    "data = pd.get_dummies(data,columns=['Sex',\"Embarked\"],drop_first=True)\n",
    "y=data[\"Survived\"]\n",
    "X= data.drop(columns=[\"Survived\"])"
   ]
  },
  {
   "cell_type": "code",
   "execution_count": 4,
   "metadata": {
    "id": "H3NYYnQ7GRXG",
    "pycharm": {
     "name": "#%%\n"
    }
   },
   "outputs": [],
   "source": [
    "X_train, X_test, y_train, y_test = train_test_split(X, y, test_size=0.25)"
   ]
  },
  {
   "cell_type": "markdown",
   "metadata": {
    "id": "KEIjPXy7IBGS",
    "tags": [],
    "pycharm": {
     "name": "#%% md\n"
    }
   },
   "source": [
    "#### Predicting the most common train class"
   ]
  },
  {
   "cell_type": "code",
   "execution_count": 5,
   "metadata": {
    "colab": {
     "base_uri": "https://localhost:8080/"
    },
    "id": "a_04AZVVHBse",
    "outputId": "a4a6c892-8a94-420b-b35e-3b47943f71fa",
    "pycharm": {
     "name": "#%%\n"
    }
   },
   "outputs": [
    {
     "name": "stdout",
     "output_type": "stream",
     "text": [
      "              precision    recall  f1-score   support\n",
      "\n",
      "           0       0.59      1.00      0.74       105\n",
      "           1       0.00      0.00      0.00        73\n",
      "\n",
      "    accuracy                           0.59       178\n",
      "   macro avg       0.29      0.50      0.37       178\n",
      "weighted avg       0.35      0.59      0.44       178\n",
      "\n"
     ]
    }
   ],
   "source": [
    "mode_prediction = np.ones_like(y_test)*y_train.mode()[0]\n",
    "print(classification_report(y_test,mode_prediction))"
   ]
  },
  {
   "cell_type": "code",
   "execution_count": 6,
   "metadata": {
    "colab": {
     "base_uri": "https://localhost:8080/"
    },
    "id": "jhImzx-zH9Mz",
    "outputId": "83349969-aef8-4dc4-8169-fc3333a0078a",
    "pycharm": {
     "name": "#%%\n"
    }
   },
   "outputs": [
    {
     "name": "stdout",
     "output_type": "stream",
     "text": [
      "              precision    recall  f1-score   support\n",
      "\n",
      "           0       0.78      0.87      0.82       105\n",
      "           1       0.77      0.64      0.70        73\n",
      "\n",
      "    accuracy                           0.78       178\n",
      "   macro avg       0.77      0.76      0.76       178\n",
      "weighted avg       0.77      0.78      0.77       178\n",
      "\n"
     ]
    }
   ],
   "source": [
    "rf= RandomForestClassifier(n_estimators=10)\n",
    "rf.fit(X_train,y_train)\n",
    "print(classification_report(y_test,rf.predict(X_test)))"
   ]
  },
  {
   "cell_type": "markdown",
   "metadata": {
    "id": "-a-ocLczIWR0",
    "pycharm": {
     "name": "#%% md\n"
    }
   },
   "source": [
    "We see that we get a pretty good result without any real effort at all!<br>\n",
    "Therefore, if we find ourselves working for a long time without any noticeable difference, we might want to try and switch up our efforts.<br>\n"
   ]
  },
  {
   "cell_type": "markdown",
   "metadata": {
    "id": "N5Cy1eDtI8HT",
    "pycharm": {
     "name": "#%% md\n"
    }
   },
   "source": [
    "# Loss Functions\n",
    "\n",
    "A loss functions measures the incompatiability of the model output and the ground truth label, and it is used to train the model.\n"
   ]
  },
  {
   "cell_type": "markdown",
   "metadata": {
    "id": "Xkhzw005I8HU",
    "pycharm": {
     "name": "#%% md\n"
    }
   },
   "source": [
    "### Regression\n",
    "\n",
    "Typically, for estimating the parameters of a linear regression model, the \"mean squared error\" loss function is used:\n",
    "\n",
    "### $MSE=\\frac{1}{n}\\sum_{i=1}^{n}\\left(y_{i}-f\\left(x_{i}\\right)\\right)^{2} $\n",
    "\n",
    "\n",
    "Another loss function which could be used is the \"mean absolute error\":\n",
    "\n",
    "### $MAE=\\frac{1}{n}\\sum_{i=1}^{n}\\left|y_{i}-f\\left(x_{i}\\right)\\right|$\n",
    "\n",
    "While the minimizer of the data's MSE is the average, the minimizer of the MAE is the median, making the MAE more robust to outliers. Therefore training a linear regression model by minimizing the MAE might yield a very different model then by minimzing the MSE:\n",
    "\n"
   ]
  },
  {
   "cell_type": "code",
   "execution_count": 7,
   "metadata": {
    "executionInfo": {
     "elapsed": 398,
     "status": "ok",
     "timestamp": 1635190550825,
     "user": {
      "displayName": "Daniel Segal",
      "photoUrl": "https://lh3.googleusercontent.com/a/default-user=s64",
      "userId": "16585630186032178381"
     },
     "user_tz": -180
    },
    "id": "db8ZHUkmI8HV",
    "pycharm": {
     "name": "#%%\n"
    }
   },
   "outputs": [],
   "source": [
    "sigma = 1\n",
    "n = 50\n",
    "x = np.random.uniform(-2, 7, n) \n",
    "\n",
    "y = -5 + 3*x + np.random.normal(scale=sigma ,size=n)\n",
    "\n",
    "idx = [10, 30, 45]\n",
    "y[idx] = y[idx] + 40"
   ]
  },
  {
   "cell_type": "code",
   "execution_count": 8,
   "metadata": {
    "colab": {
     "base_uri": "https://localhost:8080/",
     "height": 504
    },
    "executionInfo": {
     "elapsed": 2193,
     "status": "ok",
     "timestamp": 1635190582533,
     "user": {
      "displayName": "Daniel Segal",
      "photoUrl": "https://lh3.googleusercontent.com/a/default-user=s64",
      "userId": "16585630186032178381"
     },
     "user_tz": -180
    },
    "id": "WTb0wayG7YI7",
    "outputId": "041dcb95-d649-457f-e0ca-57f7c9ab97d3",
    "pycharm": {
     "name": "#%%\n"
    }
   },
   "outputs": [
    {
     "data": {
      "text/plain": [
       "<AxesSubplot:>"
      ]
     },
     "execution_count": 8,
     "metadata": {},
     "output_type": "execute_result"
    },
    {
     "data": {
      "image/png": "[encoded data removed]",
      "text/plain": [
       "<Figure size 1296x576 with 1 Axes>"
      ]
     },
     "metadata": {},
     "output_type": "display_data"
    }
   ],
   "source": [
    "sns.scatterplot(x, y, s=s)"
   ]
  },
  {
   "cell_type": "code",
   "execution_count": 9,
   "metadata": {
    "id": "5d309fT_I8HW",
    "pycharm": {
     "name": "#%%\n"
    }
   },
   "outputs": [],
   "source": [
    "f = lambda X,w: X.dot(w)\n",
    "\n",
    "\n",
    "def loss(w, X, y):\n",
    "    mae =(np.abs(y - f(X, w))).mean()\n",
    "    return mae\n"
   ]
  },
  {
   "cell_type": "code",
   "execution_count": 10,
   "metadata": {
    "id": "b-urJQmkI8HW",
    "pycharm": {
     "name": "#%%\n"
    }
   },
   "outputs": [],
   "source": [
    "X_c = np.hstack((np.ones(x.size).reshape(-1,1), x.reshape(-1,1)))"
   ]
  },
  {
   "cell_type": "code",
   "execution_count": 11,
   "metadata": {
    "id": "C1Fir8SZI8HX",
    "pycharm": {
     "name": "#%%\n"
    }
   },
   "outputs": [],
   "source": [
    "opt = minimize(loss, np.zeros(2), args=(X_c, y))\n",
    "w_robust = opt.x\n",
    "preds_robust = f(X_c, w_robust)"
   ]
  },
  {
   "cell_type": "code",
   "execution_count": 12,
   "metadata": {
    "id": "tKQPa88mI8HX",
    "pycharm": {
     "name": "#%%\n"
    }
   },
   "outputs": [],
   "source": [
    "reg = LinearRegression().fit(x.reshape(-1,1), y)\n",
    "preds_ols = reg.predict(x.reshape(-1,1))"
   ]
  },
  {
   "cell_type": "code",
   "execution_count": 13,
   "metadata": {
    "id": "cH_R966DI8HY",
    "outputId": "24143f98-f14f-49bd-c510-576fe1efc292",
    "pycharm": {
     "name": "#%%\n"
    }
   },
   "outputs": [
    {
     "data": {
      "text/plain": [
       "Text(0, 0.5, 'y')"
      ]
     },
     "execution_count": 13,
     "metadata": {},
     "output_type": "execute_result"
    },
    {
     "data": {
      "image/png": "[encoded data removed]",
      "text/plain": [
       "<Figure size 1296x576 with 1 Axes>"
      ]
     },
     "metadata": {},
     "output_type": "display_data"
    }
   ],
   "source": [
    "plt.scatter(x=x, y=y, s=s)\n",
    "l1 = plt.plot(x, preds_ols, linewidth=3, color='green', label=\"MSE loss\")\n",
    "l2 = plt.plot(x, preds_robust, linewidth=3, color='blue', label=\"MAE loss\")\n",
    "leg = plt.legend()\n",
    "\n",
    "plt.title(\"Linear Regression optimized with MSE loss and MAE loss\")\n",
    "plt.xlabel(\"x\")\n",
    "plt.ylabel(\"y\")"
   ]
  },
  {
   "cell_type": "markdown",
   "metadata": {
    "id": "YTspa5Y_I8HZ",
    "pycharm": {
     "name": "#%% md\n"
    }
   },
   "source": [
    "We can see that the training  the linear model with the MAE loss yieled a model more robust to the outliers."
   ]
  },
  {
   "cell_type": "markdown",
   "metadata": {
    "id": "ldquUnbpI8Ha",
    "pycharm": {
     "name": "#%% md\n"
    }
   },
   "source": [
    "## Evaluation Metrics\n",
    "In order to choose the best model for our original problem, we use evaluation metrics, which quantify the performance of the model.\n",
    "\n",
    "* Unlike loss functions, they are not necessarily used directly for training the model.\n",
    "* Used to evaluate the model performance in a way that relates to the original problem definition.\n",
    "\n"
   ]
  },
  {
   "cell_type": "markdown",
   "metadata": {
    "id": "Y0hE5iSiI8Ha",
    "pycharm": {
     "name": "#%% md\n"
    }
   },
   "source": [
    "#### Rergession Evaluation Metrics\n",
    "We will use a diabetes dataset, where the features are physiological quantities and the target is a quantiative measure of disease progression."
   ]
  },
  {
   "cell_type": "code",
   "execution_count": 14,
   "metadata": {
    "id": "gv2FVP3JI8Hb",
    "outputId": "69e197c5-dd34-47dd-d16f-6f1b86ad5ac7",
    "pycharm": {
     "name": "#%%\n"
    }
   },
   "outputs": [
    {
     "data": {
      "text/html": [
       "<div>\n",
       "<style scoped>\n",
       "    .dataframe tbody tr th:only-of-type {\n",
       "        vertical-align: middle;\n",
       "    }\n",
       "\n",
       "    .dataframe tbody tr th {\n",
       "        vertical-align: top;\n",
       "    }\n",
       "\n",
       "    .dataframe thead th {\n",
       "        text-align: right;\n",
       "    }\n",
       "</style>\n",
       "<table border=\"1\" class=\"dataframe\">\n",
       "  <thead>\n",
       "    <tr style=\"text-align: right;\">\n",
       "      <th></th>\n",
       "      <th>age</th>\n",
       "      <th>sex</th>\n",
       "      <th>bmi</th>\n",
       "      <th>bp</th>\n",
       "      <th>s1</th>\n",
       "      <th>s2</th>\n",
       "      <th>s3</th>\n",
       "      <th>s4</th>\n",
       "      <th>s5</th>\n",
       "      <th>s6</th>\n",
       "      <th>target</th>\n",
       "    </tr>\n",
       "  </thead>\n",
       "  <tbody>\n",
       "    <tr>\n",
       "      <th>count</th>\n",
       "      <td>4.420000e+02</td>\n",
       "      <td>4.420000e+02</td>\n",
       "      <td>4.420000e+02</td>\n",
       "      <td>4.420000e+02</td>\n",
       "      <td>4.420000e+02</td>\n",
       "      <td>4.420000e+02</td>\n",
       "      <td>4.420000e+02</td>\n",
       "      <td>4.420000e+02</td>\n",
       "      <td>4.420000e+02</td>\n",
       "      <td>4.420000e+02</td>\n",
       "      <td>442.000000</td>\n",
       "    </tr>\n",
       "    <tr>\n",
       "      <th>mean</th>\n",
       "      <td>-1.444295e-18</td>\n",
       "      <td>2.543215e-18</td>\n",
       "      <td>-2.255925e-16</td>\n",
       "      <td>-4.854086e-17</td>\n",
       "      <td>-1.428596e-17</td>\n",
       "      <td>3.898811e-17</td>\n",
       "      <td>-6.028360e-18</td>\n",
       "      <td>-1.788100e-17</td>\n",
       "      <td>9.243486e-17</td>\n",
       "      <td>1.351770e-17</td>\n",
       "      <td>152.133484</td>\n",
       "    </tr>\n",
       "    <tr>\n",
       "      <th>std</th>\n",
       "      <td>4.761905e-02</td>\n",
       "      <td>4.761905e-02</td>\n",
       "      <td>4.761905e-02</td>\n",
       "      <td>4.761905e-02</td>\n",
       "      <td>4.761905e-02</td>\n",
       "      <td>4.761905e-02</td>\n",
       "      <td>4.761905e-02</td>\n",
       "      <td>4.761905e-02</td>\n",
       "      <td>4.761905e-02</td>\n",
       "      <td>4.761905e-02</td>\n",
       "      <td>77.093005</td>\n",
       "    </tr>\n",
       "    <tr>\n",
       "      <th>min</th>\n",
       "      <td>-1.072256e-01</td>\n",
       "      <td>-4.464164e-02</td>\n",
       "      <td>-9.027530e-02</td>\n",
       "      <td>-1.123988e-01</td>\n",
       "      <td>-1.267807e-01</td>\n",
       "      <td>-1.156131e-01</td>\n",
       "      <td>-1.023071e-01</td>\n",
       "      <td>-7.639450e-02</td>\n",
       "      <td>-1.260971e-01</td>\n",
       "      <td>-1.377672e-01</td>\n",
       "      <td>25.000000</td>\n",
       "    </tr>\n",
       "    <tr>\n",
       "      <th>25%</th>\n",
       "      <td>-3.729927e-02</td>\n",
       "      <td>-4.464164e-02</td>\n",
       "      <td>-3.422907e-02</td>\n",
       "      <td>-3.665608e-02</td>\n",
       "      <td>-3.424784e-02</td>\n",
       "      <td>-3.035840e-02</td>\n",
       "      <td>-3.511716e-02</td>\n",
       "      <td>-3.949338e-02</td>\n",
       "      <td>-3.324559e-02</td>\n",
       "      <td>-3.317903e-02</td>\n",
       "      <td>87.000000</td>\n",
       "    </tr>\n",
       "    <tr>\n",
       "      <th>50%</th>\n",
       "      <td>5.383060e-03</td>\n",
       "      <td>-4.464164e-02</td>\n",
       "      <td>-7.283766e-03</td>\n",
       "      <td>-5.670422e-03</td>\n",
       "      <td>-4.320866e-03</td>\n",
       "      <td>-3.819065e-03</td>\n",
       "      <td>-6.584468e-03</td>\n",
       "      <td>-2.592262e-03</td>\n",
       "      <td>-1.947171e-03</td>\n",
       "      <td>-1.077698e-03</td>\n",
       "      <td>140.500000</td>\n",
       "    </tr>\n",
       "    <tr>\n",
       "      <th>75%</th>\n",
       "      <td>3.807591e-02</td>\n",
       "      <td>5.068012e-02</td>\n",
       "      <td>3.124802e-02</td>\n",
       "      <td>3.564379e-02</td>\n",
       "      <td>2.835801e-02</td>\n",
       "      <td>2.984439e-02</td>\n",
       "      <td>2.931150e-02</td>\n",
       "      <td>3.430886e-02</td>\n",
       "      <td>3.243232e-02</td>\n",
       "      <td>2.791705e-02</td>\n",
       "      <td>211.500000</td>\n",
       "    </tr>\n",
       "    <tr>\n",
       "      <th>max</th>\n",
       "      <td>1.107267e-01</td>\n",
       "      <td>5.068012e-02</td>\n",
       "      <td>1.705552e-01</td>\n",
       "      <td>1.320436e-01</td>\n",
       "      <td>1.539137e-01</td>\n",
       "      <td>1.987880e-01</td>\n",
       "      <td>1.811791e-01</td>\n",
       "      <td>1.852344e-01</td>\n",
       "      <td>1.335973e-01</td>\n",
       "      <td>1.356118e-01</td>\n",
       "      <td>346.000000</td>\n",
       "    </tr>\n",
       "  </tbody>\n",
       "</table>\n",
       "</div>"
      ],
      "text/plain": [
       "                age           sex           bmi            bp            s1  \\\n",
       "count  4.420000e+02  4.420000e+02  4.420000e+02  4.420000e+02  4.420000e+02   \n",
       "mean  -1.444295e-18  2.543215e-18 -2.255925e-16 -4.854086e-17 -1.428596e-17   \n",
       "std    4.761905e-02  4.761905e-02  4.761905e-02  4.761905e-02  4.761905e-02   \n",
       "min   -1.072256e-01 -4.464164e-02 -9.027530e-02 -1.123988e-01 -1.267807e-01   \n",
       "25%   -3.729927e-02 -4.464164e-02 -3.422907e-02 -3.665608e-02 -3.424784e-02   \n",
       "50%    5.383060e-03 -4.464164e-02 -7.283766e-03 -5.670422e-03 -4.320866e-03   \n",
       "75%    3.807591e-02  5.068012e-02  3.124802e-02  3.564379e-02  2.835801e-02   \n",
       "max    1.107267e-01  5.068012e-02  1.705552e-01  1.320436e-01  1.539137e-01   \n",
       "\n",
       "                 s2            s3            s4            s5            s6  \\\n",
       "count  4.420000e+02  4.420000e+02  4.420000e+02  4.420000e+02  4.420000e+02   \n",
       "mean   3.898811e-17 -6.028360e-18 -1.788100e-17  9.243486e-17  1.351770e-17   \n",
       "std    4.761905e-02  4.761905e-02  4.761905e-02  4.761905e-02  4.761905e-02   \n",
       "min   -1.156131e-01 -1.023071e-01 -7.639450e-02 -1.260971e-01 -1.377672e-01   \n",
       "25%   -3.035840e-02 -3.511716e-02 -3.949338e-02 -3.324559e-02 -3.317903e-02   \n",
       "50%   -3.819065e-03 -6.584468e-03 -2.592262e-03 -1.947171e-03 -1.077698e-03   \n",
       "75%    2.984439e-02  2.931150e-02  3.430886e-02  3.243232e-02  2.791705e-02   \n",
       "max    1.987880e-01  1.811791e-01  1.852344e-01  1.335973e-01  1.356118e-01   \n",
       "\n",
       "           target  \n",
       "count  442.000000  \n",
       "mean   152.133484  \n",
       "std     77.093005  \n",
       "min     25.000000  \n",
       "25%     87.000000  \n",
       "50%    140.500000  \n",
       "75%    211.500000  \n",
       "max    346.000000  "
      ]
     },
     "execution_count": 14,
     "metadata": {},
     "output_type": "execute_result"
    }
   ],
   "source": [
    "from sklearn.linear_model import LinearRegression\n",
    "from sklearn.ensemble import GradientBoostingRegressor\n",
    "\n",
    "\n",
    "from sklearn.model_selection import train_test_split\n",
    "from sklearn.metrics import mean_absolute_error, mean_squared_error\n",
    "from sklearn.datasets import load_diabetes\n",
    "\n",
    "\n",
    "data = load_diabetes(as_frame=True)\n",
    "df = data.frame\n",
    "df.describe()"
   ]
  },
  {
   "cell_type": "markdown",
   "metadata": {
    "id": "2P_MqmMXI8Hc",
    "pycharm": {
     "name": "#%% md\n"
    }
   },
   "source": [
    "Besides using the MSE as a loss function for training the model, we can use it to evaluate the model's performance. It might actually be preferred to use the RMSE - the square root of the MSE, as it will be in the original units of the response variable, which might be more interpretable"
   ]
  },
  {
   "cell_type": "code",
   "execution_count": 15,
   "metadata": {
    "id": "kasm74sCI8Hc",
    "pycharm": {
     "name": "#%%\n"
    }
   },
   "outputs": [],
   "source": [
    "df_train = df.drop(columns=['target'])\n",
    "target = df['target']\n",
    "\n",
    "df_train, df_test, y_train, y_test = train_test_split(df.drop(columns=['target']), df['target'], test_size=0.3)"
   ]
  },
  {
   "cell_type": "code",
   "execution_count": 16,
   "metadata": {
    "id": "hAwL47BiI8Hd",
    "pycharm": {
     "name": "#%%\n"
    }
   },
   "outputs": [],
   "source": [
    "model_lreg = LinearRegression().fit(df_train, y_train)\n",
    "model_gbr = GradientBoostingRegressor().fit(df_train, y_train)"
   ]
  },
  {
   "cell_type": "code",
   "execution_count": 17,
   "metadata": {
    "id": "Aw_WA-J1I8Hd",
    "outputId": "81fe7d04-edb4-4897-82cb-8c877c49ae85",
    "pycharm": {
     "name": "#%%\n"
    }
   },
   "outputs": [
    {
     "name": "stdout",
     "output_type": "stream",
     "text": [
      "RMSE Gradient Boosting Regression: 61.87\n",
      "RMSE Linear Regresson: 58.03\n",
      "\n",
      "MAE Gradient Boosting Regression: 48.22\n",
      "MAE Linear Regresson: 46.97\n"
     ]
    }
   ],
   "source": [
    "rmse_lreg = np.sqrt(mean_squared_error(model_lreg.predict(df_test), y_test))\n",
    "rmse_gbreg = np.sqrt(mean_squared_error(model_gbr.predict(df_test), y_test))\n",
    "\n",
    "\n",
    "print(\"RMSE Gradient Boosting Regression: {:.2f}\".format(rmse_gbreg))\n",
    "print(\"RMSE Linear Regresson: {:.2f}\".format(rmse_lreg))\n",
    "print()\n",
    "\n",
    "mae_lreg = mean_absolute_error(model_lreg.predict(df_test), y_test)\n",
    "mae_gbreg = mean_absolute_error(model_gbr.predict(df_test), y_test)\n",
    "print(\"MAE Gradient Boosting Regression: {:.2f}\".format(mae_gbreg))\n",
    "\n",
    "print(\"MAE Linear Regresson: {:.2f}\".format(mae_lreg))"
   ]
  },
  {
   "cell_type": "markdown",
   "metadata": {
    "pycharm": {
     "name": "#%% md\n"
    }
   },
   "source": [
    "### $R^2$ metric\n",
    "$R^2$ can be used to evaluate how good our regression model fits the data. \n",
    "It is the proportion of the variation in the dependent variable(the target y) that is predictable from the independent variables(the features)\n",
    "\n",
    "\n",
    "## $R^2 = 1 - \\frac{ \\sum_{i} (y_i-f(x_i))^2  }{\\sum_{i} (y_i - \\bar{y})^2}$\n",
    "\n",
    "$R^2 = 1$ when the model perfectly explains the variance in the training set - when the model perfectly fits it(might indicate overfitting)\n",
    "\n",
    "\n",
    "In order to deal with the overfitting issue we can add a penalty for model complexity, which is called \"Adjusted $R^{2}$\""
   ]
  },
  {
   "cell_type": "markdown",
   "metadata": {
    "id": "KwDt-LYjI8He",
    "pycharm": {
     "name": "#%% md\n"
    }
   },
   "source": [
    "#### Classification Evaluation Metrics\n",
    "\n",
    "We will now use a different diabetes dataset, where now the target is whether the person is sick or healthy, so we have a binary classification problem. "
   ]
  },
  {
   "cell_type": "code",
   "execution_count": 18,
   "metadata": {
    "id": "EYKIA-eKI8He",
    "outputId": "356c8598-1005-4b61-bbc6-c783e9eb01e8",
    "pycharm": {
     "name": "#%%\n"
    }
   },
   "outputs": [
    {
     "data": {
      "text/html": [
       "<div>\n",
       "<style scoped>\n",
       "    .dataframe tbody tr th:only-of-type {\n",
       "        vertical-align: middle;\n",
       "    }\n",
       "\n",
       "    .dataframe tbody tr th {\n",
       "        vertical-align: top;\n",
       "    }\n",
       "\n",
       "    .dataframe thead th {\n",
       "        text-align: right;\n",
       "    }\n",
       "</style>\n",
       "<table border=\"1\" class=\"dataframe\">\n",
       "  <thead>\n",
       "    <tr style=\"text-align: right;\">\n",
       "      <th></th>\n",
       "      <th>pregnant</th>\n",
       "      <th>glucose</th>\n",
       "      <th>bp</th>\n",
       "      <th>skin</th>\n",
       "      <th>insulin</th>\n",
       "      <th>bmi</th>\n",
       "      <th>pedigree</th>\n",
       "      <th>age</th>\n",
       "      <th>label</th>\n",
       "    </tr>\n",
       "  </thead>\n",
       "  <tbody>\n",
       "    <tr>\n",
       "      <th>1</th>\n",
       "      <td>6</td>\n",
       "      <td>148</td>\n",
       "      <td>72</td>\n",
       "      <td>35</td>\n",
       "      <td>0</td>\n",
       "      <td>33.6</td>\n",
       "      <td>0.627</td>\n",
       "      <td>50</td>\n",
       "      <td>sick</td>\n",
       "    </tr>\n",
       "    <tr>\n",
       "      <th>2</th>\n",
       "      <td>1</td>\n",
       "      <td>85</td>\n",
       "      <td>66</td>\n",
       "      <td>29</td>\n",
       "      <td>0</td>\n",
       "      <td>26.6</td>\n",
       "      <td>0.351</td>\n",
       "      <td>31</td>\n",
       "      <td>healthy</td>\n",
       "    </tr>\n",
       "    <tr>\n",
       "      <th>3</th>\n",
       "      <td>8</td>\n",
       "      <td>183</td>\n",
       "      <td>64</td>\n",
       "      <td>0</td>\n",
       "      <td>0</td>\n",
       "      <td>23.3</td>\n",
       "      <td>0.672</td>\n",
       "      <td>32</td>\n",
       "      <td>sick</td>\n",
       "    </tr>\n",
       "    <tr>\n",
       "      <th>4</th>\n",
       "      <td>1</td>\n",
       "      <td>89</td>\n",
       "      <td>66</td>\n",
       "      <td>23</td>\n",
       "      <td>94</td>\n",
       "      <td>28.1</td>\n",
       "      <td>0.167</td>\n",
       "      <td>21</td>\n",
       "      <td>healthy</td>\n",
       "    </tr>\n",
       "    <tr>\n",
       "      <th>5</th>\n",
       "      <td>0</td>\n",
       "      <td>137</td>\n",
       "      <td>40</td>\n",
       "      <td>35</td>\n",
       "      <td>168</td>\n",
       "      <td>43.1</td>\n",
       "      <td>2.288</td>\n",
       "      <td>33</td>\n",
       "      <td>sick</td>\n",
       "    </tr>\n",
       "  </tbody>\n",
       "</table>\n",
       "</div>"
      ],
      "text/plain": [
       "  pregnant glucose  bp skin insulin   bmi pedigree age    label\n",
       "1        6     148  72   35       0  33.6    0.627  50     sick\n",
       "2        1      85  66   29       0  26.6    0.351  31  healthy\n",
       "3        8     183  64    0       0  23.3    0.672  32     sick\n",
       "4        1      89  66   23      94  28.1    0.167  21  healthy\n",
       "5        0     137  40   35     168  43.1    2.288  33     sick"
      ]
     },
     "execution_count": 18,
     "metadata": {},
     "output_type": "execute_result"
    }
   ],
   "source": [
    "path = 'diabetes.csv'\n",
    "cols = ['pregnant', 'glucose', 'bp', 'skin', 'insulin', 'bmi', 'pedigree', 'age', 'label']\n",
    "df = pd.read_csv(path, header=None, names=cols).drop([0])\n",
    "df['label'].replace({\"1\": \"sick\", \"0\": \"healthy\"}, inplace=True)\n",
    "\n",
    "df.head()"
   ]
  },
  {
   "cell_type": "code",
   "execution_count": 19,
   "metadata": {
    "id": "pom6xkpgI8He",
    "outputId": "da00bb9e-8811-4a39-da81-c7a4822b12fb",
    "pycharm": {
     "name": "#%%\n"
    }
   },
   "outputs": [
    {
     "data": {
      "text/plain": [
       "<AxesSubplot:xlabel='label', ylabel='count'>"
      ]
     },
     "execution_count": 19,
     "metadata": {},
     "output_type": "execute_result"
    },
    {
     "data": {
      "image/png": "[encoded data removed]",
      "text/plain": [
       "<Figure size 1296x576 with 1 Axes>"
      ]
     },
     "metadata": {},
     "output_type": "display_data"
    }
   ],
   "source": [
    "sns.countplot(data=df, x='label')"
   ]
  },
  {
   "cell_type": "code",
   "execution_count": 20,
   "metadata": {
    "id": "wCzBowGQI8Hf",
    "outputId": "7831413b-2f2c-40a7-ee54-f9d4d8ff489d",
    "pycharm": {
     "name": "#%%\n"
    }
   },
   "outputs": [
    {
     "data": {
      "text/html": [
       "<div>\n",
       "<style scoped>\n",
       "    .dataframe tbody tr th:only-of-type {\n",
       "        vertical-align: middle;\n",
       "    }\n",
       "\n",
       "    .dataframe tbody tr th {\n",
       "        vertical-align: top;\n",
       "    }\n",
       "\n",
       "    .dataframe thead th {\n",
       "        text-align: right;\n",
       "    }\n",
       "</style>\n",
       "<table border=\"1\" class=\"dataframe\">\n",
       "  <thead>\n",
       "    <tr style=\"text-align: right;\">\n",
       "      <th></th>\n",
       "      <th>pregnant</th>\n",
       "      <th>glucose</th>\n",
       "      <th>bp</th>\n",
       "      <th>skin</th>\n",
       "      <th>insulin</th>\n",
       "      <th>bmi</th>\n",
       "      <th>pedigree</th>\n",
       "      <th>age</th>\n",
       "    </tr>\n",
       "    <tr>\n",
       "      <th>label</th>\n",
       "      <th></th>\n",
       "      <th></th>\n",
       "      <th></th>\n",
       "      <th></th>\n",
       "      <th></th>\n",
       "      <th></th>\n",
       "      <th></th>\n",
       "      <th></th>\n",
       "    </tr>\n",
       "  </thead>\n",
       "  <tbody>\n",
       "    <tr>\n",
       "      <th>healthy</th>\n",
       "      <td>500</td>\n",
       "      <td>500</td>\n",
       "      <td>500</td>\n",
       "      <td>500</td>\n",
       "      <td>500</td>\n",
       "      <td>500</td>\n",
       "      <td>500</td>\n",
       "      <td>500</td>\n",
       "    </tr>\n",
       "    <tr>\n",
       "      <th>sick</th>\n",
       "      <td>268</td>\n",
       "      <td>268</td>\n",
       "      <td>268</td>\n",
       "      <td>268</td>\n",
       "      <td>268</td>\n",
       "      <td>268</td>\n",
       "      <td>268</td>\n",
       "      <td>268</td>\n",
       "    </tr>\n",
       "  </tbody>\n",
       "</table>\n",
       "</div>"
      ],
      "text/plain": [
       "         pregnant  glucose   bp  skin  insulin  bmi  pedigree  age\n",
       "label                                                             \n",
       "healthy       500      500  500   500      500  500       500  500\n",
       "sick          268      268  268   268      268  268       268  268"
      ]
     },
     "execution_count": 20,
     "metadata": {},
     "output_type": "execute_result"
    }
   ],
   "source": [
    "df.groupby(by='label').count()"
   ]
  },
  {
   "cell_type": "markdown",
   "metadata": {
    "id": "fjYxA_IaI8Hf",
    "pycharm": {
     "name": "#%% md\n"
    }
   },
   "source": [
    "Notice that there is some imbalance in the dataset - there are 232 more healthy people then sick.\n",
    "\n",
    "Now, let's fit a logistic regression model:"
   ]
  },
  {
   "cell_type": "code",
   "execution_count": 21,
   "metadata": {
    "id": "lMltHnriI8Hf",
    "pycharm": {
     "name": "#%%\n"
    }
   },
   "outputs": [],
   "source": [
    "\n",
    "features = ['pregnant', 'insulin', 'bmi', 'age']\n",
    "\n",
    "X = df.drop(columns=['label'])\n",
    "X = X[features]\n",
    "y = df['label']\n",
    "\n",
    "df_train, df_test, y_train, y_test = train_test_split(X, y, random_state=0, test_size=0.3)\n",
    "model = LogisticRegression().fit(df_train, y_train)"
   ]
  },
  {
   "cell_type": "markdown",
   "metadata": {
    "id": "_NfOwQ6AI8Hf",
    "pycharm": {
     "name": "#%% md\n"
    }
   },
   "source": [
    "Now that we have trained the model, we would like to evaluate its performance. First, let's visualize with a confusion matrix:"
   ]
  },
  {
   "cell_type": "markdown",
   "metadata": {
    "id": "fBQcY2auI8Hg",
    "pycharm": {
     "name": "#%% md\n"
    }
   },
   "source": [
    "\n",
    "![alt text](https://miro.medium.com/max/886/0*_fe41VT0HbBQuyB-.png)\n",
    "\n",
    "[source](https://miro.medium.com/max/886/0*_fe41VT0HbBQuyB-.png)\n",
    "\n",
    "1. **Binary Case**:\n",
    "    - **True Positive (TP)**: The model *correctly* predicts (T) the Positive class (P).\n",
    "    - **True Negative (TN)**: The model *correctly* predicts (T) the Negative class (N).\n",
    "    - **False Positive (FP)**: The model *incorrectly* predicts (F) the Positive class (P). \"Type I error\"\n",
    "    - **False Negative (FN)**: The model *incorrectly* predicts (F) the Negative class (N). \"Type II error\"\n"
   ]
  },
  {
   "cell_type": "code",
   "execution_count": 22,
   "metadata": {
    "id": "LW8IumZwI8Hg",
    "pycharm": {
     "name": "#%%\n"
    }
   },
   "outputs": [],
   "source": [
    "preds = model.predict(df_test)"
   ]
  },
  {
   "cell_type": "code",
   "execution_count": 23,
   "metadata": {
    "id": "0sS5iGwsI8Hg",
    "outputId": "166f66f7-f37b-4819-b288-b08269e025a7",
    "pycharm": {
     "name": "#%%\n"
    }
   },
   "outputs": [
    {
     "data": {
      "image/png": "[encoded data removed]",
      "text/plain": [
       "<Figure size 1296x576 with 2 Axes>"
      ]
     },
     "metadata": {},
     "output_type": "display_data"
    }
   ],
   "source": [
    "from sklearn.metrics import plot_confusion_matrix\n",
    "conf_mat = plot_confusion_matrix(model, df_test, y_test, labels=[\"sick\", \"healthy\"])\n",
    "ax = conf_mat.ax_\n",
    "_ = ax.grid(False)\n",
    "_ = ax.set_title(\"Confusion Matrix\")\n",
    "#_ = ax.set_title(\"Non-Normalized Confusion Matrix\")\n",
    "\n",
    "#print(metrics.confusion_matrix(y_test, preds, labels=[\"sick\", \"healthy\"]))\n",
    "#plt.show()"
   ]
  },
  {
   "cell_type": "code",
   "execution_count": 24,
   "metadata": {
    "pycharm": {
     "name": "#%%\n"
    }
   },
   "outputs": [
    {
     "name": "stdout",
     "output_type": "stream",
     "text": [
      "              precision    recall  f1-score   support\n",
      "\n",
      "     healthy       0.88      0.72      0.79       191\n",
      "        sick       0.28      0.53      0.37        40\n",
      "\n",
      "    accuracy                           0.69       231\n",
      "   macro avg       0.58      0.62      0.58       231\n",
      "weighted avg       0.78      0.69      0.72       231\n",
      "\n"
     ]
    }
   ],
   "source": [
    "print(classification_report( model.predict(df_test), y_test))"
   ]
  },
  {
   "cell_type": "markdown",
   "metadata": {
    "id": "4KpoqF3SI8Hg",
    "pycharm": {
     "name": "#%% md\n"
    }
   },
   "source": [
    "We can see that the classifier is doing badly on the \"sick\" class, which is the minority class - the number of false positives is quite high. This can be very problematic in case that we care alot about not predicting healthy people as sick(type I error)."
   ]
  },
  {
   "cell_type": "markdown",
   "metadata": {
    "id": "1LsRNutiI8Hg",
    "pycharm": {
     "name": "#%% md\n"
    }
   },
   "source": [
    "More performance metrics:\n",
    "\n",
    "## $ \\text{Accuracy}=\\frac{TP+TN}{TP+TN+FP+FN}=\\frac{TP+TN}{\\text{#samples}}$\n",
    "\n",
    "The accuracy is the proportion of of correct predictions among all the data.\n",
    "Accuracy might be problematic in the case of imbalanced dataset. For example, if the test set consists of 90% positive and 10% negative, then if the classifier constantly outputs \"positive\", according to the accuracy metric it will have 90% accuracy, even though the classifier is very naive. \n",
    "To handle that we can use balanaced accuracy:\n",
    "\n",
    "### $\\text{TPR}=\\frac{TP}{P} $\n",
    "### $\\text{FPR}=\\frac{FP}{N} $\n",
    "### $\\text{TNR}=\\frac{TN}{N}  $\n",
    "\n",
    "### $\\text{Balanced Accuracy}=\\frac{TPR + TNR}{2} $\n"
   ]
  },
  {
   "cell_type": "code",
   "execution_count": 25,
   "metadata": {
    "id": "nWz8IGbdI8Hh",
    "outputId": "f2d416e0-afc6-4422-c6da-f733f6cdac82",
    "pycharm": {
     "name": "#%%\n"
    }
   },
   "outputs": [
    {
     "name": "stdout",
     "output_type": "stream",
     "text": [
      "Accuracy: 0.6883\n",
      "Balanced Accuracy: 0.5814\n"
     ]
    }
   ],
   "source": [
    "acc = accuracy_score(y_test, preds)\n",
    "bacc = balanced_accuracy_score(y_test, preds)\n",
    "print(\"Accuracy: {:.4f}\".format(acc))\n",
    "print(\"Balanced Accuracy: {:.4f}\".format(bacc))"
   ]
  },
  {
   "cell_type": "markdown",
   "metadata": {
    "id": "WigARZ0EI8Hh",
    "pycharm": {
     "name": "#%% md\n"
    }
   },
   "source": [
    "We have seen in the confusion matrix that model performs bad on the minority class, so it makes sense that the balanced accuracy is worse then the regular accuracy.\n",
    "\n",
    "This metric might be good to use when the performance on all of the classes is equally important."
   ]
  },
  {
   "cell_type": "markdown",
   "metadata": {
    "id": "zCYYUgakI8Hh",
    "pycharm": {
     "name": "#%% md\n"
    }
   },
   "source": [
    "**Recall**: The proportion of true positives among the real positives.\n",
    "### $\\text{recall}=\\frac{TP}{P} $\n",
    "\n",
    "\n",
    "\n",
    "**Precision**:  The proportion of true positives among what the classifier predicted as positive.\n",
    "### $\\text{precision}=\\frac{TP}{TP + FP} $\n"
   ]
  },
  {
   "cell_type": "code",
   "execution_count": 26,
   "metadata": {
    "id": "KDY-j3wII8Hh",
    "outputId": "0f3a5550-7e5e-455e-959b-a8acd6e90574",
    "pycharm": {
     "name": "#%%\n"
    }
   },
   "outputs": [
    {
     "name": "stdout",
     "output_type": "stream",
     "text": [
      "recall: 0.2838\n",
      "precision: 0.5250\n"
     ]
    }
   ],
   "source": [
    "recall = recall_score(y_test, preds, pos_label=\"sick\")\n",
    "precision = precision_score(y_test, preds, pos_label=\"sick\")\n",
    "print(\"recall: {:.4f}\".format(recall))\n",
    "print(\"precision: {:.4f}\".format(precision))"
   ]
  },
  {
   "cell_type": "markdown",
   "metadata": {
    "pycharm": {
     "name": "#%% md\n"
    }
   },
   "source": [
    "To help understand the tradeoff between the two, let's use our diabeters data:"
   ]
  },
  {
   "cell_type": "code",
   "execution_count": 27,
   "metadata": {
    "pycharm": {
     "name": "#%%\n"
    }
   },
   "outputs": [
    {
     "data": {
      "text/plain": [
       "<AxesSubplot:xlabel='Glucose', ylabel='BMI'>"
      ]
     },
     "execution_count": 27,
     "metadata": {},
     "output_type": "execute_result"
    },
    {
     "data": {
      "image/png": "[encoded data removed]",
      "text/plain": [
       "<Figure size 1296x576 with 1 Axes>"
      ]
     },
     "metadata": {},
     "output_type": "display_data"
    }
   ],
   "source": [
    "tdf  = pd.read_csv(\"comfort_diabetes.csv\")\n",
    "sns.scatterplot(data=tdf[[\"Glucose\",\"BMI\",\"Outcome\"]],x='Glucose',y='BMI',hue='Outcome')"
   ]
  },
  {
   "cell_type": "markdown",
   "metadata": {
    "id": "Wfpne889I8Hi",
    "pycharm": {
     "name": "#%% md\n"
    }
   },
   "source": [
    "There is a tradeoff between recall and precision - increasing recall, which will decrease the false negatives and increase the true positives, may increase the number of false positives, and therefore decreasing the precision. We can visualize this tradeoff with a precision-recall curve, which plots precision vs recall by varying the classification threshold. "
   ]
  },
  {
   "cell_type": "code",
   "execution_count": 28,
   "metadata": {
    "id": "__mKmACfI8Hi",
    "outputId": "21dd80d6-1676-4f24-81eb-3d8cb4c28814",
    "pycharm": {
     "name": "#%%\n"
    }
   },
   "outputs": [
    {
     "data": {
      "image/png": "[encoded data removed]",
      "text/plain": [
       "<Figure size 1296x576 with 1 Axes>"
      ]
     },
     "metadata": {},
     "output_type": "display_data"
    }
   ],
   "source": [
    "probas = model.predict_proba(df_test)\n",
    "\n",
    "precision, recall, _ = precision_recall_curve(y_test, probas[: ,1], pos_label=\"sick\")\n",
    "plt.plot(recall, precision, marker='.', label=\"Logistic Regression\")\n",
    "plt.xlabel('Recall')\n",
    "plt.ylabel('Precision')\n",
    "plt.ylim([0,1])\n",
    "plt.legend()\n",
    "plt.title(\"Precision-Recall curve for a logistic regression model\")\n",
    "plt.show()\n"
   ]
  },
  {
   "cell_type": "markdown",
   "metadata": {
    "id": "aF4UpeNnI8Hj",
    "pycharm": {
     "name": "#%% md\n"
    }
   },
   "source": [
    "Another metric, which considers both precision and recall is the **F1-score**, which is the harmonic mean of precision and recall:\n",
    "\n",
    "\n",
    "### $ F_{1}=2\\cdot \\frac{precision \\cdot recall}{precision + recall} $\n",
    "\n",
    "The best score is 1, and the worst is 0.\n",
    "\n",
    "This is a special case of the $F_{\\beta}$ score:\n",
    "\n",
    "$ F_{\\beta} = (1 + \\beta^{2}) \\cdot \\frac{precision \\cdot recall}{\\beta^{2} \\cdot precision + recall}$\n",
    "\n",
    "We can tradeoff between precision and recall by varying $\\beta$: higher $\\beta$will prioritze recall more, and a $\\beta=1$ corresponds to $F_{1}$ which gives precision and recall equal importance.\n",
    "\n",
    "As $F_1$ and PR AUC metrics both consider precision and recall, they can be a good choice for imbalanced datasets."
   ]
  },
  {
   "cell_type": "code",
   "execution_count": 29,
   "metadata": {
    "id": "o8-9-sauI8Hk",
    "outputId": "0fd9c22d-c13e-4e0e-8af6-cd298fb8183c",
    "pycharm": {
     "name": "#%%\n"
    }
   },
   "outputs": [
    {
     "name": "stdout",
     "output_type": "stream",
     "text": [
      "F1 score: 0.3684 \n"
     ]
    }
   ],
   "source": [
    "f_1 = f1_score(y_test, preds, pos_label=\"sick\")\n",
    "print('F1 score: {:.4f} '.format(f_1))"
   ]
  },
  {
   "cell_type": "markdown",
   "metadata": {
    "pycharm": {
     "name": "#%% md\n"
    }
   },
   "source": [
    "Note that most algorithms do not necessarily provide a class, but a potential probabilty of inclusion in a certain class, and a threshold (>.5) is used to determine class inclusion.\n",
    "\n",
    "We can make use of this fact to tune our algorithm's result:"
   ]
  },
  {
   "cell_type": "code",
   "execution_count": 30,
   "metadata": {
    "pycharm": {
     "name": "#%%\n"
    }
   },
   "outputs": [
    {
     "data": {
      "image/png": "[encoded data removed]",
      "text/plain": [
       "<Figure size 1296x576 with 1 Axes>"
      ]
     },
     "metadata": {},
     "output_type": "display_data"
    }
   ],
   "source": [
    "precisions=[]\n",
    "recalls=[]\n",
    "thresholds = np.linspace(0,.5)\n",
    "for i in thresholds:\n",
    "    predictions = probas[:,1]>i\n",
    "    \n",
    "    precisions.append(precision_score(y_test=='sick',predictions))\n",
    "    recalls.append(recall_score(y_test=='sick',predictions))\n",
    "plt.plot(thresholds,precisions,label='precision@threshold')\n",
    "plt.plot(thresholds,recalls,label='recall@threshold')\n",
    "plt.title(\"Precision Recall Tradeoff\")\n",
    "plt.legend()\n",
    "plt.show()"
   ]
  },
  {
   "cell_type": "markdown",
   "metadata": {
    "id": "HoXR7zdqI8Hi",
    "pycharm": {
     "name": "#%% md\n"
    }
   },
   "source": [
    "Notice that the area under the curve(AUC) is large when both recall and precision are high, this brings us to the **AUC of a precision recall curve** metric, which we want to be high, as high values corresponds to both high recall and precision:"
   ]
  },
  {
   "cell_type": "code",
   "execution_count": 31,
   "metadata": {
    "id": "4LWld-wuI8Hj",
    "outputId": "b54fe34c-c3e0-4bd5-cbce-1c0a1c07b863",
    "pycharm": {
     "name": "#%%\n"
    }
   },
   "outputs": [
    {
     "name": "stdout",
     "output_type": "stream",
     "text": [
      "AUC score: 0.5273\n"
     ]
    }
   ],
   "source": [
    "auc_score = auc(recall, precision)\n",
    "print(\"AUC score: {:.4f}\".format(auc_score))"
   ]
  },
  {
   "cell_type": "markdown",
   "metadata": {
    "id": "XphOvMrPI8Hj",
    "pycharm": {
     "name": "#%% md\n"
    }
   },
   "source": [
    "Another metric is the **ROC Curve**, which plots the TPR(true positive rate) vs FPR(false positive rate) when varying the classification threshold, we can calculate its associated AUC too."
   ]
  },
  {
   "cell_type": "code",
   "execution_count": 32,
   "metadata": {
    "id": "514rrVuRI8Hj",
    "outputId": "7b8e85dc-de2b-493c-c5f0-ba2754182f21",
    "pycharm": {
     "name": "#%%\n"
    }
   },
   "outputs": [
    {
     "data": {
      "image/png": "[encoded data removed]",
      "text/plain": [
       "<Figure size 1296x576 with 1 Axes>"
      ]
     },
     "metadata": {},
     "output_type": "display_data"
    }
   ],
   "source": [
    "_ = plot_roc_curve(model, df_test, y_test)\n",
    "_ = plt.title(\"ROC curve\")"
   ]
  },
  {
   "cell_type": "markdown",
   "metadata": {
    "pycharm": {
     "name": "#%% md\n"
    }
   },
   "source": [
    "Another point of intution for ROC-AUC is the model's measure of seperability between datapoints of different classes."
   ]
  },
  {
   "cell_type": "markdown",
   "metadata": {
    "pycharm": {
     "name": "#%% md\n"
    }
   },
   "source": [
    "As we have the probabilities for each data point to be either True or False, we can order our datapoints based on these probabilities.\n",
    "\n",
    "The AUC is the probabilty that, given such an ordering, our classifier will give a positive datapoint a higher True probability than a random negative datapoint. This is threshold invariant:"
   ]
  },
  {
   "cell_type": "code",
   "execution_count": 33,
   "metadata": {
    "pycharm": {
     "name": "#%%\n"
    }
   },
   "outputs": [
    {
     "name": "stdout",
     "output_type": "stream",
     "text": [
      "1.0 1.0\n"
     ]
    }
   ],
   "source": [
    "first_trues = [.9 for i in range(5)]\n",
    "second_trues = [.7 for i in range(5)]\n",
    "falses = [.3 for i in range(6)]\n",
    "labels = [1 for i in range(5)] + [0 for i in range(6)]\n",
    "print(roc_auc_score(labels,first_trues+falses),roc_auc_score(labels,second_trues+falses))"
   ]
  },
  {
   "cell_type": "markdown",
   "metadata": {
    "pycharm": {
     "name": "#%% md\n"
    }
   },
   "source": [
    "Yet if we were to increase one of the false values to .8:"
   ]
  },
  {
   "cell_type": "code",
   "execution_count": 34,
   "metadata": {
    "pycharm": {
     "name": "#%%\n"
    }
   },
   "outputs": [],
   "source": [
    "falses[2] = .8"
   ]
  },
  {
   "cell_type": "code",
   "execution_count": 35,
   "metadata": {
    "pycharm": {
     "name": "#%%\n"
    }
   },
   "outputs": [
    {
     "name": "stdout",
     "output_type": "stream",
     "text": [
      "1.0 0.8333333333333334\n"
     ]
    }
   ],
   "source": [
    "print(roc_auc_score(labels,first_trues+falses),roc_auc_score(labels,second_trues+falses))"
   ]
  },
  {
   "cell_type": "markdown",
   "metadata": {
    "id": "bQCnKK0rI8Hk",
    "pycharm": {
     "name": "#%% md\n"
    }
   },
   "source": [
    "# Hyperparameter Optimization\n",
    "\n",
    "Hyperparameters(HPs) are parameters which are usually set before the training, and are used to control the learning process.\n",
    "\n",
    "Examples:\n",
    "* Learning rate in gradient descent\n",
    "* Regularization in ridge regression\n",
    "* Maximal depth of a decision tree\n",
    "* The number of trees in a random forest\n",
    "* ...\n",
    "\n",
    "\n",
    "Choosing the right HPs can be a tricky process, and it can greatly effect the model's performance.\n",
    "It is possible to manually tune the HPs, but it tedious and will mostly lead to sub-optimal perfomrance.\n",
    "Therefore, we would mostly prefer to use hyperparameter optimization - an automated process for choosing the optimal hyperparameters such that our learning algorithm gives us an optimal model.\n",
    "\n",
    "\n",
    "\n",
    "We can think of HPO as an optimization problem of a black box function, as unlike optimization of a regular loss function, in HPO we optimize a score function(e.g. the F1 score on the validation set, or some other metric we discussed previously) which is not differentiable, with respect to hyperparameters. \n",
    "\n",
    "HPO methods can be categorized into model free and model based methods.\n",
    "\n",
    "We will start with some basic model free based methods:"
   ]
  },
  {
   "cell_type": "markdown",
   "metadata": {
    "id": "W13982bOI8Hk",
    "pycharm": {
     "name": "#%% md\n"
    }
   },
   "source": [
    "## Grid Search\n",
    "This is one of the most basic HPO methods, which works as follows:\n",
    "* For each hyperparameter - set some specified values\n",
    "* Train the learning algorithm on each tuple from all their possible combinations\n",
    "* Evaluate the performance of each of the trained models(e.g cross validation)\n",
    "* Choose the best tuple of hyperparameters\n",
    "\n",
    "\n",
    "\n",
    "\n",
    "If we have 2 hyperparameters - $ (\\alpha, \\beta) $\n",
    "\n",
    "\n",
    "$ \\alpha=\\{5, 10\\} $\n",
    "\n",
    "\n",
    "$ \\beta=\\{1, 2, 3\\} $\n",
    "\n",
    "The grid will be:\n",
    "\n",
    "(5, 1)\n",
    "\n",
    "(5, 2)\n",
    "\n",
    "(5, 3)\n",
    "\n",
    "(10, 1)\n",
    "\n",
    "(10, 2)\n",
    "\n",
    "(10, 3)"
   ]
  },
  {
   "cell_type": "markdown",
   "metadata": {
    "id": "5FMsdDNfI8Hl",
    "pycharm": {
     "name": "#%% md\n"
    }
   },
   "source": [
    "## Random Search\n",
    "* Instead of trying all possible combinations - randomly select values for a combination\n",
    "* Might perform better than grid search, depending on how many hyperparameters actually effect the performance.\n",
    "\n",
    "![alt text](https://miro.medium.com/max/1000/1*9W1MrRkHi0YFmBoHi9Y2Ow.png \"Title\")\n",
    "\n",
    "Random search will sample more instances of the important parameter, and therefore performs better.\n"
   ]
  },
  {
   "cell_type": "markdown",
   "metadata": {
    "id": "X1tVN5-GRkON",
    "pycharm": {
     "name": "#%% md\n"
    }
   },
   "source": [
    "Let's try to optimize the HPs of a random forest on titanic, optimizing specifically for balanced accuracy."
   ]
  },
  {
   "cell_type": "code",
   "execution_count": 36,
   "metadata": {
    "id": "QV-Zu4X1I8Hl",
    "pycharm": {
     "name": "#%%\n"
    }
   },
   "outputs": [],
   "source": [
    "from sklearn import preprocessing\n",
    "\n",
    "\n",
    "data = pd.read_csv(\"titanic_train.csv\")\n",
    "\n",
    "le = preprocessing.LabelEncoder()\n",
    "data['Sex'] = le.fit_transform(data['Sex'])\n",
    "\n",
    "\n",
    "features = ['Pclass', 'Sex', 'Age', 'SibSp', 'Parch', 'Fare']\n",
    "\n",
    "data = data[features + ['Survived']]\n",
    "data = data.dropna()\n",
    "\n",
    "y = data['Survived']\n",
    "X = data[features]\n",
    "\n",
    "\n",
    "X_train, X_test, y_train, y_test = train_test_split(X, y, test_size=0.3)\n",
    "\n"
   ]
  },
  {
   "cell_type": "code",
   "execution_count": 37,
   "metadata": {
    "colab": {
     "base_uri": "https://localhost:8080/"
    },
    "executionInfo": {
     "elapsed": 81754,
     "status": "ok",
     "timestamp": 1631890645941,
     "user": {
      "displayName": "Daniel Segal",
      "photoUrl": "https://lh3.googleusercontent.com/a/default-user=s64",
      "userId": "16585630186032178381"
     },
     "user_tz": -180
    },
    "id": "4xOtGM4bI8Hl",
    "outputId": "8b5c4330-a8ef-4dbd-894f-db7c16e47c6a",
    "pycharm": {
     "name": "#%%\n"
    }
   },
   "outputs": [
    {
     "name": "stdout",
     "output_type": "stream",
     "text": [
      "n_configs 160\n",
      "Fitting 5 folds for each of 160 candidates, totalling 800 fits\n",
      "Done grid search\n"
     ]
    }
   ],
   "source": [
    "from sklearn.ensemble import RandomForestClassifier\n",
    "from sklearn.metrics import make_scorer\n",
    "\n",
    "model = RandomForestClassifier(random_state=10)\n",
    "\n",
    "\n",
    "params_grid = { \n",
    "    'n_estimators': [2, 4, 8, 16, 32, 64, 128, 256],\n",
    "    'min_samples_leaf': [2, 4, 8, 16],\n",
    "    'min_samples_split': [2, 4, 8, 16, 32],\n",
    "}\n",
    "\n",
    "n_configs = np.array([len(l) for key, l in params_grid.items()]).prod()\n",
    "print('n_configs', n_configs)\n",
    "\n",
    "grid = GridSearchCV(estimator=model, param_grid=params_grid, cv=5, verbose=1, scoring=make_scorer(balanced_accuracy_score))\n",
    "\n",
    "grid.fit(X_train, y_train)\n",
    "\n",
    "print(\"Done grid search\")"
   ]
  },
  {
   "cell_type": "code",
   "execution_count": 38,
   "metadata": {
    "colab": {
     "base_uri": "https://localhost:8080/"
    },
    "executionInfo": {
     "elapsed": 13,
     "status": "ok",
     "timestamp": 1631890646711,
     "user": {
      "displayName": "Daniel Segal",
      "photoUrl": "https://lh3.googleusercontent.com/a/default-user=s64",
      "userId": "16585630186032178381"
     },
     "user_tz": -180
    },
    "id": "1zAr_bPmI8Hm",
    "outputId": "bd941978-47d5-4490-a419-c06476bf5b4f",
    "pycharm": {
     "name": "#%%\n"
    }
   },
   "outputs": [
    {
     "name": "stdout",
     "output_type": "stream",
     "text": [
      "Best parameters found in Grid Search {'min_samples_leaf': 2, 'min_samples_split': 16, 'n_estimators': 4}\n",
      "Best score in Grid Search 0.7869766686405056\n"
     ]
    }
   ],
   "source": [
    "print('Best parameters found in Grid Search', grid.best_params_)\n",
    "print('Best score in Grid Search', grid.best_score_)\n",
    "model_gs = grid.best_estimator_"
   ]
  },
  {
   "cell_type": "code",
   "execution_count": 40,
   "metadata": {
    "pycharm": {
     "name": "#%%\n"
    }
   },
   "outputs": [
    {
     "name": "stdout",
     "output_type": "stream",
     "text": [
      "Fitting 5 folds for each of 160 candidates, totalling 800 fits\n",
      "Done random search\n"
     ]
    }
   ],
   "source": [
    "from scipy.stats import randint\n",
    "\n",
    "model = RandomForestClassifier(random_state=10)\n",
    "\n",
    "dists = { \n",
    "    'n_estimators': randint(2, 256),\n",
    "    'min_samples_leaf': randint(2, 16),\n",
    "    'min_samples_split': randint(2, 32)\n",
    "}\n",
    "\n",
    "rs = RandomizedSearchCV(estimator=model, param_distributions=dists, cv=5, verbose=1, scoring=make_scorer(balanced_accuracy_score), n_iter=n_configs)\n",
    "\n",
    "rs.fit(X_train, y_train)\n",
    "\n",
    "print(\"Done random search\")"
   ]
  },
  {
   "cell_type": "code",
   "execution_count": 41,
   "metadata": {
    "colab": {
     "base_uri": "https://localhost:8080/"
    },
    "executionInfo": {
     "elapsed": 14,
     "status": "ok",
     "timestamp": 1631890916669,
     "user": {
      "displayName": "Daniel Segal",
      "photoUrl": "https://lh3.googleusercontent.com/a/default-user=s64",
      "userId": "16585630186032178381"
     },
     "user_tz": -180
    },
    "id": "Km8oUMIAPxek",
    "outputId": "0e523b25-59f5-4fd5-bd89-94eeeb05d98f",
    "pycharm": {
     "name": "#%%\n"
    }
   },
   "outputs": [
    {
     "name": "stdout",
     "output_type": "stream",
     "text": [
      "Best parameters found in Random Search {'min_samples_leaf': 3, 'min_samples_split': 5, 'n_estimators': 11}\n",
      "Best score in Random Search 0.7867595463520761\n"
     ]
    }
   ],
   "source": [
    "\n",
    "print('Best parameters found in Random Search', rs.best_params_)\n",
    "print('Best score in Random Search', rs.best_score_)\n",
    "model_rs = rs.best_estimator_"
   ]
  },
  {
   "cell_type": "code",
   "execution_count": 42,
   "metadata": {
    "colab": {
     "base_uri": "https://localhost:8080/"
    },
    "executionInfo": {
     "elapsed": 358,
     "status": "ok",
     "timestamp": 1631891155363,
     "user": {
      "displayName": "Daniel Segal",
      "photoUrl": "https://lh3.googleusercontent.com/a/default-user=s64",
      "userId": "16585630186032178381"
     },
     "user_tz": -180
    },
    "id": "GnX4xhfpI8Hm",
    "outputId": "5181b1e4-6e20-4f85-8e06-dfbbea596e56",
    "pycharm": {
     "name": "#%%\n"
    }
   },
   "outputs": [
    {
     "name": "stdout",
     "output_type": "stream",
     "text": [
      "BAC on test set - random search:  0.8044005544005544\n",
      "BAC on test set - grid search:  0.7969074844074844\n"
     ]
    }
   ],
   "source": [
    "bac_rs = balanced_accuracy_score(y_test, model_rs.predict(X_test))\n",
    "bac_gs = balanced_accuracy_score(y_test, model_gs.predict(X_test))\n",
    "print('BAC on test set - random search: ', bac_rs)\n",
    "print('BAC on test set - grid search: ', bac_gs)"
   ]
  },
  {
   "cell_type": "markdown",
   "metadata": {
    "id": "RBx3bte2nebA",
    "pycharm": {
     "name": "#%% md\n"
    }
   },
   "source": [
    "(note that on default, the best_estimator_ field is the model refitted on **all** of the data, after finding the best set of HPs."
   ]
  },
  {
   "cell_type": "markdown",
   "metadata": {
    "id": "tH7ccru7cHaS",
    "pycharm": {
     "name": "#%% md\n"
    }
   },
   "source": [
    "# Bayesian Optimization\n",
    "As an alternative to grid and random search, we can use model based methods, such as Bayesian Optimization(BO).\n",
    "\n",
    "BO works by evaluating a set of HPs, and according to the model performance with these HPs, it decides which HPs to evaluate next, in a sequential manner.\n",
    "\n",
    "We will use the hyperopt package for performing BO.\n",
    "\n",
    "In order to perform HPO with hyperopt - we define a distribution over the hyperparameters, and an objective function to be optimized, here the balanced accuracy on the validation set."
   ]
  },
  {
   "cell_type": "code",
   "execution_count": null,
   "metadata": {
    "pycharm": {
     "name": "#%%\n"
    }
   },
   "outputs": [],
   "source": [
    "optuna.Trial.suggest_int()"
   ]
  },
  {
   "cell_type": "code",
   "execution_count": 85,
   "metadata": {
    "colab": {
     "base_uri": "https://localhost:8080/"
    },
    "executionInfo": {
     "elapsed": 162435,
     "status": "ok",
     "timestamp": 1631896203107,
     "user": {
      "displayName": "Daniel Segal",
      "photoUrl": "https://lh3.googleusercontent.com/a/default-user=s64",
      "userId": "16585630186032178381"
     },
     "user_tz": -180
    },
    "id": "7Q-REQMohfyI",
    "outputId": "ce2b62ea-4cba-4bb0-e8d7-b204ed48b0de",
    "pycharm": {
     "name": "#%%\n"
    }
   },
   "outputs": [
    {
     "name": "stderr",
     "output_type": "stream",
     "text": [
      "\u001B[32m[I 2022-11-09 13:38:21,866]\u001B[0m A new study created in memory with name: no-name-9fa3cdc3-b0b6-4f46-a024-013b8ba9ff7d\u001B[0m\n",
      "\u001B[32m[I 2022-11-09 13:38:21,946]\u001B[0m Trial 0 finished with value: 0.7135916096287611 and parameters: {'n_estimators': 12, 'max_depth': 14, 'criterion': 'gini'}. Best is trial 0 with value: 0.7135916096287611.\u001B[0m\n",
      "\u001B[32m[I 2022-11-09 13:38:22,101]\u001B[0m Trial 1 finished with value: 0.7171180146522611 and parameters: {'n_estimators': 35, 'max_depth': 5, 'criterion': 'entropy'}. Best is trial 1 with value: 0.7171180146522611.\u001B[0m\n",
      "\u001B[32m[I 2022-11-09 13:38:22,211]\u001B[0m Trial 2 finished with value: 0.7098236423578889 and parameters: {'n_estimators': 22, 'max_depth': 6, 'criterion': 'entropy'}. Best is trial 1 with value: 0.7171180146522611.\u001B[0m\n",
      "\u001B[32m[I 2022-11-09 13:38:22,371]\u001B[0m Trial 3 finished with value: 0.7302893013419329 and parameters: {'n_estimators': 34, 'max_depth': 10, 'criterion': 'gini'}. Best is trial 3 with value: 0.7302893013419329.\u001B[0m\n",
      "\u001B[32m[I 2022-11-09 13:38:22,491]\u001B[0m Trial 4 finished with value: 0.7134456963328643 and parameters: {'n_estimators': 23, 'max_depth': 13, 'criterion': 'entropy'}. Best is trial 3 with value: 0.7302893013419329.\u001B[0m\n",
      "\u001B[32m[I 2022-11-09 13:38:22,680]\u001B[0m Trial 5 finished with value: 0.7199425340757206 and parameters: {'n_estimators': 40, 'max_depth': 12, 'criterion': 'gini'}. Best is trial 3 with value: 0.7302893013419329.\u001B[0m\n",
      "\u001B[32m[I 2022-11-09 13:38:22,828]\u001B[0m Trial 6 finished with value: 0.7295435153002112 and parameters: {'n_estimators': 33, 'max_depth': 6, 'criterion': 'gini'}. Best is trial 3 with value: 0.7302893013419329.\u001B[0m\n",
      "\u001B[32m[I 2022-11-09 13:38:22,895]\u001B[0m Trial 7 finished with value: 0.737069016872531 and parameters: {'n_estimators': 11, 'max_depth': 8, 'criterion': 'entropy'}. Best is trial 7 with value: 0.737069016872531.\u001B[0m\n",
      "\u001B[32m[I 2022-11-09 13:38:23,108]\u001B[0m Trial 8 finished with value: 0.7020271729487808 and parameters: {'n_estimators': 39, 'max_depth': 13, 'criterion': 'entropy'}. Best is trial 7 with value: 0.737069016872531.\u001B[0m\n",
      "\u001B[32m[I 2022-11-09 13:38:23,277]\u001B[0m Trial 9 finished with value: 0.7320889883528876 and parameters: {'n_estimators': 33, 'max_depth': 10, 'criterion': 'gini'}. Best is trial 7 with value: 0.737069016872531.\u001B[0m\n"
     ]
    },
    {
     "name": "stdout",
     "output_type": "stream",
     "text": [
      "Best score: 0.737069016872531\n"
     ]
    }
   ],
   "source": [
    "import optuna\n",
    "\n",
    "def objective(trial):\n",
    "    \n",
    "    params={}\n",
    "    params['n_estimators'] = trial.suggest_int('n_estimators', 2, 4000)\n",
    "    params['max_depth'] = trial.suggest_int('max_depth', 5, 15)\n",
    "    params['criterion'] = trial.suggest_categorical('criterion',['gini','entropy'])\n",
    "    model = RandomForestClassifier(random_state=50, **params)\n",
    "    res = cross_val_score(model, X_train, y_train, scoring='f1',cv=5).mean()\n",
    "    return res\n",
    "\n",
    "study = optuna.create_study(direction='maximize')\n",
    "study.optimize(objective, n_trials=10)\n",
    "\n",
    "trial = study.best_trial\n",
    "\n",
    "print('Best score: {}'.format(trial.value))\n",
    "\n",
    "\n"
   ]
  },
  {
   "cell_type": "markdown",
   "metadata": {
    "id": "1I3lnv_qhgf5",
    "pycharm": {
     "name": "#%% md\n"
    }
   },
   "source": [
    "We can also include preprocessing as a HP, for example - scaling(even though scaling isn't supposed to effect RF performance)."
   ]
  },
  {
   "cell_type": "code",
   "execution_count": 86,
   "metadata": {
    "pycharm": {
     "name": "#%%\n"
    }
   },
   "outputs": [
    {
     "data": {
      "application/vnd.plotly.v1+json": {
       "config": {
        "plotlyServerURL": "https://plot.ly"
       },
       "data": [
        {
         "marker": {
          "color": [
           0,
           1,
           2,
           3,
           4,
           5,
           6,
           7,
           8,
           9
          ],
          "colorbar": {
           "title": {
            "text": "#Trials"
           },
           "x": 1,
           "xpad": 40,
           "y": 0.5
          },
          "colorscale": [
           [
            0,
            "rgb(247,251,255)"
           ],
           [
            0.125,
            "rgb(222,235,247)"
           ],
           [
            0.25,
            "rgb(198,219,239)"
           ],
           [
            0.375,
            "rgb(158,202,225)"
           ],
           [
            0.5,
            "rgb(107,174,214)"
           ],
           [
            0.625,
            "rgb(66,146,198)"
           ],
           [
            0.75,
            "rgb(33,113,181)"
           ],
           [
            0.875,
            "rgb(8,81,156)"
           ],
           [
            1,
            "rgb(8,48,107)"
           ]
          ],
          "line": {
           "color": "Grey",
           "width": 0.5
          },
          "showscale": true
         },
         "mode": "markers",
         "showlegend": false,
         "type": "scatter",
         "x": [
          "gini",
          "entropy",
          "entropy",
          "gini",
          "entropy",
          "gini",
          "gini",
          "entropy",
          "entropy",
          "gini"
         ],
         "xaxis": "x",
         "y": [
          0.7135916096287611,
          0.7171180146522611,
          0.7098236423578889,
          0.7302893013419329,
          0.7134456963328643,
          0.7199425340757206,
          0.7295435153002112,
          0.737069016872531,
          0.7020271729487808,
          0.7320889883528876
         ],
         "yaxis": "y"
        },
        {
         "marker": {
          "color": [
           0,
           1,
           2,
           3,
           4,
           5,
           6,
           7,
           8,
           9
          ],
          "colorbar": {
           "title": {
            "text": "#Trials"
           },
           "x": 1,
           "xpad": 40
          },
          "colorscale": [
           [
            0,
            "rgb(247,251,255)"
           ],
           [
            0.125,
            "rgb(222,235,247)"
           ],
           [
            0.25,
            "rgb(198,219,239)"
           ],
           [
            0.375,
            "rgb(158,202,225)"
           ],
           [
            0.5,
            "rgb(107,174,214)"
           ],
           [
            0.625,
            "rgb(66,146,198)"
           ],
           [
            0.75,
            "rgb(33,113,181)"
           ],
           [
            0.875,
            "rgb(8,81,156)"
           ],
           [
            1,
            "rgb(8,48,107)"
           ]
          ],
          "line": {
           "color": "Grey",
           "width": 0.5
          },
          "showscale": false
         },
         "mode": "markers",
         "showlegend": false,
         "type": "scatter",
         "x": [
          14,
          5,
          6,
          10,
          13,
          12,
          6,
          8,
          13,
          10
         ],
         "xaxis": "x2",
         "y": [
          0.7135916096287611,
          0.7171180146522611,
          0.7098236423578889,
          0.7302893013419329,
          0.7134456963328643,
          0.7199425340757206,
          0.7295435153002112,
          0.737069016872531,
          0.7020271729487808,
          0.7320889883528876
         ],
         "yaxis": "y2"
        },
        {
         "marker": {
          "color": [
           0,
           1,
           2,
           3,
           4,
           5,
           6,
           7,
           8,
           9
          ],
          "colorbar": {
           "title": {
            "text": "#Trials"
           },
           "x": 1,
           "xpad": 40
          },
          "colorscale": [
           [
            0,
            "rgb(247,251,255)"
           ],
           [
            0.125,
            "rgb(222,235,247)"
           ],
           [
            0.25,
            "rgb(198,219,239)"
           ],
           [
            0.375,
            "rgb(158,202,225)"
           ],
           [
            0.5,
            "rgb(107,174,214)"
           ],
           [
            0.625,
            "rgb(66,146,198)"
           ],
           [
            0.75,
            "rgb(33,113,181)"
           ],
           [
            0.875,
            "rgb(8,81,156)"
           ],
           [
            1,
            "rgb(8,48,107)"
           ]
          ],
          "line": {
           "color": "Grey",
           "width": 0.5
          },
          "showscale": false
         },
         "mode": "markers",
         "showlegend": false,
         "type": "scatter",
         "x": [
          12,
          35,
          22,
          34,
          23,
          40,
          33,
          11,
          39,
          33
         ],
         "xaxis": "x3",
         "y": [
          0.7135916096287611,
          0.7171180146522611,
          0.7098236423578889,
          0.7302893013419329,
          0.7134456963328643,
          0.7199425340757206,
          0.7295435153002112,
          0.737069016872531,
          0.7020271729487808,
          0.7320889883528876
         ],
         "yaxis": "y3"
        }
       ],
       "layout": {
        "autosize": true,
        "template": {
         "data": {
          "bar": [
           {
            "error_x": {
             "color": "#2a3f5f"
            },
            "error_y": {
             "color": "#2a3f5f"
            },
            "marker": {
             "line": {
              "color": "#E5ECF6",
              "width": 0.5
             },
             "pattern": {
              "fillmode": "overlay",
              "size": 10,
              "solidity": 0.2
             }
            },
            "type": "bar"
           }
          ],
          "barpolar": [
           {
            "marker": {
             "line": {
              "color": "#E5ECF6",
              "width": 0.5
             },
             "pattern": {
              "fillmode": "overlay",
              "size": 10,
              "solidity": 0.2
             }
            },
            "type": "barpolar"
           }
          ],
          "carpet": [
           {
            "aaxis": {
             "endlinecolor": "#2a3f5f",
             "gridcolor": "white",
             "linecolor": "white",
             "minorgridcolor": "white",
             "startlinecolor": "#2a3f5f"
            },
            "baxis": {
             "endlinecolor": "#2a3f5f",
             "gridcolor": "white",
             "linecolor": "white",
             "minorgridcolor": "white",
             "startlinecolor": "#2a3f5f"
            },
            "type": "carpet"
           }
          ],
          "choropleth": [
           {
            "colorbar": {
             "outlinewidth": 0,
             "ticks": ""
            },
            "type": "choropleth"
           }
          ],
          "contour": [
           {
            "colorbar": {
             "outlinewidth": 0,
             "ticks": ""
            },
            "colorscale": [
             [
              0,
              "#0d0887"
             ],
             [
              0.1111111111111111,
              "#46039f"
             ],
             [
              0.2222222222222222,
              "#7201a8"
             ],
             [
              0.3333333333333333,
              "#9c179e"
             ],
             [
              0.4444444444444444,
              "#bd3786"
             ],
             [
              0.5555555555555556,
              "#d8576b"
             ],
             [
              0.6666666666666666,
              "#ed7953"
             ],
             [
              0.7777777777777778,
              "#fb9f3a"
             ],
             [
              0.8888888888888888,
              "#fdca26"
             ],
             [
              1,
              "#f0f921"
             ]
            ],
            "type": "contour"
           }
          ],
          "contourcarpet": [
           {
            "colorbar": {
             "outlinewidth": 0,
             "ticks": ""
            },
            "type": "contourcarpet"
           }
          ],
          "heatmap": [
           {
            "colorbar": {
             "outlinewidth": 0,
             "ticks": ""
            },
            "colorscale": [
             [
              0,
              "#0d0887"
             ],
             [
              0.1111111111111111,
              "#46039f"
             ],
             [
              0.2222222222222222,
              "#7201a8"
             ],
             [
              0.3333333333333333,
              "#9c179e"
             ],
             [
              0.4444444444444444,
              "#bd3786"
             ],
             [
              0.5555555555555556,
              "#d8576b"
             ],
             [
              0.6666666666666666,
              "#ed7953"
             ],
             [
              0.7777777777777778,
              "#fb9f3a"
             ],
             [
              0.8888888888888888,
              "#fdca26"
             ],
             [
              1,
              "#f0f921"
             ]
            ],
            "type": "heatmap"
           }
          ],
          "heatmapgl": [
           {
            "colorbar": {
             "outlinewidth": 0,
             "ticks": ""
            },
            "colorscale": [
             [
              0,
              "#0d0887"
             ],
             [
              0.1111111111111111,
              "#46039f"
             ],
             [
              0.2222222222222222,
              "#7201a8"
             ],
             [
              0.3333333333333333,
              "#9c179e"
             ],
             [
              0.4444444444444444,
              "#bd3786"
             ],
             [
              0.5555555555555556,
              "#d8576b"
             ],
             [
              0.6666666666666666,
              "#ed7953"
             ],
             [
              0.7777777777777778,
              "#fb9f3a"
             ],
             [
              0.8888888888888888,
              "#fdca26"
             ],
             [
              1,
              "#f0f921"
             ]
            ],
            "type": "heatmapgl"
           }
          ],
          "histogram": [
           {
            "marker": {
             "pattern": {
              "fillmode": "overlay",
              "size": 10,
              "solidity": 0.2
             }
            },
            "type": "histogram"
           }
          ],
          "histogram2d": [
           {
            "colorbar": {
             "outlinewidth": 0,
             "ticks": ""
            },
            "colorscale": [
             [
              0,
              "#0d0887"
             ],
             [
              0.1111111111111111,
              "#46039f"
             ],
             [
              0.2222222222222222,
              "#7201a8"
             ],
             [
              0.3333333333333333,
              "#9c179e"
             ],
             [
              0.4444444444444444,
              "#bd3786"
             ],
             [
              0.5555555555555556,
              "#d8576b"
             ],
             [
              0.6666666666666666,
              "#ed7953"
             ],
             [
              0.7777777777777778,
              "#fb9f3a"
             ],
             [
              0.8888888888888888,
              "#fdca26"
             ],
             [
              1,
              "#f0f921"
             ]
            ],
            "type": "histogram2d"
           }
          ],
          "histogram2dcontour": [
           {
            "colorbar": {
             "outlinewidth": 0,
             "ticks": ""
            },
            "colorscale": [
             [
              0,
              "#0d0887"
             ],
             [
              0.1111111111111111,
              "#46039f"
             ],
             [
              0.2222222222222222,
              "#7201a8"
             ],
             [
              0.3333333333333333,
              "#9c179e"
             ],
             [
              0.4444444444444444,
              "#bd3786"
             ],
             [
              0.5555555555555556,
              "#d8576b"
             ],
             [
              0.6666666666666666,
              "#ed7953"
             ],
             [
              0.7777777777777778,
              "#fb9f3a"
             ],
             [
              0.8888888888888888,
              "#fdca26"
             ],
             [
              1,
              "#f0f921"
             ]
            ],
            "type": "histogram2dcontour"
           }
          ],
          "mesh3d": [
           {
            "colorbar": {
             "outlinewidth": 0,
             "ticks": ""
            },
            "type": "mesh3d"
           }
          ],
          "parcoords": [
           {
            "line": {
             "colorbar": {
              "outlinewidth": 0,
              "ticks": ""
             }
            },
            "type": "parcoords"
           }
          ],
          "pie": [
           {
            "automargin": true,
            "type": "pie"
           }
          ],
          "scatter": [
           {
            "marker": {
             "colorbar": {
              "outlinewidth": 0,
              "ticks": ""
             }
            },
            "type": "scatter"
           }
          ],
          "scatter3d": [
           {
            "line": {
             "colorbar": {
              "outlinewidth": 0,
              "ticks": ""
             }
            },
            "marker": {
             "colorbar": {
              "outlinewidth": 0,
              "ticks": ""
             }
            },
            "type": "scatter3d"
           }
          ],
          "scattercarpet": [
           {
            "marker": {
             "colorbar": {
              "outlinewidth": 0,
              "ticks": ""
             }
            },
            "type": "scattercarpet"
           }
          ],
          "scattergeo": [
           {
            "marker": {
             "colorbar": {
              "outlinewidth": 0,
              "ticks": ""
             }
            },
            "type": "scattergeo"
           }
          ],
          "scattergl": [
           {
            "marker": {
             "colorbar": {
              "outlinewidth": 0,
              "ticks": ""
             }
            },
            "type": "scattergl"
           }
          ],
          "scattermapbox": [
           {
            "marker": {
             "colorbar": {
              "outlinewidth": 0,
              "ticks": ""
             }
            },
            "type": "scattermapbox"
           }
          ],
          "scatterpolar": [
           {
            "marker": {
             "colorbar": {
              "outlinewidth": 0,
              "ticks": ""
             }
            },
            "type": "scatterpolar"
           }
          ],
          "scatterpolargl": [
           {
            "marker": {
             "colorbar": {
              "outlinewidth": 0,
              "ticks": ""
             }
            },
            "type": "scatterpolargl"
           }
          ],
          "scatterternary": [
           {
            "marker": {
             "colorbar": {
              "outlinewidth": 0,
              "ticks": ""
             }
            },
            "type": "scatterternary"
           }
          ],
          "surface": [
           {
            "colorbar": {
             "outlinewidth": 0,
             "ticks": ""
            },
            "colorscale": [
             [
              0,
              "#0d0887"
             ],
             [
              0.1111111111111111,
              "#46039f"
             ],
             [
              0.2222222222222222,
              "#7201a8"
             ],
             [
              0.3333333333333333,
              "#9c179e"
             ],
             [
              0.4444444444444444,
              "#bd3786"
             ],
             [
              0.5555555555555556,
              "#d8576b"
             ],
             [
              0.6666666666666666,
              "#ed7953"
             ],
             [
              0.7777777777777778,
              "#fb9f3a"
             ],
             [
              0.8888888888888888,
              "#fdca26"
             ],
             [
              1,
              "#f0f921"
             ]
            ],
            "type": "surface"
           }
          ],
          "table": [
           {
            "cells": {
             "fill": {
              "color": "#EBF0F8"
             },
             "line": {
              "color": "white"
             }
            },
            "header": {
             "fill": {
              "color": "#C8D4E3"
             },
             "line": {
              "color": "white"
             }
            },
            "type": "table"
           }
          ]
         },
         "layout": {
          "annotationdefaults": {
           "arrowcolor": "#2a3f5f",
           "arrowhead": 0,
           "arrowwidth": 1
          },
          "autotypenumbers": "strict",
          "coloraxis": {
           "colorbar": {
            "outlinewidth": 0,
            "ticks": ""
           }
          },
          "colorscale": {
           "diverging": [
            [
             0,
             "#8e0152"
            ],
            [
             0.1,
             "#c51b7d"
            ],
            [
             0.2,
             "#de77ae"
            ],
            [
             0.3,
             "#f1b6da"
            ],
            [
             0.4,
             "#fde0ef"
            ],
            [
             0.5,
             "#f7f7f7"
            ],
            [
             0.6,
             "#e6f5d0"
            ],
            [
             0.7,
             "#b8e186"
            ],
            [
             0.8,
             "#7fbc41"
            ],
            [
             0.9,
             "#4d9221"
            ],
            [
             1,
             "#276419"
            ]
           ],
           "sequential": [
            [
             0,
             "#0d0887"
            ],
            [
             0.1111111111111111,
             "#46039f"
            ],
            [
             0.2222222222222222,
             "#7201a8"
            ],
            [
             0.3333333333333333,
             "#9c179e"
            ],
            [
             0.4444444444444444,
             "#bd3786"
            ],
            [
             0.5555555555555556,
             "#d8576b"
            ],
            [
             0.6666666666666666,
             "#ed7953"
            ],
            [
             0.7777777777777778,
             "#fb9f3a"
            ],
            [
             0.8888888888888888,
             "#fdca26"
            ],
            [
             1,
             "#f0f921"
            ]
           ],
           "sequentialminus": [
            [
             0,
             "#0d0887"
            ],
            [
             0.1111111111111111,
             "#46039f"
            ],
            [
             0.2222222222222222,
             "#7201a8"
            ],
            [
             0.3333333333333333,
             "#9c179e"
            ],
            [
             0.4444444444444444,
             "#bd3786"
            ],
            [
             0.5555555555555556,
             "#d8576b"
            ],
            [
             0.6666666666666666,
             "#ed7953"
            ],
            [
             0.7777777777777778,
             "#fb9f3a"
            ],
            [
             0.8888888888888888,
             "#fdca26"
            ],
            [
             1,
             "#f0f921"
            ]
           ]
          },
          "colorway": [
           "#636efa",
           "#EF553B",
           "#00cc96",
           "#ab63fa",
           "#FFA15A",
           "#19d3f3",
           "#FF6692",
           "#B6E880",
           "#FF97FF",
           "#FECB52"
          ],
          "font": {
           "color": "#2a3f5f"
          },
          "geo": {
           "bgcolor": "white",
           "lakecolor": "white",
           "landcolor": "#E5ECF6",
           "showlakes": true,
           "showland": true,
           "subunitcolor": "white"
          },
          "hoverlabel": {
           "align": "left"
          },
          "hovermode": "closest",
          "mapbox": {
           "style": "light"
          },
          "paper_bgcolor": "white",
          "plot_bgcolor": "#E5ECF6",
          "polar": {
           "angularaxis": {
            "gridcolor": "white",
            "linecolor": "white",
            "ticks": ""
           },
           "bgcolor": "#E5ECF6",
           "radialaxis": {
            "gridcolor": "white",
            "linecolor": "white",
            "ticks": ""
           }
          },
          "scene": {
           "xaxis": {
            "backgroundcolor": "#E5ECF6",
            "gridcolor": "white",
            "gridwidth": 2,
            "linecolor": "white",
            "showbackground": true,
            "ticks": "",
            "zerolinecolor": "white"
           },
           "yaxis": {
            "backgroundcolor": "#E5ECF6",
            "gridcolor": "white",
            "gridwidth": 2,
            "linecolor": "white",
            "showbackground": true,
            "ticks": "",
            "zerolinecolor": "white"
           },
           "zaxis": {
            "backgroundcolor": "#E5ECF6",
            "gridcolor": "white",
            "gridwidth": 2,
            "linecolor": "white",
            "showbackground": true,
            "ticks": "",
            "zerolinecolor": "white"
           }
          },
          "shapedefaults": {
           "line": {
            "color": "#2a3f5f"
           }
          },
          "ternary": {
           "aaxis": {
            "gridcolor": "white",
            "linecolor": "white",
            "ticks": ""
           },
           "baxis": {
            "gridcolor": "white",
            "linecolor": "white",
            "ticks": ""
           },
           "bgcolor": "#E5ECF6",
           "caxis": {
            "gridcolor": "white",
            "linecolor": "white",
            "ticks": ""
           }
          },
          "title": {
           "x": 0.05
          },
          "xaxis": {
           "automargin": true,
           "gridcolor": "white",
           "linecolor": "white",
           "ticks": "",
           "title": {
            "standoff": 15
           },
           "zerolinecolor": "white",
           "zerolinewidth": 2
          },
          "yaxis": {
           "automargin": true,
           "gridcolor": "white",
           "linecolor": "white",
           "ticks": "",
           "title": {
            "standoff": 15
           },
           "zerolinecolor": "white",
           "zerolinewidth": 2
          }
         }
        },
        "title": {
         "text": "Slice Plot"
        },
        "xaxis": {
         "anchor": "y",
         "autorange": true,
         "domain": [
          0,
          0.2888888888888889
         ],
         "range": [
          -0.07463020610795744,
          1.0746302061079573
         ],
         "title": {
          "text": "criterion"
         },
         "type": "category"
        },
        "xaxis2": {
         "anchor": "y2",
         "autorange": true,
         "domain": [
          0.35555555555555557,
          0.6444444444444445
         ],
         "range": [
          4.328328145028383,
          14.671671854971617
         ],
         "title": {
          "text": "max_depth"
         },
         "type": "linear"
        },
        "xaxis3": {
         "anchor": "y3",
         "autorange": true,
         "domain": [
          0.7111111111111111,
          1
         ],
         "range": [
          8.835724022869234,
          42.164275977130764
         ],
         "title": {
          "text": "n_estimators"
         },
         "type": "linear"
        },
        "yaxis": {
         "anchor": "x",
         "autorange": true,
         "domain": [
          0,
          1
         ],
         "range": [
          0.699135370294879,
          0.7399608195264328
         ],
         "title": {
          "text": "Objective Value"
         },
         "type": "linear"
        },
        "yaxis2": {
         "anchor": "x2",
         "autorange": true,
         "domain": [
          0,
          1
         ],
         "matches": "y",
         "range": [
          0.699135370294879,
          0.7399608195264328
         ],
         "showticklabels": false,
         "type": "linear"
        },
        "yaxis3": {
         "anchor": "x3",
         "autorange": true,
         "domain": [
          0,
          1
         ],
         "matches": "y",
         "range": [
          0.699135370294879,
          0.7399608195264328
         ],
         "showticklabels": false,
         "type": "linear"
        }
       }
      },
      "image/png": "[encoded data removed]",
      "text/html": [
       "<div>                            <div id=\"ac1c397d-c9e9-44e8-934c-2b610c9dffe8\" class=\"plotly-graph-div\" style=\"height:525px; width:100%;\"></div>            <script type=\"text/javascript\">                require([\"plotly\"], function(Plotly) {                    window.PLOTLYENV=window.PLOTLYENV || {};                                    if (document.getElementById(\"ac1c397d-c9e9-44e8-934c-2b610c9dffe8\")) {                    Plotly.newPlot(                        \"ac1c397d-c9e9-44e8-934c-2b610c9dffe8\",                        [{\"marker\":{\"color\":[0,1,2,3,4,5,6,7,8,9],\"colorbar\":{\"title\":{\"text\":\"#Trials\"},\"x\":1.0,\"xpad\":40},\"colorscale\":[[0.0,\"rgb(247,251,255)\"],[0.125,\"rgb(222,235,247)\"],[0.25,\"rgb(198,219,239)\"],[0.375,\"rgb(158,202,225)\"],[0.5,\"rgb(107,174,214)\"],[0.625,\"rgb(66,146,198)\"],[0.75,\"rgb(33,113,181)\"],[0.875,\"rgb(8,81,156)\"],[1.0,\"rgb(8,48,107)\"]],\"line\":{\"color\":\"Grey\",\"width\":0.5},\"showscale\":true},\"mode\":\"markers\",\"showlegend\":false,\"type\":\"scatter\",\"x\":[\"gini\",\"entropy\",\"entropy\",\"gini\",\"entropy\",\"gini\",\"gini\",\"entropy\",\"entropy\",\"gini\"],\"xaxis\":\"x\",\"y\":[0.7135916096287611,0.7171180146522611,0.7098236423578889,0.7302893013419329,0.7134456963328643,0.7199425340757206,0.7295435153002112,0.737069016872531,0.7020271729487808,0.7320889883528876],\"yaxis\":\"y\"},{\"marker\":{\"color\":[0,1,2,3,4,5,6,7,8,9],\"colorbar\":{\"title\":{\"text\":\"#Trials\"},\"x\":1.0,\"xpad\":40},\"colorscale\":[[0.0,\"rgb(247,251,255)\"],[0.125,\"rgb(222,235,247)\"],[0.25,\"rgb(198,219,239)\"],[0.375,\"rgb(158,202,225)\"],[0.5,\"rgb(107,174,214)\"],[0.625,\"rgb(66,146,198)\"],[0.75,\"rgb(33,113,181)\"],[0.875,\"rgb(8,81,156)\"],[1.0,\"rgb(8,48,107)\"]],\"line\":{\"color\":\"Grey\",\"width\":0.5},\"showscale\":false},\"mode\":\"markers\",\"showlegend\":false,\"type\":\"scatter\",\"x\":[14,5,6,10,13,12,6,8,13,10],\"xaxis\":\"x2\",\"y\":[0.7135916096287611,0.7171180146522611,0.7098236423578889,0.7302893013419329,0.7134456963328643,0.7199425340757206,0.7295435153002112,0.737069016872531,0.7020271729487808,0.7320889883528876],\"yaxis\":\"y2\"},{\"marker\":{\"color\":[0,1,2,3,4,5,6,7,8,9],\"colorbar\":{\"title\":{\"text\":\"#Trials\"},\"x\":1.0,\"xpad\":40},\"colorscale\":[[0.0,\"rgb(247,251,255)\"],[0.125,\"rgb(222,235,247)\"],[0.25,\"rgb(198,219,239)\"],[0.375,\"rgb(158,202,225)\"],[0.5,\"rgb(107,174,214)\"],[0.625,\"rgb(66,146,198)\"],[0.75,\"rgb(33,113,181)\"],[0.875,\"rgb(8,81,156)\"],[1.0,\"rgb(8,48,107)\"]],\"line\":{\"color\":\"Grey\",\"width\":0.5},\"showscale\":false},\"mode\":\"markers\",\"showlegend\":false,\"type\":\"scatter\",\"x\":[12,35,22,34,23,40,33,11,39,33],\"xaxis\":\"x3\",\"y\":[0.7135916096287611,0.7171180146522611,0.7098236423578889,0.7302893013419329,0.7134456963328643,0.7199425340757206,0.7295435153002112,0.737069016872531,0.7020271729487808,0.7320889883528876],\"yaxis\":\"y3\"}],                        {\"template\":{\"data\":{\"bar\":[{\"error_x\":{\"color\":\"#2a3f5f\"},\"error_y\":{\"color\":\"#2a3f5f\"},\"marker\":{\"line\":{\"color\":\"#E5ECF6\",\"width\":0.5},\"pattern\":{\"fillmode\":\"overlay\",\"size\":10,\"solidity\":0.2}},\"type\":\"bar\"}],\"barpolar\":[{\"marker\":{\"line\":{\"color\":\"#E5ECF6\",\"width\":0.5},\"pattern\":{\"fillmode\":\"overlay\",\"size\":10,\"solidity\":0.2}},\"type\":\"barpolar\"}],\"carpet\":[{\"aaxis\":{\"endlinecolor\":\"#2a3f5f\",\"gridcolor\":\"white\",\"linecolor\":\"white\",\"minorgridcolor\":\"white\",\"startlinecolor\":\"#2a3f5f\"},\"baxis\":{\"endlinecolor\":\"#2a3f5f\",\"gridcolor\":\"white\",\"linecolor\":\"white\",\"minorgridcolor\":\"white\",\"startlinecolor\":\"#2a3f5f\"},\"type\":\"carpet\"}],\"choropleth\":[{\"colorbar\":{\"outlinewidth\":0,\"ticks\":\"\"},\"type\":\"choropleth\"}],\"contour\":[{\"colorbar\":{\"outlinewidth\":0,\"ticks\":\"\"},\"colorscale\":[[0.0,\"#0d0887\"],[0.1111111111111111,\"#46039f\"],[0.2222222222222222,\"#7201a8\"],[0.3333333333333333,\"#9c179e\"],[0.4444444444444444,\"#bd3786\"],[0.5555555555555556,\"#d8576b\"],[0.6666666666666666,\"#ed7953\"],[0.7777777777777778,\"#fb9f3a\"],[0.8888888888888888,\"#fdca26\"],[1.0,\"#f0f921\"]],\"type\":\"contour\"}],\"contourcarpet\":[{\"colorbar\":{\"outlinewidth\":0,\"ticks\":\"\"},\"type\":\"contourcarpet\"}],\"heatmap\":[{\"colorbar\":{\"outlinewidth\":0,\"ticks\":\"\"},\"colorscale\":[[0.0,\"#0d0887\"],[0.1111111111111111,\"#46039f\"],[0.2222222222222222,\"#7201a8\"],[0.3333333333333333,\"#9c179e\"],[0.4444444444444444,\"#bd3786\"],[0.5555555555555556,\"#d8576b\"],[0.6666666666666666,\"#ed7953\"],[0.7777777777777778,\"#fb9f3a\"],[0.8888888888888888,\"#fdca26\"],[1.0,\"#f0f921\"]],\"type\":\"heatmap\"}],\"heatmapgl\":[{\"colorbar\":{\"outlinewidth\":0,\"ticks\":\"\"},\"colorscale\":[[0.0,\"#0d0887\"],[0.1111111111111111,\"#46039f\"],[0.2222222222222222,\"#7201a8\"],[0.3333333333333333,\"#9c179e\"],[0.4444444444444444,\"#bd3786\"],[0.5555555555555556,\"#d8576b\"],[0.6666666666666666,\"#ed7953\"],[0.7777777777777778,\"#fb9f3a\"],[0.8888888888888888,\"#fdca26\"],[1.0,\"#f0f921\"]],\"type\":\"heatmapgl\"}],\"histogram\":[{\"marker\":{\"pattern\":{\"fillmode\":\"overlay\",\"size\":10,\"solidity\":0.2}},\"type\":\"histogram\"}],\"histogram2d\":[{\"colorbar\":{\"outlinewidth\":0,\"ticks\":\"\"},\"colorscale\":[[0.0,\"#0d0887\"],[0.1111111111111111,\"#46039f\"],[0.2222222222222222,\"#7201a8\"],[0.3333333333333333,\"#9c179e\"],[0.4444444444444444,\"#bd3786\"],[0.5555555555555556,\"#d8576b\"],[0.6666666666666666,\"#ed7953\"],[0.7777777777777778,\"#fb9f3a\"],[0.8888888888888888,\"#fdca26\"],[1.0,\"#f0f921\"]],\"type\":\"histogram2d\"}],\"histogram2dcontour\":[{\"colorbar\":{\"outlinewidth\":0,\"ticks\":\"\"},\"colorscale\":[[0.0,\"#0d0887\"],[0.1111111111111111,\"#46039f\"],[0.2222222222222222,\"#7201a8\"],[0.3333333333333333,\"#9c179e\"],[0.4444444444444444,\"#bd3786\"],[0.5555555555555556,\"#d8576b\"],[0.6666666666666666,\"#ed7953\"],[0.7777777777777778,\"#fb9f3a\"],[0.8888888888888888,\"#fdca26\"],[1.0,\"#f0f921\"]],\"type\":\"histogram2dcontour\"}],\"mesh3d\":[{\"colorbar\":{\"outlinewidth\":0,\"ticks\":\"\"},\"type\":\"mesh3d\"}],\"parcoords\":[{\"line\":{\"colorbar\":{\"outlinewidth\":0,\"ticks\":\"\"}},\"type\":\"parcoords\"}],\"pie\":[{\"automargin\":true,\"type\":\"pie\"}],\"scatter\":[{\"marker\":{\"colorbar\":{\"outlinewidth\":0,\"ticks\":\"\"}},\"type\":\"scatter\"}],\"scatter3d\":[{\"line\":{\"colorbar\":{\"outlinewidth\":0,\"ticks\":\"\"}},\"marker\":{\"colorbar\":{\"outlinewidth\":0,\"ticks\":\"\"}},\"type\":\"scatter3d\"}],\"scattercarpet\":[{\"marker\":{\"colorbar\":{\"outlinewidth\":0,\"ticks\":\"\"}},\"type\":\"scattercarpet\"}],\"scattergeo\":[{\"marker\":{\"colorbar\":{\"outlinewidth\":0,\"ticks\":\"\"}},\"type\":\"scattergeo\"}],\"scattergl\":[{\"marker\":{\"colorbar\":{\"outlinewidth\":0,\"ticks\":\"\"}},\"type\":\"scattergl\"}],\"scattermapbox\":[{\"marker\":{\"colorbar\":{\"outlinewidth\":0,\"ticks\":\"\"}},\"type\":\"scattermapbox\"}],\"scatterpolar\":[{\"marker\":{\"colorbar\":{\"outlinewidth\":0,\"ticks\":\"\"}},\"type\":\"scatterpolar\"}],\"scatterpolargl\":[{\"marker\":{\"colorbar\":{\"outlinewidth\":0,\"ticks\":\"\"}},\"type\":\"scatterpolargl\"}],\"scatterternary\":[{\"marker\":{\"colorbar\":{\"outlinewidth\":0,\"ticks\":\"\"}},\"type\":\"scatterternary\"}],\"surface\":[{\"colorbar\":{\"outlinewidth\":0,\"ticks\":\"\"},\"colorscale\":[[0.0,\"#0d0887\"],[0.1111111111111111,\"#46039f\"],[0.2222222222222222,\"#7201a8\"],[0.3333333333333333,\"#9c179e\"],[0.4444444444444444,\"#bd3786\"],[0.5555555555555556,\"#d8576b\"],[0.6666666666666666,\"#ed7953\"],[0.7777777777777778,\"#fb9f3a\"],[0.8888888888888888,\"#fdca26\"],[1.0,\"#f0f921\"]],\"type\":\"surface\"}],\"table\":[{\"cells\":{\"fill\":{\"color\":\"#EBF0F8\"},\"line\":{\"color\":\"white\"}},\"header\":{\"fill\":{\"color\":\"#C8D4E3\"},\"line\":{\"color\":\"white\"}},\"type\":\"table\"}]},\"layout\":{\"annotationdefaults\":{\"arrowcolor\":\"#2a3f5f\",\"arrowhead\":0,\"arrowwidth\":1},\"autotypenumbers\":\"strict\",\"coloraxis\":{\"colorbar\":{\"outlinewidth\":0,\"ticks\":\"\"}},\"colorscale\":{\"diverging\":[[0,\"#8e0152\"],[0.1,\"#c51b7d\"],[0.2,\"#de77ae\"],[0.3,\"#f1b6da\"],[0.4,\"#fde0ef\"],[0.5,\"#f7f7f7\"],[0.6,\"#e6f5d0\"],[0.7,\"#b8e186\"],[0.8,\"#7fbc41\"],[0.9,\"#4d9221\"],[1,\"#276419\"]],\"sequential\":[[0.0,\"#0d0887\"],[0.1111111111111111,\"#46039f\"],[0.2222222222222222,\"#7201a8\"],[0.3333333333333333,\"#9c179e\"],[0.4444444444444444,\"#bd3786\"],[0.5555555555555556,\"#d8576b\"],[0.6666666666666666,\"#ed7953\"],[0.7777777777777778,\"#fb9f3a\"],[0.8888888888888888,\"#fdca26\"],[1.0,\"#f0f921\"]],\"sequentialminus\":[[0.0,\"#0d0887\"],[0.1111111111111111,\"#46039f\"],[0.2222222222222222,\"#7201a8\"],[0.3333333333333333,\"#9c179e\"],[0.4444444444444444,\"#bd3786\"],[0.5555555555555556,\"#d8576b\"],[0.6666666666666666,\"#ed7953\"],[0.7777777777777778,\"#fb9f3a\"],[0.8888888888888888,\"#fdca26\"],[1.0,\"#f0f921\"]]},\"colorway\":[\"#636efa\",\"#EF553B\",\"#00cc96\",\"#ab63fa\",\"#FFA15A\",\"#19d3f3\",\"#FF6692\",\"#B6E880\",\"#FF97FF\",\"#FECB52\"],\"font\":{\"color\":\"#2a3f5f\"},\"geo\":{\"bgcolor\":\"white\",\"lakecolor\":\"white\",\"landcolor\":\"#E5ECF6\",\"showlakes\":true,\"showland\":true,\"subunitcolor\":\"white\"},\"hoverlabel\":{\"align\":\"left\"},\"hovermode\":\"closest\",\"mapbox\":{\"style\":\"light\"},\"paper_bgcolor\":\"white\",\"plot_bgcolor\":\"#E5ECF6\",\"polar\":{\"angularaxis\":{\"gridcolor\":\"white\",\"linecolor\":\"white\",\"ticks\":\"\"},\"bgcolor\":\"#E5ECF6\",\"radialaxis\":{\"gridcolor\":\"white\",\"linecolor\":\"white\",\"ticks\":\"\"}},\"scene\":{\"xaxis\":{\"backgroundcolor\":\"#E5ECF6\",\"gridcolor\":\"white\",\"gridwidth\":2,\"linecolor\":\"white\",\"showbackground\":true,\"ticks\":\"\",\"zerolinecolor\":\"white\"},\"yaxis\":{\"backgroundcolor\":\"#E5ECF6\",\"gridcolor\":\"white\",\"gridwidth\":2,\"linecolor\":\"white\",\"showbackground\":true,\"ticks\":\"\",\"zerolinecolor\":\"white\"},\"zaxis\":{\"backgroundcolor\":\"#E5ECF6\",\"gridcolor\":\"white\",\"gridwidth\":2,\"linecolor\":\"white\",\"showbackground\":true,\"ticks\":\"\",\"zerolinecolor\":\"white\"}},\"shapedefaults\":{\"line\":{\"color\":\"#2a3f5f\"}},\"ternary\":{\"aaxis\":{\"gridcolor\":\"white\",\"linecolor\":\"white\",\"ticks\":\"\"},\"baxis\":{\"gridcolor\":\"white\",\"linecolor\":\"white\",\"ticks\":\"\"},\"bgcolor\":\"#E5ECF6\",\"caxis\":{\"gridcolor\":\"white\",\"linecolor\":\"white\",\"ticks\":\"\"}},\"title\":{\"x\":0.05},\"xaxis\":{\"automargin\":true,\"gridcolor\":\"white\",\"linecolor\":\"white\",\"ticks\":\"\",\"title\":{\"standoff\":15},\"zerolinecolor\":\"white\",\"zerolinewidth\":2},\"yaxis\":{\"automargin\":true,\"gridcolor\":\"white\",\"linecolor\":\"white\",\"ticks\":\"\",\"title\":{\"standoff\":15},\"zerolinecolor\":\"white\",\"zerolinewidth\":2}}},\"title\":{\"text\":\"Slice Plot\"},\"xaxis\":{\"anchor\":\"y\",\"domain\":[0.0,0.2888888888888889],\"title\":{\"text\":\"criterion\"}},\"xaxis2\":{\"anchor\":\"y2\",\"domain\":[0.35555555555555557,0.6444444444444445],\"title\":{\"text\":\"max_depth\"}},\"xaxis3\":{\"anchor\":\"y3\",\"domain\":[0.7111111111111111,1.0],\"title\":{\"text\":\"n_estimators\"}},\"yaxis\":{\"anchor\":\"x\",\"domain\":[0.0,1.0],\"title\":{\"text\":\"Objective Value\"}},\"yaxis2\":{\"anchor\":\"x2\",\"domain\":[0.0,1.0],\"matches\":\"y\",\"showticklabels\":false},\"yaxis3\":{\"anchor\":\"x3\",\"domain\":[0.0,1.0],\"matches\":\"y\",\"showticklabels\":false}},                        {\"responsive\": true}                    ).then(function(){\n",
       "                            \n",
       "var gd = document.getElementById('ac1c397d-c9e9-44e8-934c-2b610c9dffe8');\n",
       "var x = new MutationObserver(function (mutations, observer) {{\n",
       "        var display = window.getComputedStyle(gd).display;\n",
       "        if (!display || display === 'none') {{\n",
       "            console.log([gd, 'removed!']);\n",
       "            Plotly.purge(gd);\n",
       "            observer.disconnect();\n",
       "        }}\n",
       "}});\n",
       "\n",
       "// Listen for the removal of the full notebook cells\n",
       "var notebookContainer = gd.closest('#notebook-container');\n",
       "if (notebookContainer) {{\n",
       "    x.observe(notebookContainer, {childList: true});\n",
       "}}\n",
       "\n",
       "// Listen for the clearing of the current output cell\n",
       "var outputEl = gd.closest('.output');\n",
       "if (outputEl) {{\n",
       "    x.observe(outputEl, {childList: true});\n",
       "}}\n",
       "\n",
       "                        })                };                });            </script>        </div>"
      ]
     },
     "metadata": {},
     "output_type": "display_data"
    }
   ],
   "source": [
    "from optuna.visualization import plot_slice\n",
    "from optuna.visualization import plot_param_importances\n",
    "\n",
    "\n",
    "plot_slice(study)"
   ]
  },
  {
   "cell_type": "markdown",
   "metadata": {
    "pycharm": {
     "name": "#%% md\n"
    }
   },
   "source": [
    "We can also use some evaluation function to determine which hyperparameter affected tuning and improvement more."
   ]
  },
  {
   "cell_type": "code",
   "execution_count": 53,
   "metadata": {
    "pycharm": {
     "name": "#%%\n"
    }
   },
   "outputs": [
    {
     "data": {
      "application/vnd.plotly.v1+json": {
       "config": {
        "plotlyServerURL": "https://plot.ly"
       },
       "data": [
        {
         "cliponaxis": false,
         "hovertemplate": [
          "criterion (CategoricalDistribution): 0.15648293120921006<extra></extra>",
          "max_depth (IntUniformDistribution): 0.17398508848260152<extra></extra>",
          "n_estimators (IntUniformDistribution): 0.6695319803081884<extra></extra>"
         ],
         "marker": {
          "color": "rgb(66,146,198)"
         },
         "orientation": "h",
         "text": [
          "0.15648293120921006",
          "0.17398508848260152",
          "0.6695319803081884"
         ],
         "textposition": "outside",
         "texttemplate": "%{text:.2f}",
         "type": "bar",
         "x": [
          0.15648293120921006,
          0.17398508848260152,
          0.6695319803081884
         ],
         "y": [
          "criterion",
          "max_depth",
          "n_estimators"
         ]
        }
       ],
       "layout": {
        "autosize": true,
        "showlegend": false,
        "template": {
         "data": {
          "bar": [
           {
            "error_x": {
             "color": "#2a3f5f"
            },
            "error_y": {
             "color": "#2a3f5f"
            },
            "marker": {
             "line": {
              "color": "#E5ECF6",
              "width": 0.5
             },
             "pattern": {
              "fillmode": "overlay",
              "size": 10,
              "solidity": 0.2
             }
            },
            "type": "bar"
           }
          ],
          "barpolar": [
           {
            "marker": {
             "line": {
              "color": "#E5ECF6",
              "width": 0.5
             },
             "pattern": {
              "fillmode": "overlay",
              "size": 10,
              "solidity": 0.2
             }
            },
            "type": "barpolar"
           }
          ],
          "carpet": [
           {
            "aaxis": {
             "endlinecolor": "#2a3f5f",
             "gridcolor": "white",
             "linecolor": "white",
             "minorgridcolor": "white",
             "startlinecolor": "#2a3f5f"
            },
            "baxis": {
             "endlinecolor": "#2a3f5f",
             "gridcolor": "white",
             "linecolor": "white",
             "minorgridcolor": "white",
             "startlinecolor": "#2a3f5f"
            },
            "type": "carpet"
           }
          ],
          "choropleth": [
           {
            "colorbar": {
             "outlinewidth": 0,
             "ticks": ""
            },
            "type": "choropleth"
           }
          ],
          "contour": [
           {
            "colorbar": {
             "outlinewidth": 0,
             "ticks": ""
            },
            "colorscale": [
             [
              0,
              "#0d0887"
             ],
             [
              0.1111111111111111,
              "#46039f"
             ],
             [
              0.2222222222222222,
              "#7201a8"
             ],
             [
              0.3333333333333333,
              "#9c179e"
             ],
             [
              0.4444444444444444,
              "#bd3786"
             ],
             [
              0.5555555555555556,
              "#d8576b"
             ],
             [
              0.6666666666666666,
              "#ed7953"
             ],
             [
              0.7777777777777778,
              "#fb9f3a"
             ],
             [
              0.8888888888888888,
              "#fdca26"
             ],
             [
              1,
              "#f0f921"
             ]
            ],
            "type": "contour"
           }
          ],
          "contourcarpet": [
           {
            "colorbar": {
             "outlinewidth": 0,
             "ticks": ""
            },
            "type": "contourcarpet"
           }
          ],
          "heatmap": [
           {
            "colorbar": {
             "outlinewidth": 0,
             "ticks": ""
            },
            "colorscale": [
             [
              0,
              "#0d0887"
             ],
             [
              0.1111111111111111,
              "#46039f"
             ],
             [
              0.2222222222222222,
              "#7201a8"
             ],
             [
              0.3333333333333333,
              "#9c179e"
             ],
             [
              0.4444444444444444,
              "#bd3786"
             ],
             [
              0.5555555555555556,
              "#d8576b"
             ],
             [
              0.6666666666666666,
              "#ed7953"
             ],
             [
              0.7777777777777778,
              "#fb9f3a"
             ],
             [
              0.8888888888888888,
              "#fdca26"
             ],
             [
              1,
              "#f0f921"
             ]
            ],
            "type": "heatmap"
           }
          ],
          "heatmapgl": [
           {
            "colorbar": {
             "outlinewidth": 0,
             "ticks": ""
            },
            "colorscale": [
             [
              0,
              "#0d0887"
             ],
             [
              0.1111111111111111,
              "#46039f"
             ],
             [
              0.2222222222222222,
              "#7201a8"
             ],
             [
              0.3333333333333333,
              "#9c179e"
             ],
             [
              0.4444444444444444,
              "#bd3786"
             ],
             [
              0.5555555555555556,
              "#d8576b"
             ],
             [
              0.6666666666666666,
              "#ed7953"
             ],
             [
              0.7777777777777778,
              "#fb9f3a"
             ],
             [
              0.8888888888888888,
              "#fdca26"
             ],
             [
              1,
              "#f0f921"
             ]
            ],
            "type": "heatmapgl"
           }
          ],
          "histogram": [
           {
            "marker": {
             "pattern": {
              "fillmode": "overlay",
              "size": 10,
              "solidity": 0.2
             }
            },
            "type": "histogram"
           }
          ],
          "histogram2d": [
           {
            "colorbar": {
             "outlinewidth": 0,
             "ticks": ""
            },
            "colorscale": [
             [
              0,
              "#0d0887"
             ],
             [
              0.1111111111111111,
              "#46039f"
             ],
             [
              0.2222222222222222,
              "#7201a8"
             ],
             [
              0.3333333333333333,
              "#9c179e"
             ],
             [
              0.4444444444444444,
              "#bd3786"
             ],
             [
              0.5555555555555556,
              "#d8576b"
             ],
             [
              0.6666666666666666,
              "#ed7953"
             ],
             [
              0.7777777777777778,
              "#fb9f3a"
             ],
             [
              0.8888888888888888,
              "#fdca26"
             ],
             [
              1,
              "#f0f921"
             ]
            ],
            "type": "histogram2d"
           }
          ],
          "histogram2dcontour": [
           {
            "colorbar": {
             "outlinewidth": 0,
             "ticks": ""
            },
            "colorscale": [
             [
              0,
              "#0d0887"
             ],
             [
              0.1111111111111111,
              "#46039f"
             ],
             [
              0.2222222222222222,
              "#7201a8"
             ],
             [
              0.3333333333333333,
              "#9c179e"
             ],
             [
              0.4444444444444444,
              "#bd3786"
             ],
             [
              0.5555555555555556,
              "#d8576b"
             ],
             [
              0.6666666666666666,
              "#ed7953"
             ],
             [
              0.7777777777777778,
              "#fb9f3a"
             ],
             [
              0.8888888888888888,
              "#fdca26"
             ],
             [
              1,
              "#f0f921"
             ]
            ],
            "type": "histogram2dcontour"
           }
          ],
          "mesh3d": [
           {
            "colorbar": {
             "outlinewidth": 0,
             "ticks": ""
            },
            "type": "mesh3d"
           }
          ],
          "parcoords": [
           {
            "line": {
             "colorbar": {
              "outlinewidth": 0,
              "ticks": ""
             }
            },
            "type": "parcoords"
           }
          ],
          "pie": [
           {
            "automargin": true,
            "type": "pie"
           }
          ],
          "scatter": [
           {
            "marker": {
             "colorbar": {
              "outlinewidth": 0,
              "ticks": ""
             }
            },
            "type": "scatter"
           }
          ],
          "scatter3d": [
           {
            "line": {
             "colorbar": {
              "outlinewidth": 0,
              "ticks": ""
             }
            },
            "marker": {
             "colorbar": {
              "outlinewidth": 0,
              "ticks": ""
             }
            },
            "type": "scatter3d"
           }
          ],
          "scattercarpet": [
           {
            "marker": {
             "colorbar": {
              "outlinewidth": 0,
              "ticks": ""
             }
            },
            "type": "scattercarpet"
           }
          ],
          "scattergeo": [
           {
            "marker": {
             "colorbar": {
              "outlinewidth": 0,
              "ticks": ""
             }
            },
            "type": "scattergeo"
           }
          ],
          "scattergl": [
           {
            "marker": {
             "colorbar": {
              "outlinewidth": 0,
              "ticks": ""
             }
            },
            "type": "scattergl"
           }
          ],
          "scattermapbox": [
           {
            "marker": {
             "colorbar": {
              "outlinewidth": 0,
              "ticks": ""
             }
            },
            "type": "scattermapbox"
           }
          ],
          "scatterpolar": [
           {
            "marker": {
             "colorbar": {
              "outlinewidth": 0,
              "ticks": ""
             }
            },
            "type": "scatterpolar"
           }
          ],
          "scatterpolargl": [
           {
            "marker": {
             "colorbar": {
              "outlinewidth": 0,
              "ticks": ""
             }
            },
            "type": "scatterpolargl"
           }
          ],
          "scatterternary": [
           {
            "marker": {
             "colorbar": {
              "outlinewidth": 0,
              "ticks": ""
             }
            },
            "type": "scatterternary"
           }
          ],
          "surface": [
           {
            "colorbar": {
             "outlinewidth": 0,
             "ticks": ""
            },
            "colorscale": [
             [
              0,
              "#0d0887"
             ],
             [
              0.1111111111111111,
              "#46039f"
             ],
             [
              0.2222222222222222,
              "#7201a8"
             ],
             [
              0.3333333333333333,
              "#9c179e"
             ],
             [
              0.4444444444444444,
              "#bd3786"
             ],
             [
              0.5555555555555556,
              "#d8576b"
             ],
             [
              0.6666666666666666,
              "#ed7953"
             ],
             [
              0.7777777777777778,
              "#fb9f3a"
             ],
             [
              0.8888888888888888,
              "#fdca26"
             ],
             [
              1,
              "#f0f921"
             ]
            ],
            "type": "surface"
           }
          ],
          "table": [
           {
            "cells": {
             "fill": {
              "color": "#EBF0F8"
             },
             "line": {
              "color": "white"
             }
            },
            "header": {
             "fill": {
              "color": "#C8D4E3"
             },
             "line": {
              "color": "white"
             }
            },
            "type": "table"
           }
          ]
         },
         "layout": {
          "annotationdefaults": {
           "arrowcolor": "#2a3f5f",
           "arrowhead": 0,
           "arrowwidth": 1
          },
          "autotypenumbers": "strict",
          "coloraxis": {
           "colorbar": {
            "outlinewidth": 0,
            "ticks": ""
           }
          },
          "colorscale": {
           "diverging": [
            [
             0,
             "#8e0152"
            ],
            [
             0.1,
             "#c51b7d"
            ],
            [
             0.2,
             "#de77ae"
            ],
            [
             0.3,
             "#f1b6da"
            ],
            [
             0.4,
             "#fde0ef"
            ],
            [
             0.5,
             "#f7f7f7"
            ],
            [
             0.6,
             "#e6f5d0"
            ],
            [
             0.7,
             "#b8e186"
            ],
            [
             0.8,
             "#7fbc41"
            ],
            [
             0.9,
             "#4d9221"
            ],
            [
             1,
             "#276419"
            ]
           ],
           "sequential": [
            [
             0,
             "#0d0887"
            ],
            [
             0.1111111111111111,
             "#46039f"
            ],
            [
             0.2222222222222222,
             "#7201a8"
            ],
            [
             0.3333333333333333,
             "#9c179e"
            ],
            [
             0.4444444444444444,
             "#bd3786"
            ],
            [
             0.5555555555555556,
             "#d8576b"
            ],
            [
             0.6666666666666666,
             "#ed7953"
            ],
            [
             0.7777777777777778,
             "#fb9f3a"
            ],
            [
             0.8888888888888888,
             "#fdca26"
            ],
            [
             1,
             "#f0f921"
            ]
           ],
           "sequentialminus": [
            [
             0,
             "#0d0887"
            ],
            [
             0.1111111111111111,
             "#46039f"
            ],
            [
             0.2222222222222222,
             "#7201a8"
            ],
            [
             0.3333333333333333,
             "#9c179e"
            ],
            [
             0.4444444444444444,
             "#bd3786"
            ],
            [
             0.5555555555555556,
             "#d8576b"
            ],
            [
             0.6666666666666666,
             "#ed7953"
            ],
            [
             0.7777777777777778,
             "#fb9f3a"
            ],
            [
             0.8888888888888888,
             "#fdca26"
            ],
            [
             1,
             "#f0f921"
            ]
           ]
          },
          "colorway": [
           "#636efa",
           "#EF553B",
           "#00cc96",
           "#ab63fa",
           "#FFA15A",
           "#19d3f3",
           "#FF6692",
           "#B6E880",
           "#FF97FF",
           "#FECB52"
          ],
          "font": {
           "color": "#2a3f5f"
          },
          "geo": {
           "bgcolor": "white",
           "lakecolor": "white",
           "landcolor": "#E5ECF6",
           "showlakes": true,
           "showland": true,
           "subunitcolor": "white"
          },
          "hoverlabel": {
           "align": "left"
          },
          "hovermode": "closest",
          "mapbox": {
           "style": "light"
          },
          "paper_bgcolor": "white",
          "plot_bgcolor": "#E5ECF6",
          "polar": {
           "angularaxis": {
            "gridcolor": "white",
            "linecolor": "white",
            "ticks": ""
           },
           "bgcolor": "#E5ECF6",
           "radialaxis": {
            "gridcolor": "white",
            "linecolor": "white",
            "ticks": ""
           }
          },
          "scene": {
           "xaxis": {
            "backgroundcolor": "#E5ECF6",
            "gridcolor": "white",
            "gridwidth": 2,
            "linecolor": "white",
            "showbackground": true,
            "ticks": "",
            "zerolinecolor": "white"
           },
           "yaxis": {
            "backgroundcolor": "#E5ECF6",
            "gridcolor": "white",
            "gridwidth": 2,
            "linecolor": "white",
            "showbackground": true,
            "ticks": "",
            "zerolinecolor": "white"
           },
           "zaxis": {
            "backgroundcolor": "#E5ECF6",
            "gridcolor": "white",
            "gridwidth": 2,
            "linecolor": "white",
            "showbackground": true,
            "ticks": "",
            "zerolinecolor": "white"
           }
          },
          "shapedefaults": {
           "line": {
            "color": "#2a3f5f"
           }
          },
          "ternary": {
           "aaxis": {
            "gridcolor": "white",
            "linecolor": "white",
            "ticks": ""
           },
           "baxis": {
            "gridcolor": "white",
            "linecolor": "white",
            "ticks": ""
           },
           "bgcolor": "#E5ECF6",
           "caxis": {
            "gridcolor": "white",
            "linecolor": "white",
            "ticks": ""
           }
          },
          "title": {
           "x": 0.05
          },
          "xaxis": {
           "automargin": true,
           "gridcolor": "white",
           "linecolor": "white",
           "ticks": "",
           "title": {
            "standoff": 15
           },
           "zerolinecolor": "white",
           "zerolinewidth": 2
          },
          "yaxis": {
           "automargin": true,
           "gridcolor": "white",
           "linecolor": "white",
           "ticks": "",
           "title": {
            "standoff": 15
           },
           "zerolinecolor": "white",
           "zerolinewidth": 2
          }
         }
        },
        "title": {
         "text": "Hyperparameter Importances"
        },
        "xaxis": {
         "autorange": true,
         "range": [
          0,
          0.7047705055875667
         ],
         "title": {
          "text": "Importance for Objective Value"
         },
         "type": "linear"
        },
        "yaxis": {
         "autorange": true,
         "range": [
          -0.5,
          2.5
         ],
         "title": {
          "text": "Hyperparameter"
         },
         "type": "category"
        }
       }
      },
      "image/png": "[encoded data removed]",
      "text/html": [
       "<div>                            <div id=\"813c1ecf-7c61-4c15-ab61-4aa8f21f3df0\" class=\"plotly-graph-div\" style=\"height:525px; width:100%;\"></div>            <script type=\"text/javascript\">                require([\"plotly\"], function(Plotly) {                    window.PLOTLYENV=window.PLOTLYENV || {};                                    if (document.getElementById(\"813c1ecf-7c61-4c15-ab61-4aa8f21f3df0\")) {                    Plotly.newPlot(                        \"813c1ecf-7c61-4c15-ab61-4aa8f21f3df0\",                        [{\"cliponaxis\":false,\"hovertemplate\":[\"criterion (CategoricalDistribution): 0.15648293120921006<extra></extra>\",\"max_depth (IntUniformDistribution): 0.17398508848260152<extra></extra>\",\"n_estimators (IntUniformDistribution): 0.6695319803081884<extra></extra>\"],\"marker\":{\"color\":\"rgb(66,146,198)\"},\"orientation\":\"h\",\"text\":[\"0.15648293120921006\",\"0.17398508848260152\",\"0.6695319803081884\"],\"textposition\":\"outside\",\"texttemplate\":\"%{text:.2f}\",\"type\":\"bar\",\"x\":[0.15648293120921006,0.17398508848260152,0.6695319803081884],\"y\":[\"criterion\",\"max_depth\",\"n_estimators\"]}],                        {\"showlegend\":false,\"template\":{\"data\":{\"bar\":[{\"error_x\":{\"color\":\"#2a3f5f\"},\"error_y\":{\"color\":\"#2a3f5f\"},\"marker\":{\"line\":{\"color\":\"#E5ECF6\",\"width\":0.5},\"pattern\":{\"fillmode\":\"overlay\",\"size\":10,\"solidity\":0.2}},\"type\":\"bar\"}],\"barpolar\":[{\"marker\":{\"line\":{\"color\":\"#E5ECF6\",\"width\":0.5},\"pattern\":{\"fillmode\":\"overlay\",\"size\":10,\"solidity\":0.2}},\"type\":\"barpolar\"}],\"carpet\":[{\"aaxis\":{\"endlinecolor\":\"#2a3f5f\",\"gridcolor\":\"white\",\"linecolor\":\"white\",\"minorgridcolor\":\"white\",\"startlinecolor\":\"#2a3f5f\"},\"baxis\":{\"endlinecolor\":\"#2a3f5f\",\"gridcolor\":\"white\",\"linecolor\":\"white\",\"minorgridcolor\":\"white\",\"startlinecolor\":\"#2a3f5f\"},\"type\":\"carpet\"}],\"choropleth\":[{\"colorbar\":{\"outlinewidth\":0,\"ticks\":\"\"},\"type\":\"choropleth\"}],\"contour\":[{\"colorbar\":{\"outlinewidth\":0,\"ticks\":\"\"},\"colorscale\":[[0.0,\"#0d0887\"],[0.1111111111111111,\"#46039f\"],[0.2222222222222222,\"#7201a8\"],[0.3333333333333333,\"#9c179e\"],[0.4444444444444444,\"#bd3786\"],[0.5555555555555556,\"#d8576b\"],[0.6666666666666666,\"#ed7953\"],[0.7777777777777778,\"#fb9f3a\"],[0.8888888888888888,\"#fdca26\"],[1.0,\"#f0f921\"]],\"type\":\"contour\"}],\"contourcarpet\":[{\"colorbar\":{\"outlinewidth\":0,\"ticks\":\"\"},\"type\":\"contourcarpet\"}],\"heatmap\":[{\"colorbar\":{\"outlinewidth\":0,\"ticks\":\"\"},\"colorscale\":[[0.0,\"#0d0887\"],[0.1111111111111111,\"#46039f\"],[0.2222222222222222,\"#7201a8\"],[0.3333333333333333,\"#9c179e\"],[0.4444444444444444,\"#bd3786\"],[0.5555555555555556,\"#d8576b\"],[0.6666666666666666,\"#ed7953\"],[0.7777777777777778,\"#fb9f3a\"],[0.8888888888888888,\"#fdca26\"],[1.0,\"#f0f921\"]],\"type\":\"heatmap\"}],\"heatmapgl\":[{\"colorbar\":{\"outlinewidth\":0,\"ticks\":\"\"},\"colorscale\":[[0.0,\"#0d0887\"],[0.1111111111111111,\"#46039f\"],[0.2222222222222222,\"#7201a8\"],[0.3333333333333333,\"#9c179e\"],[0.4444444444444444,\"#bd3786\"],[0.5555555555555556,\"#d8576b\"],[0.6666666666666666,\"#ed7953\"],[0.7777777777777778,\"#fb9f3a\"],[0.8888888888888888,\"#fdca26\"],[1.0,\"#f0f921\"]],\"type\":\"heatmapgl\"}],\"histogram\":[{\"marker\":{\"pattern\":{\"fillmode\":\"overlay\",\"size\":10,\"solidity\":0.2}},\"type\":\"histogram\"}],\"histogram2d\":[{\"colorbar\":{\"outlinewidth\":0,\"ticks\":\"\"},\"colorscale\":[[0.0,\"#0d0887\"],[0.1111111111111111,\"#46039f\"],[0.2222222222222222,\"#7201a8\"],[0.3333333333333333,\"#9c179e\"],[0.4444444444444444,\"#bd3786\"],[0.5555555555555556,\"#d8576b\"],[0.6666666666666666,\"#ed7953\"],[0.7777777777777778,\"#fb9f3a\"],[0.8888888888888888,\"#fdca26\"],[1.0,\"#f0f921\"]],\"type\":\"histogram2d\"}],\"histogram2dcontour\":[{\"colorbar\":{\"outlinewidth\":0,\"ticks\":\"\"},\"colorscale\":[[0.0,\"#0d0887\"],[0.1111111111111111,\"#46039f\"],[0.2222222222222222,\"#7201a8\"],[0.3333333333333333,\"#9c179e\"],[0.4444444444444444,\"#bd3786\"],[0.5555555555555556,\"#d8576b\"],[0.6666666666666666,\"#ed7953\"],[0.7777777777777778,\"#fb9f3a\"],[0.8888888888888888,\"#fdca26\"],[1.0,\"#f0f921\"]],\"type\":\"histogram2dcontour\"}],\"mesh3d\":[{\"colorbar\":{\"outlinewidth\":0,\"ticks\":\"\"},\"type\":\"mesh3d\"}],\"parcoords\":[{\"line\":{\"colorbar\":{\"outlinewidth\":0,\"ticks\":\"\"}},\"type\":\"parcoords\"}],\"pie\":[{\"automargin\":true,\"type\":\"pie\"}],\"scatter\":[{\"marker\":{\"colorbar\":{\"outlinewidth\":0,\"ticks\":\"\"}},\"type\":\"scatter\"}],\"scatter3d\":[{\"line\":{\"colorbar\":{\"outlinewidth\":0,\"ticks\":\"\"}},\"marker\":{\"colorbar\":{\"outlinewidth\":0,\"ticks\":\"\"}},\"type\":\"scatter3d\"}],\"scattercarpet\":[{\"marker\":{\"colorbar\":{\"outlinewidth\":0,\"ticks\":\"\"}},\"type\":\"scattercarpet\"}],\"scattergeo\":[{\"marker\":{\"colorbar\":{\"outlinewidth\":0,\"ticks\":\"\"}},\"type\":\"scattergeo\"}],\"scattergl\":[{\"marker\":{\"colorbar\":{\"outlinewidth\":0,\"ticks\":\"\"}},\"type\":\"scattergl\"}],\"scattermapbox\":[{\"marker\":{\"colorbar\":{\"outlinewidth\":0,\"ticks\":\"\"}},\"type\":\"scattermapbox\"}],\"scatterpolar\":[{\"marker\":{\"colorbar\":{\"outlinewidth\":0,\"ticks\":\"\"}},\"type\":\"scatterpolar\"}],\"scatterpolargl\":[{\"marker\":{\"colorbar\":{\"outlinewidth\":0,\"ticks\":\"\"}},\"type\":\"scatterpolargl\"}],\"scatterternary\":[{\"marker\":{\"colorbar\":{\"outlinewidth\":0,\"ticks\":\"\"}},\"type\":\"scatterternary\"}],\"surface\":[{\"colorbar\":{\"outlinewidth\":0,\"ticks\":\"\"},\"colorscale\":[[0.0,\"#0d0887\"],[0.1111111111111111,\"#46039f\"],[0.2222222222222222,\"#7201a8\"],[0.3333333333333333,\"#9c179e\"],[0.4444444444444444,\"#bd3786\"],[0.5555555555555556,\"#d8576b\"],[0.6666666666666666,\"#ed7953\"],[0.7777777777777778,\"#fb9f3a\"],[0.8888888888888888,\"#fdca26\"],[1.0,\"#f0f921\"]],\"type\":\"surface\"}],\"table\":[{\"cells\":{\"fill\":{\"color\":\"#EBF0F8\"},\"line\":{\"color\":\"white\"}},\"header\":{\"fill\":{\"color\":\"#C8D4E3\"},\"line\":{\"color\":\"white\"}},\"type\":\"table\"}]},\"layout\":{\"annotationdefaults\":{\"arrowcolor\":\"#2a3f5f\",\"arrowhead\":0,\"arrowwidth\":1},\"autotypenumbers\":\"strict\",\"coloraxis\":{\"colorbar\":{\"outlinewidth\":0,\"ticks\":\"\"}},\"colorscale\":{\"diverging\":[[0,\"#8e0152\"],[0.1,\"#c51b7d\"],[0.2,\"#de77ae\"],[0.3,\"#f1b6da\"],[0.4,\"#fde0ef\"],[0.5,\"#f7f7f7\"],[0.6,\"#e6f5d0\"],[0.7,\"#b8e186\"],[0.8,\"#7fbc41\"],[0.9,\"#4d9221\"],[1,\"#276419\"]],\"sequential\":[[0.0,\"#0d0887\"],[0.1111111111111111,\"#46039f\"],[0.2222222222222222,\"#7201a8\"],[0.3333333333333333,\"#9c179e\"],[0.4444444444444444,\"#bd3786\"],[0.5555555555555556,\"#d8576b\"],[0.6666666666666666,\"#ed7953\"],[0.7777777777777778,\"#fb9f3a\"],[0.8888888888888888,\"#fdca26\"],[1.0,\"#f0f921\"]],\"sequentialminus\":[[0.0,\"#0d0887\"],[0.1111111111111111,\"#46039f\"],[0.2222222222222222,\"#7201a8\"],[0.3333333333333333,\"#9c179e\"],[0.4444444444444444,\"#bd3786\"],[0.5555555555555556,\"#d8576b\"],[0.6666666666666666,\"#ed7953\"],[0.7777777777777778,\"#fb9f3a\"],[0.8888888888888888,\"#fdca26\"],[1.0,\"#f0f921\"]]},\"colorway\":[\"#636efa\",\"#EF553B\",\"#00cc96\",\"#ab63fa\",\"#FFA15A\",\"#19d3f3\",\"#FF6692\",\"#B6E880\",\"#FF97FF\",\"#FECB52\"],\"font\":{\"color\":\"#2a3f5f\"},\"geo\":{\"bgcolor\":\"white\",\"lakecolor\":\"white\",\"landcolor\":\"#E5ECF6\",\"showlakes\":true,\"showland\":true,\"subunitcolor\":\"white\"},\"hoverlabel\":{\"align\":\"left\"},\"hovermode\":\"closest\",\"mapbox\":{\"style\":\"light\"},\"paper_bgcolor\":\"white\",\"plot_bgcolor\":\"#E5ECF6\",\"polar\":{\"angularaxis\":{\"gridcolor\":\"white\",\"linecolor\":\"white\",\"ticks\":\"\"},\"bgcolor\":\"#E5ECF6\",\"radialaxis\":{\"gridcolor\":\"white\",\"linecolor\":\"white\",\"ticks\":\"\"}},\"scene\":{\"xaxis\":{\"backgroundcolor\":\"#E5ECF6\",\"gridcolor\":\"white\",\"gridwidth\":2,\"linecolor\":\"white\",\"showbackground\":true,\"ticks\":\"\",\"zerolinecolor\":\"white\"},\"yaxis\":{\"backgroundcolor\":\"#E5ECF6\",\"gridcolor\":\"white\",\"gridwidth\":2,\"linecolor\":\"white\",\"showbackground\":true,\"ticks\":\"\",\"zerolinecolor\":\"white\"},\"zaxis\":{\"backgroundcolor\":\"#E5ECF6\",\"gridcolor\":\"white\",\"gridwidth\":2,\"linecolor\":\"white\",\"showbackground\":true,\"ticks\":\"\",\"zerolinecolor\":\"white\"}},\"shapedefaults\":{\"line\":{\"color\":\"#2a3f5f\"}},\"ternary\":{\"aaxis\":{\"gridcolor\":\"white\",\"linecolor\":\"white\",\"ticks\":\"\"},\"baxis\":{\"gridcolor\":\"white\",\"linecolor\":\"white\",\"ticks\":\"\"},\"bgcolor\":\"#E5ECF6\",\"caxis\":{\"gridcolor\":\"white\",\"linecolor\":\"white\",\"ticks\":\"\"}},\"title\":{\"x\":0.05},\"xaxis\":{\"automargin\":true,\"gridcolor\":\"white\",\"linecolor\":\"white\",\"ticks\":\"\",\"title\":{\"standoff\":15},\"zerolinecolor\":\"white\",\"zerolinewidth\":2},\"yaxis\":{\"automargin\":true,\"gridcolor\":\"white\",\"linecolor\":\"white\",\"ticks\":\"\",\"title\":{\"standoff\":15},\"zerolinecolor\":\"white\",\"zerolinewidth\":2}}},\"title\":{\"text\":\"Hyperparameter Importances\"},\"xaxis\":{\"title\":{\"text\":\"Importance for Objective Value\"}},\"yaxis\":{\"title\":{\"text\":\"Hyperparameter\"}}},                        {\"responsive\": true}                    ).then(function(){\n",
       "                            \n",
       "var gd = document.getElementById('813c1ecf-7c61-4c15-ab61-4aa8f21f3df0');\n",
       "var x = new MutationObserver(function (mutations, observer) {{\n",
       "        var display = window.getComputedStyle(gd).display;\n",
       "        if (!display || display === 'none') {{\n",
       "            console.log([gd, 'removed!']);\n",
       "            Plotly.purge(gd);\n",
       "            observer.disconnect();\n",
       "        }}\n",
       "}});\n",
       "\n",
       "// Listen for the removal of the full notebook cells\n",
       "var notebookContainer = gd.closest('#notebook-container');\n",
       "if (notebookContainer) {{\n",
       "    x.observe(notebookContainer, {childList: true});\n",
       "}}\n",
       "\n",
       "// Listen for the clearing of the current output cell\n",
       "var outputEl = gd.closest('.output');\n",
       "if (outputEl) {{\n",
       "    x.observe(outputEl, {childList: true});\n",
       "}}\n",
       "\n",
       "                        })                };                });            </script>        </div>"
      ]
     },
     "metadata": {},
     "output_type": "display_data"
    }
   ],
   "source": [
    "plot_param_importances(study)\n"
   ]
  },
  {
   "cell_type": "markdown",
   "metadata": {
    "id": "9fg5cjIen8ea",
    "pycharm": {
     "name": "#%% md\n"
    }
   },
   "source": [
    "We can also include in the HPO various learning algorithms to choose from, each with its own possible HPs."
   ]
  },
  {
   "cell_type": "code",
   "execution_count": null,
   "metadata": {
    "pycharm": {
     "name": "#%%\n"
    }
   },
   "outputs": [],
   "source": []
  },
  {
   "cell_type": "code",
   "execution_count": null,
   "metadata": {
    "pycharm": {
     "name": "#%%\n"
    }
   },
   "outputs": [],
   "source": []
  },
  {
   "cell_type": "code",
   "execution_count": null,
   "metadata": {
    "pycharm": {
     "name": "#%%\n"
    }
   },
   "outputs": [],
   "source": []
  },
  {
   "cell_type": "code",
   "execution_count": null,
   "metadata": {
    "pycharm": {
     "name": "#%%\n"
    }
   },
   "outputs": [],
   "source": []
  },
  {
   "cell_type": "code",
   "execution_count": null,
   "metadata": {
    "pycharm": {
     "name": "#%%\n"
    }
   },
   "outputs": [],
   "source": []
  },
  {
   "cell_type": "code",
   "execution_count": null,
   "metadata": {
    "pycharm": {
     "name": "#%%\n"
    }
   },
   "outputs": [],
   "source": []
  },
  {
   "cell_type": "code",
   "execution_count": null,
   "metadata": {
    "pycharm": {
     "name": "#%%\n"
    }
   },
   "outputs": [],
   "source": []
  },
  {
   "cell_type": "code",
   "execution_count": null,
   "metadata": {
    "pycharm": {
     "name": "#%%\n"
    }
   },
   "outputs": [],
   "source": []
  },
  {
   "cell_type": "code",
   "execution_count": null,
   "metadata": {
    "pycharm": {
     "name": "#%%\n"
    }
   },
   "outputs": [],
   "source": []
  },
  {
   "cell_type": "markdown",
   "metadata": {
    "id": "CD8KjQD82zuV",
    "pycharm": {
     "name": "#%% md\n"
    }
   },
   "source": [
    "When deciding on a HP method, we should consider the following factors:\n",
    "* Discrete, continuous HPs: some BO methods might struggle with discrete HPs.  \n",
    "\n",
    "* Compute - can we parallelize: search based methods may work faster then BO with paralleization resources, as they don't work sequentially based on previous results."
   ]
  },
  {
   "cell_type": "markdown",
   "metadata": {
    "id": "wQe10aEDI4Cf",
    "pycharm": {
     "name": "#%% md\n"
    }
   },
   "source": [
    "## Cross Validation"
   ]
  },
  {
   "cell_type": "markdown",
   "metadata": {
    "id": "mySEyfHpI6Hr",
    "pycharm": {
     "name": "#%% md\n"
    }
   },
   "source": [
    "Moving on to a (not so) new concept, let's talk anout cross validation.\n",
    "<br>As a reminder, when training machine learning algorithms, we wish to measure an expected level of generalization for our algorithm- which is the reason that we perform a train-test split before training. However, in the process of working on our algorithm, we may find ourselves wanting a more 'robust' expression of the model's performance, or needing to tune different hyperparameters of our model.\n",
    "<br> Hyperparameters are, simply put, parameters pretaining to our model rather than our data- the amount of decision tress used in an ensemble, the level of regularization used in a linear model and the amount of clusters used when performing k-means clustering are all hyperparameters.\n",
    "<br> Take a moment to consider whether we'd like to tune these on the test set or not.\n",
    "<br><br>\n",
    "The result you've probably came to is that we probably should not - as this could lead a model whose parameters aren't necessarily best-fitted to unseen test data.  This ties in to our earlier point about requiring more robust metrics describing our model's performance. This is where cross validation comes in.\n",
    "<br> The general idea is rather simple- we use the same model settings to train over several different parts of our training data, and look at the required metric over each unused part. For example, we split our training data into 5 parts, and train five models- each on 4 parts- and measure their performance over the unused part of our training data. We then observe the results for all 5 models.\n",
    "<br> This method of cross validation is also called k-fold cross validation.\n",
    "<br> We should also make note of the fact that this is (usually) a naive way to split our data- as we might (rightfully) want to keep the class representation consistent throughout different folds. This is calld Stratified k-fold cross validation, and is quite usefull in multiclass or non balanced cases. \n"
   ]
  },
  {
   "cell_type": "markdown",
   "metadata": {
    "id": "ehGh9TGTM5xF",
    "pycharm": {
     "name": "#%% md\n"
    }
   },
   "source": [
    "\n",
    "![link text](https://scikit-learn.org/stable/_images/grid_search_cross_validation.png)\n",
    "\n"
   ]
  },
  {
   "cell_type": "code",
   "execution_count": 54,
   "metadata": {
    "id": "TGbzrGatNMNC",
    "pycharm": {
     "name": "#%%\n"
    }
   },
   "outputs": [],
   "source": [
    "from sklearn.model_selection import cross_validate,StratifiedKFold\n",
    "from sklearn.metrics import accuracy_score"
   ]
  },
  {
   "cell_type": "code",
   "execution_count": 55,
   "metadata": {
    "colab": {
     "base_uri": "https://localhost:8080/"
    },
    "id": "cw-q87VwNB7y",
    "outputId": "9230ca17-7064-47d9-a11a-8f103145b17b",
    "pycharm": {
     "name": "#%%\n"
    }
   },
   "outputs": [
    {
     "data": {
      "text/plain": [
       "{'fit_time': array([0.01196027, 0.01096606, 0.01095867, 0.01048756, 0.00996208]),\n",
       " 'score_time': array([0.00298691, 0.00199389, 0.00299072, 0.00199342, 0.00199342]),\n",
       " 'test_accuracy': array([0.71      , 0.79      , 0.8       , 0.77      , 0.82828283]),\n",
       " 'test_precision': array([0.64516129, 0.72222222, 0.79310345, 0.75      , 0.76315789])}"
      ]
     },
     "execution_count": 55,
     "metadata": {},
     "output_type": "execute_result"
    }
   ],
   "source": [
    "rf= RandomForestClassifier(n_estimators=10)\n",
    "scoring = ['accuracy','precision']\n",
    "cross_validate(rf,X_train,y_train,cv=5,scoring=scoring)"
   ]
  },
  {
   "cell_type": "code",
   "execution_count": 56,
   "metadata": {
    "id": "wyrhzaTJM_9m",
    "pycharm": {
     "name": "#%%\n"
    }
   },
   "outputs": [],
   "source": [
    "accuracies= []\n",
    "skf = StratifiedKFold(5)"
   ]
  },
  {
   "cell_type": "code",
   "execution_count": 57,
   "metadata": {
    "id": "tEZfC5ilQNNJ",
    "pycharm": {
     "name": "#%%\n"
    }
   },
   "outputs": [],
   "source": [
    "for train_index, test_index in skf.split(X_train, y_train):\n",
    "\n",
    "     x_trn  = X_train.iloc[train_index]\n",
    "     x_tst= X_train.iloc[test_index]\n",
    "     y_trn = y_train.iloc[train_index]\n",
    "     y_tst = y_train.iloc[test_index]\n",
    "     rf= RandomForestClassifier(n_estimators=10)\n",
    "     rf.fit(x_trn,y_trn)\n",
    "     accuracies.append(accuracy_score(y_tst,rf.predict(x_tst)))"
   ]
  },
  {
   "cell_type": "code",
   "execution_count": 58,
   "metadata": {
    "colab": {
     "base_uri": "https://localhost:8080/"
    },
    "id": "YQocr-66M4VX",
    "outputId": "e2a71bc8-e06f-49e8-c3e7-7c49cace8b41",
    "pycharm": {
     "name": "#%%\n"
    }
   },
   "outputs": [
    {
     "data": {
      "text/plain": [
       "[0.73, 0.82, 0.82, 0.78, 0.8484848484848485]"
      ]
     },
     "execution_count": 58,
     "metadata": {},
     "output_type": "execute_result"
    }
   ],
   "source": [
    "accuracies"
   ]
  },
  {
   "cell_type": "markdown",
   "metadata": {
    "id": "TgMtvBUzWD7B",
    "pycharm": {
     "name": "#%% md\n"
    }
   },
   "source": [
    "## Hypothesis testing"
   ]
  },
  {
   "cell_type": "markdown",
   "metadata": {
    "id": "SestEfbARkLn",
    "pycharm": {
     "name": "#%% md\n"
    }
   },
   "source": [
    "Now that we are aware of the metrics we measure in order to assert our models' worth, let's talk about the concept of significance.\n",
    "\n",
    "First, we measured the results given by a single model, and then moved on to several iteration of the same model parameters by using cross validation. We've used the 'mean metric' heuristic. But we disregard the concept of variance. If we attempt to simulate the distribution of accuracy, for example, for two different model configurations, we might find that their distribution overlap and one model configuration could potentially be \"better\" than another.\n",
    "\n",
    "To address this problem, let's talk about hypothesis testing. First, a statistical hypothesis is a  testable hypothesis based on observations of realised instances of random variables. Hypothesis testing is the process of formulating such hypotheses, assigning them some test statistic, and testing whether or not these hypothesis (or assumptions) hold.\n",
    "\n",
    "A hypothesis test requires two general hypothesis- the null hypothesis, which we try to refute, and the alternative. We use the observed data to calculate the required statistic (dependent of the test), and make a decision using its value.\n",
    "\n",
    "As an example, we'll talk about one of the most well known tests- the T-test- which tests the mean of a given distribution. For example, we could use the t-test to check whether we could reject the hypothesis of a the true mean of a distribution of a sample is lower or higher than some value (single sample t-tests) or between two samples (two sample t-tests). More practically, we can use this test to check whether the mean accuracy for one algorithm is higher or lower than another's."
   ]
  },
  {
   "cell_type": "markdown",
   "metadata": {
    "pycharm": {
     "name": "#%% md\n"
    }
   },
   "source": [
    "The t-test's statistics is calculated as such:\n",
    "\n",
    "\n",
    "![link text](https://wikimedia.org/api/rest_v1/media/math/render/svg/eeecf40c622f1fa6b0fb9462c7c4b7030cbb47eb)\n",
    "\n",
    "With:\n",
    "\n",
    "![link text](https://wikimedia.org/api/rest_v1/media/math/render/svg/5024dd38e905d60353a324af2a05058fdd4ac3e7)\n"
   ]
  },
  {
   "cell_type": "code",
   "execution_count": 59,
   "metadata": {
    "pycharm": {
     "name": "#%%\n"
    }
   },
   "outputs": [],
   "source": [
    "data = pd.read_csv(\"titanic_train.csv\")\n",
    "\n",
    "le = preprocessing.LabelEncoder()\n",
    "data['Sex'] = le.fit_transform(data['Sex'])\n",
    "\n",
    "\n",
    "features = ['Pclass', 'Sex', 'Age', 'SibSp', 'Parch', 'Fare']\n",
    "\n",
    "data = data[features + ['Survived']]\n",
    "data = data.dropna()\n",
    "\n",
    "y = data['Survived']\n",
    "X = data[features]\n",
    "\n",
    "\n",
    "X_train, X_test, y_train, y_test = train_test_split(X, y, test_size=0.3)\n"
   ]
  },
  {
   "cell_type": "code",
   "execution_count": 70,
   "metadata": {
    "id": "wv78Qw9bIUHB",
    "pycharm": {
     "name": "#%%\n"
    }
   },
   "outputs": [],
   "source": [
    "scoring = ['accuracy','precision']\n",
    "rf= RandomForestClassifier(n_estimators=25)\n",
    "rf_score = cross_validate(rf,X_train,y_train,cv=50,scoring=scoring)\n",
    "lm= LogisticRegression()\n",
    "lm_score = cross_validate(lm,X_train,y_train,cv=50,scoring=scoring)"
   ]
  },
  {
   "cell_type": "markdown",
   "metadata": {
    "pycharm": {
     "name": "#%% md\n"
    }
   },
   "source": [
    "To gain a bit of intuition, let's talk about the results as seen here:"
   ]
  },
  {
   "cell_type": "code",
   "execution_count": 73,
   "metadata": {
    "pycharm": {
     "name": "#%%\n"
    }
   },
   "outputs": [
    {
     "data": {
      "text/plain": [
       "<matplotlib.legend.Legend at 0x216be341130>"
      ]
     },
     "execution_count": 73,
     "metadata": {},
     "output_type": "execute_result"
    },
    {
     "data": {
      "image/png": "[encoded data removed]",
      "text/plain": [
       "<Figure size 1296x576 with 1 Axes>"
      ]
     },
     "metadata": {},
     "output_type": "display_data"
    }
   ],
   "source": [
    "sns.kdeplot(rf_score['test_precision'],label='rf scores')\n",
    "sns.kdeplot(lm_score['test_precision'],label='lm scores')\n",
    "plt.legend()"
   ]
  },
  {
   "cell_type": "code",
   "execution_count": 61,
   "metadata": {
    "pycharm": {
     "name": "#%%\n"
    }
   },
   "outputs": [],
   "source": [
    "from scipy.stats import ttest_ind"
   ]
  },
  {
   "cell_type": "code",
   "execution_count": 62,
   "metadata": {
    "pycharm": {
     "name": "#%%\n"
    }
   },
   "outputs": [],
   "source": [
    "acc_ttest=ttest_ind(rf_score['test_accuracy'],lm_score['test_accuracy'],alternative='greater',equal_var=False)\n",
    "prec_ttest=ttest_ind(rf_score['test_precision'],lm_score['test_precision'],alternative='greater',equal_var=False)"
   ]
  },
  {
   "cell_type": "code",
   "execution_count": 63,
   "metadata": {
    "pycharm": {
     "name": "#%%\n"
    }
   },
   "outputs": [
    {
     "data": {
      "text/plain": [
       "(-0.5605392169350072, -0.02635754649756441)"
      ]
     },
     "execution_count": 63,
     "metadata": {},
     "output_type": "execute_result"
    }
   ],
   "source": [
    "acc_ttest.statistic,prec_ttest.statistic"
   ]
  },
  {
   "cell_type": "markdown",
   "metadata": {
    "pycharm": {
     "name": "#%% md\n"
    }
   },
   "source": [
    "What are we seeing here?\n",
    "\n",
    "We've established that a hypothesis test is based on the distribution of a test statistic. In the t-test's case, we use (somewhat unsurprisingly) the student's t distribution.\n",
    "\n",
    "But what do we do with this value?\n",
    "\n",
    "This is where we first encounter the concept of the p-value. Now that we have a statitic under some assumed distribution, we can now check whether or not this value is \"extreme\". The underlying logic is that, if we're testing a lower alternative hypothesis, if there's a very small chance (=probability) for getting a smaller value, we can reject the null hypothesis. Note that this doesn't mean we have to accept the alternative. \n",
    "Rejecting the null hypothesis requires some threshold, under which we actually reject using the pval, which is case-dependent but usually asserted as 0.05. This is also called the significance level."
   ]
  },
  {
   "cell_type": "code",
   "execution_count": 419,
   "metadata": {
    "pycharm": {
     "name": "#%%\n"
    }
   },
   "outputs": [
    {
     "data": {
      "text/plain": [
       "(0.1416295440789965, 0.06550054527222345)"
      ]
     },
     "execution_count": 419,
     "metadata": {},
     "output_type": "execute_result"
    }
   ],
   "source": [
    "acc_ttest.pvalue,prec_ttest.pvalue"
   ]
  },
  {
   "cell_type": "markdown",
   "metadata": {
    "pycharm": {
     "name": "#%% md\n"
    }
   },
   "source": [
    "Things we should note: As mentioned, the t-test has some underlying assumptions about the distribution our data comes from (i.e normality), which don't always hold and as such different tests should be used (like the Mann-Whitney test). This should be taken into account when performing such tests.\n"
   ]
  },
  {
   "cell_type": "markdown",
   "metadata": {
    "pycharm": {
     "name": "#%% md\n"
    }
   },
   "source": [
    "Hypothesis testing is an extremely powerful tool if we can define our hyopthesis well, and applications can be found everywhere- for example, in week one we talked about data cleaning strategies. \n",
    "When we wanted to fix problems with our data, we could make use of hypothesis testing to check whether our solutions 'make sense'- i.e come from the same distribution as the supposed 'clean' or 'correct' data. \n",
    "\n",
    "This kind of tests is called 'goodness of fit' tests, and some examples for them include the chi squared tests (which surprisingly utilizes the chi squared distribution for the test statistic) for categorical data and the Kologmorov-Smirnov two sample test for continuous data. Both use the null hypothesis for which the two samples come from the same distribution."
   ]
  },
  {
   "cell_type": "markdown",
   "metadata": {
    "id": "o7VXCGNmXPCc",
    "pycharm": {
     "name": "#%% md\n"
    }
   },
   "source": [
    "## Fitting features to models\n",
    "\n",
    "<br> And now for something completley different.\n",
    "<br> Something we should keep in mind, now that we've gone through the process of feature engineering and model hyperparameter tuning, is the way our features describe and fit the model.\n",
    "<br> To go into more depth- not all features and models interact in the same way.\n",
    "<br> As an example, let's take any tree-based model (say, Random Forest) and a linear model. \n"
   ]
  },
  {
   "cell_type": "code",
   "execution_count": 47,
   "metadata": {
    "id": "yYObl2KiXXRo",
    "pycharm": {
     "name": "#%%\n"
    }
   },
   "outputs": [],
   "source": [
    "a = np.random.random(100)*10\n",
    "e = np.random.random(100)*5 - 2\n",
    "b = a+10\n",
    "c = a*1.1 + np.random.random(100)-0.5\n",
    "c[[5,7,11,29,37,61,83,99]] = -1\n",
    "d = np.random.random(100).round()\n",
    "fake_data = np.hstack([a.reshape((-1,1)),b.reshape((-1,1)),c.reshape((-1,1)),d.reshape((-1,1)),e.reshape((-1,1))])"
   ]
  },
  {
   "cell_type": "code",
   "execution_count": 48,
   "metadata": {
    "colab": {
     "base_uri": "https://localhost:8080/",
     "height": 287
    },
    "id": "JJAmQzRRXOOD",
    "outputId": "2c951e7f-a83b-440f-9d6a-a9c321e7d8d2",
    "pycharm": {
     "name": "#%%\n"
    }
   },
   "outputs": [
    {
     "data": {
      "text/plain": [
       "<AxesSubplot:>"
      ]
     },
     "execution_count": 48,
     "metadata": {},
     "output_type": "execute_result"
    },
    {
     "data": {
      "image/png": "[encoded data removed]",
      "text/plain": [
       "<Figure size 1296x576 with 2 Axes>"
      ]
     },
     "metadata": {},
     "output_type": "display_data"
    }
   ],
   "source": [
    "sns.heatmap(pd.DataFrame(fake_data).corr())"
   ]
  },
  {
   "cell_type": "markdown",
   "metadata": {
    "pycharm": {
     "name": "#%% md\n"
    }
   },
   "source": [
    "## Learning Trees\n",
    "\n",
    "Before we go on, let's take a second to talk about learning decision trees.\n",
    "\n",
    "Basically speaking, decision trees function as good, human like heuristic. Given some data and loss function, a decision tree greedly looks for a split in our given dataset that minimizes the loss function locally (i.e, for the data present before the current split), and each leaf returns the mean value for the traning datapoints that ended up in it.\n",
    "\n",
    "This is more trivial for regression problems- we can simply split by the MSE- but to understand how this method functions for classification problems we'll introduce the concept of entropy.\n",
    "\n",
    "Given a dataset with label set $i\\in S$, the entropy for our dataset is calculated as $E=-\\sum p_i log(p_i)$\n",
    "\n",
    "As an example for intution, let's calculate this for a few datasets- one with equal probabilities for true and false, and some with a skewed probability.\n"
   ]
  },
  {
   "cell_type": "code",
   "execution_count": 80,
   "metadata": {
    "pycharm": {
     "name": "#%%\n"
    }
   },
   "outputs": [
    {
     "name": "stdout",
     "output_type": "stream",
     "text": [
      "1.0 0.8812908992306927 0.011407757737461145\n"
     ]
    }
   ],
   "source": [
    "def entropy(p_true):\n",
    "    to_sum =[p*np.log2(p) for p in [p_true,1-p_true]]\n",
    "    return -sum(to_sum)\n",
    "\n",
    "print(entropy(.5),entropy(.7),entropy(.999))"
   ]
  },
  {
   "cell_type": "markdown",
   "metadata": {
    "pycharm": {
     "name": "#%% md\n"
    }
   },
   "source": [
    "We see that when we get more 'pure' or label-homogenous dataset, our entropy lowers.\n",
    "\n",
    "Therefore, we can set our loss to be the entropy retained in our dataset after each split. This concept is referred to as Information Gain, which is roughly the reduction in entropy given obtained by a split. \n",
    "\n",
    "Decision Trees may also use a metric called the gini index (not to be confused with the wealth inequality measure), which achieve similar results. We'll talk about it next week."
   ]
  },
  {
   "cell_type": "markdown",
   "metadata": {
    "pycharm": {
     "name": "#%% md\n"
    }
   },
   "source": [
    "<img src=\"https://miro.medium.com/max/1838/1*Udn4H4-JgG_Ga8NWaV3WNQ.png\" width=\"500\" height=\"400\">"
   ]
  },
  {
   "cell_type": "markdown",
   "metadata": {
    "pycharm": {
     "name": "#%% md\n"
    }
   },
   "source": [
    "## Gradient Boosting\n"
   ]
  },
  {
   "cell_type": "markdown",
   "metadata": {
    "id": "RGrPOc4LRlNb",
    "pycharm": {
     "name": "#%% md\n"
    }
   },
   "source": [
    "As a final treat, we're going to talk about a specific class of algorithms that's useful to know- the gradient boosted decision trees.\n",
    "<br> First, a reminder- gradient boosted decision trees is a type of boosting algorithm, which is a type of an ensemble learning algorithm.\n",
    "<br> In machine learning, ensemble methods use multiple learning algorithms to obtain better predictive performance than, hopefully, what could be obtained by any of the learning algorithms by themselves.\n",
    "<br>Boosting relies on successive learning of our base algorithm- in IML, you've seen adaboost as an example. VERY generally put, gradient boosted decision trees work by fitting, in any iteration m, a new decision tree to the residual value yielded by the last trained tree. <br>Regulatization is maintained by using a learning rate hyperparameter to adjust the importance of later added decision trees.\n"
   ]
  },
  {
   "cell_type": "markdown",
   "metadata": {
    "id": "BYXyfbSmWCx1",
    "pycharm": {
     "name": "#%% md\n"
    }
   },
   "source": [
    "![link text](http://uc-r.github.io/public/images/analytics/gbm/boosted_stumps.gif)\n"
   ]
  },
  {
   "cell_type": "markdown",
   "metadata": {
    "pycharm": {
     "name": "#%% md\n"
    }
   },
   "source": [
    "<br>This differs from bagging ensembles, which use parallel models rather than consecutive models, like Random Forest."
   ]
  },
  {
   "cell_type": "markdown",
   "metadata": {
    "id": "H6YETADhWVYf",
    "pycharm": {
     "name": "#%% md\n"
    }
   },
   "source": [
    "Gradient boosting has become \"all the rage\" in the last couple of years due to its unreasonably solid performance for tabular data, which is why it's useful to get to know.<br> Common implementations of gradient boosting include XGBoost, CatBoost and LGBM- each with its own niche and useful features. For example, LGBM and catboost both have built-in methods for dealing with categorical features (catboost using a combination of one-hot encoding and target enconding which we've discussed last week). To spare you the minutiae of model specifics, we encourage you to go read about htem- they could prove useful later."
   ]
  }
 ],
 "metadata": {
  "colab": {
   "collapsed_sections": [],
   "name": "67818=3.ipynb",
   "provenance": []
  },
  "kernelspec": {
   "display_name": "Python 3",
   "language": "python",
   "name": "python3"
  },
  "language_info": {
   "codemirror_mode": {
    "name": "ipython",
    "version": 3
   },
   "file_extension": ".py",
   "mimetype": "text/x-python",
   "name": "python",
   "nbconvert_exporter": "python",
   "pygments_lexer": "ipython3",
   "version": "3.8.8"
  }
 },
 "nbformat": 4,
 "nbformat_minor": 4
}