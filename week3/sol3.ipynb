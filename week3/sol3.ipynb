{
 "cells": [
  {
   "cell_type": "markdown",
   "source": [
    "# Ex3 - Raz Bareli"
   ],
   "metadata": {
    "collapsed": false,
    "pycharm": {
     "name": "#%% md\n"
    }
   }
  },
  {
   "cell_type": "markdown",
   "source": [
    "### Q1)"
   ],
   "metadata": {
    "collapsed": false,
    "pycharm": {
     "name": "#%% md\n"
    }
   }
  },
  {
   "cell_type": "code",
   "execution_count": 41,
   "outputs": [],
   "source": [
    "import pandas as pd\n",
    "import seaborn as sns\n",
    "import numpy as np\n",
    "import matplotlib.pyplot as plt\n",
    "from sklearn.model_selection import train_test_split\n",
    "from sklearn.ensemble import RandomForestRegressor\n",
    "from sklearn.linear_model import LogisticRegression\n",
    "from sklearn.linear_model import LinearRegression\n",
    "from sklearn.metrics import mean_squared_error"
   ],
   "metadata": {
    "collapsed": false,
    "pycharm": {
     "name": "#%%\n"
    }
   }
  },
  {
   "cell_type": "code",
   "execution_count": 42,
   "outputs": [],
   "source": [
    "df = pd.read_csv(\"ex3.csv\")"
   ],
   "metadata": {
    "collapsed": false,
    "pycharm": {
     "name": "#%%\n"
    }
   }
  },
  {
   "cell_type": "markdown",
   "source": [
    "We'll take only the 'safe' features we want to work with:"
   ],
   "metadata": {
    "collapsed": false,
    "pycharm": {
     "name": "#%% md\n"
    }
   }
  },
  {
   "cell_type": "code",
   "execution_count": 43,
   "outputs": [],
   "source": [
    "df = df[['state','date','congressional_district','gun_type','participant_gender', 'n_killed']]"
   ],
   "metadata": {
    "collapsed": false,
    "pycharm": {
     "name": "#%%\n"
    }
   }
  },
  {
   "cell_type": "markdown",
   "source": [
    "In order to work with the data, we have to fill null values, and do some data engineering as we did in previous exercises, so that's what we'll do first."
   ],
   "metadata": {
    "collapsed": false,
    "pycharm": {
     "name": "#%% md\n"
    }
   }
  },
  {
   "cell_type": "code",
   "execution_count": 44,
   "outputs": [],
   "source": [
    "# fill null values with mode as in ex1:\n",
    "for column in df:\n",
    "    df[column] = df[column].fillna(df[column].mode()[0])"
   ],
   "metadata": {
    "collapsed": false,
    "pycharm": {
     "name": "#%%\n"
    }
   }
  },
  {
   "cell_type": "code",
   "execution_count": 45,
   "outputs": [],
   "source": [
    "# modify 'participant_gender' as in ex2\n",
    "df.loc[df['participant_gender'].str.contains('Female', regex=True) &                         df['participant_gender'].str.contains('Male', regex=True), ['participant_gender']] = \"Both\"\n",
    "df.loc[df['participant_gender'].str.contains('Female', regex=True), ['participant_gender']] = \"Female\"\n",
    "df.loc[df['participant_gender'].str.contains('Male', regex=True), ['participant_gender']] = \"Male\"\n"
   ],
   "metadata": {
    "collapsed": false,
    "pycharm": {
     "name": "#%%\n"
    }
   }
  },
  {
   "cell_type": "code",
   "execution_count": 46,
   "outputs": [],
   "source": [
    "# modify 'gun_type' as in ex2\n",
    "df['Gun']=df.gun_type.str.extract('([A-Za-z]+|[0-9][mm]+)')\n",
    "def combine_guns(x):\n",
    "    if x in [\"Handgun\",\"9mm\",\"0mm\", \"Win\",\"Spl\", \"Spr\"]:\n",
    "        return 'Handgun'\n",
    "    if x in [\"Other\", \"Unknown\"]:\n",
    "        return 'Unknown'\n",
    "    else:\n",
    "        return 'Rifle'\n",
    "df[\"Gun\"] = df[\"Gun\"].apply(lambda x:combine_guns(x))\n",
    "df['gun_type'] = df['Gun']\n",
    "df = df.drop(columns='Gun')"
   ],
   "metadata": {
    "collapsed": false,
    "pycharm": {
     "name": "#%%\n"
    }
   }
  },
  {
   "cell_type": "code",
   "execution_count": 47,
   "outputs": [],
   "source": [
    "# modify date to year/month as in ex1\n",
    "def delete_day(x):\n",
    "    return x[:-3]\n",
    "df['date'] = df['date'].apply(delete_day)"
   ],
   "metadata": {
    "collapsed": false,
    "pycharm": {
     "name": "#%%\n"
    }
   }
  },
  {
   "cell_type": "markdown",
   "source": [
    "Now we can get to the model training part:"
   ],
   "metadata": {
    "collapsed": false,
    "pycharm": {
     "name": "#%% md\n"
    }
   }
  },
  {
   "cell_type": "code",
   "execution_count": 48,
   "outputs": [],
   "source": [
    "# create dummy variables\n",
    "df = pd.get_dummies(df, columns=['state', 'date', 'gun_type', 'participant_gender'])"
   ],
   "metadata": {
    "collapsed": false,
    "pycharm": {
     "name": "#%%\n"
    }
   }
  },
  {
   "cell_type": "code",
   "execution_count": 49,
   "outputs": [],
   "source": [
    "X = df.drop(columns=['n_killed'])\n",
    "y = df['n_killed']"
   ],
   "metadata": {
    "collapsed": false,
    "pycharm": {
     "name": "#%%\n"
    }
   }
  },
  {
   "cell_type": "code",
   "execution_count": 50,
   "outputs": [],
   "source": [
    "X_train, X_test, y_train, y_test = train_test_split(X, y, test_size=0.33)"
   ],
   "metadata": {
    "collapsed": false,
    "pycharm": {
     "name": "#%%\n"
    }
   }
  },
  {
   "cell_type": "markdown",
   "source": [
    "I'll choose 2 models:\n",
    "1. Linear Regression\n",
    "2. Random Forest\n",
    "Both are Regression model since we are trying to predict an integer between 0 and inf.\n",
    "We could, technically,  have taken a multiclass classifier in that case, but I don't think that it suits here\n",
    "since there are hierarchies between the classes. That is, 10 killed are much more than 2 killed.\n",
    "So that's why I've picked regression models.\n",
    "\n",
    "For the metric I'll choose the MSE metric.\n",
    "The advantage of MSE is that it gives different weights to large errors and small errors.\n",
    "That is, a larger error in our prediction (say, we predicted 100 instead of 1) will increase the MSE more that a smaller\n",
    "prediction error (if we predicted 2 instead of 1)."
   ],
   "metadata": {
    "collapsed": false,
    "pycharm": {
     "name": "#%% md\n"
    }
   }
  },
  {
   "cell_type": "code",
   "execution_count": 56,
   "outputs": [
    {
     "name": "stdout",
     "output_type": "stream",
     "text": [
      "MSE for Linear Regression =  0.23443169471174108\n"
     ]
    }
   ],
   "source": [
    "# linear regression\n",
    "lr = LinearRegression()\n",
    "lr.fit(X_train, y_train)\n",
    "lr_y_pred = lr.predict(X_test)\n",
    "lr_mse =  mean_squared_error(y_test, lr_y_pred)\n",
    "print(\"MSE for Linear Regression = \", lr_mse)"
   ],
   "metadata": {
    "collapsed": false,
    "pycharm": {
     "name": "#%%\n"
    }
   }
  },
  {
   "cell_type": "code",
   "execution_count": 57,
   "outputs": [
    {
     "name": "stdout",
     "output_type": "stream",
     "text": [
      "MSE for Random Forest Regression =  0.2556210107386696\n"
     ]
    }
   ],
   "source": [
    "# random forest\n",
    "rfr = RandomForestRegressor(min_samples_split=20)\n",
    "rfr.fit(X_train, y_train)\n",
    "rfr_y_pred = rfr.predict(X_test)\n",
    "rfr_mse = mean_squared_error(y_test, rfr_y_pred)\n",
    "print(\"MSE for Random Forest Regression = \", rfr_mse)"
   ],
   "metadata": {
    "collapsed": false,
    "pycharm": {
     "name": "#%%\n"
    }
   }
  },
  {
   "cell_type": "code",
   "execution_count": null,
   "outputs": [],
   "source": [],
   "metadata": {
    "collapsed": false,
    "pycharm": {
     "name": "#%%\n"
    }
   }
  }
 ],
 "metadata": {
  "kernelspec": {
   "display_name": "Python 3",
   "language": "python",
   "name": "python3"
  },
  "language_info": {
   "codemirror_mode": {
    "name": "ipython",
    "version": 2
   },
   "file_extension": ".py",
   "mimetype": "text/x-python",
   "name": "python",
   "nbconvert_exporter": "python",
   "pygments_lexer": "ipython2",
   "version": "2.7.6"
  }
 },
 "nbformat": 4,
 "nbformat_minor": 0
}