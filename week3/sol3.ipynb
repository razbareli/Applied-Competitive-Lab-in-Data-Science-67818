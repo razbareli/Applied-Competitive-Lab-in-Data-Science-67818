{
 "cells": [
  {
   "cell_type": "markdown",
   "source": [
    "# Ex3 - Raz Bareli"
   ],
   "metadata": {
    "collapsed": false,
    "pycharm": {
     "name": "#%% md\n"
    }
   }
  },
  {
   "cell_type": "markdown",
   "source": [
    "### Q1)"
   ],
   "metadata": {
    "collapsed": false,
    "pycharm": {
     "name": "#%% md\n"
    }
   }
  },
  {
   "cell_type": "code",
   "execution_count": 195,
   "outputs": [],
   "source": [
    "import pandas as pd\n",
    "import numpy as np\n",
    "import matplotlib.pyplot as plt\n",
    "from scipy.stats import randint\n",
    "from sklearn.model_selection import train_test_split, GridSearchCV, RandomizedSearchCV\n",
    "from sklearn.ensemble import RandomForestRegressor, IsolationForest\n",
    "from sklearn.linear_model import LinearRegression\n",
    "from sklearn.metrics import mean_squared_error, make_scorer\n",
    "import seaborn as sns"
   ],
   "metadata": {
    "collapsed": false,
    "pycharm": {
     "name": "#%%\n"
    }
   }
  },
  {
   "cell_type": "code",
   "execution_count": 196,
   "outputs": [],
   "source": [
    "df = pd.read_csv(\"ex3.csv\")"
   ],
   "metadata": {
    "collapsed": false,
    "pycharm": {
     "name": "#%%\n"
    }
   }
  },
  {
   "cell_type": "markdown",
   "source": [
    "We'll take only the features we want to work with:"
   ],
   "metadata": {
    "collapsed": false,
    "pycharm": {
     "name": "#%% md\n"
    }
   }
  },
  {
   "cell_type": "code",
   "execution_count": 197,
   "outputs": [],
   "source": [
    "df = df[['state','date','congressional_district','gun_type','participant_gender', 'n_killed']]"
   ],
   "metadata": {
    "collapsed": false,
    "pycharm": {
     "name": "#%%\n"
    }
   }
  },
  {
   "cell_type": "markdown",
   "source": [
    "In order to work with the data, we have to fill null values, and do some data engineering as we did in previous exercises, so that's what we'll do first.\n",
    "I saw in the forum that you said it's not the essence of the exercise, but I don't see any other way to handle the data without it. So I'll do some basic\n",
    "operations just so I could train models on the data."
   ],
   "metadata": {
    "collapsed": false,
    "pycharm": {
     "name": "#%% md\n"
    }
   }
  },
  {
   "cell_type": "code",
   "execution_count": 198,
   "outputs": [],
   "source": [
    "# fill null values with mode as in ex1:\n",
    "for column in df:\n",
    "    df[column] = df[column].fillna(df[column].mode()[0])"
   ],
   "metadata": {
    "collapsed": false,
    "pycharm": {
     "name": "#%%\n"
    }
   }
  },
  {
   "cell_type": "code",
   "execution_count": 199,
   "outputs": [],
   "source": [
    "# modify 'participant_gender' as in ex2\n",
    "df.loc[df['participant_gender'].str.contains('Female', regex=True) & df['participant_gender'].str.contains('Male', regex=True), ['participant_gender']] = \"Both\"\n",
    "df.loc[df['participant_gender'].str.contains('Female', regex=True), ['participant_gender']] = \"Female\"\n",
    "df.loc[df['participant_gender'].str.contains('Male', regex=True), ['participant_gender']] = \"Male\"\n"
   ],
   "metadata": {
    "collapsed": false,
    "pycharm": {
     "name": "#%%\n"
    }
   }
  },
  {
   "cell_type": "code",
   "execution_count": 200,
   "outputs": [],
   "source": [
    "# modify 'gun_type' as in ex2\n",
    "df['Gun']=df.gun_type.str.extract('([A-Za-z]+|[0-9][mm]+)')\n",
    "def combine_guns(x):\n",
    "    if x in [\"Handgun\",\"9mm\",\"0mm\", \"Win\",\"Spl\", \"Spr\"]:\n",
    "        return 'Handgun'\n",
    "    if x in [\"Other\", \"Unknown\"]:\n",
    "        return 'Unknown'\n",
    "    else:\n",
    "        return 'Rifle'\n",
    "df[\"Gun\"] = df[\"Gun\"].apply(lambda x:combine_guns(x))\n",
    "df['gun_type'] = df['Gun']\n",
    "df = df.drop(columns='Gun')"
   ],
   "metadata": {
    "collapsed": false,
    "pycharm": {
     "name": "#%%\n"
    }
   }
  },
  {
   "cell_type": "code",
   "execution_count": 201,
   "outputs": [],
   "source": [
    "# modify date to year as in ex1\n",
    "def delete_day_year(x):\n",
    "    return x[:-6]\n",
    "df['date'] = df['date'].apply(delete_day_year)"
   ],
   "metadata": {
    "collapsed": false,
    "pycharm": {
     "name": "#%%\n"
    }
   }
  },
  {
   "cell_type": "markdown",
   "source": [
    "Now we can get to the model training part:"
   ],
   "metadata": {
    "collapsed": false,
    "pycharm": {
     "name": "#%% md\n"
    }
   }
  },
  {
   "cell_type": "code",
   "execution_count": 202,
   "outputs": [],
   "source": [
    "# create dummy variables\n",
    "# ive changed the names so it will be possible to un-dummie the database later on\n",
    "df.rename(columns = {'participant_gender':'gender', 'congressional_district':'district',\n",
    "                              'gun_type':'gun', 'n_killed': 'killed'}, inplace = True)\n",
    "needs_ohe = ['state', 'date', 'gun', 'gender']\n",
    "df = pd.get_dummies(df, columns=needs_ohe)"
   ],
   "metadata": {
    "collapsed": false,
    "pycharm": {
     "name": "#%%\n"
    }
   }
  },
  {
   "cell_type": "code",
   "execution_count": 203,
   "outputs": [],
   "source": [
    "X = df.drop(columns=['killed'])\n",
    "y = df['killed']"
   ],
   "metadata": {
    "collapsed": false,
    "pycharm": {
     "name": "#%%\n"
    }
   }
  },
  {
   "cell_type": "code",
   "execution_count": 204,
   "outputs": [],
   "source": [
    "X_train, X_test, y_train, y_test = train_test_split(X, y, test_size=0.33)"
   ],
   "metadata": {
    "collapsed": false,
    "pycharm": {
     "name": "#%%\n"
    }
   }
  },
  {
   "cell_type": "markdown",
   "source": [
    "I'll choose 2 models:\n",
    "1. Linear Regression\n",
    "2. Random Forest\n",
    "\n",
    "Both are Regression models since we are trying to predict an integer between 0 and inf.\n",
    "We could, technically,  have taken a multiclass classifier in that case, but I don't think that it suits here\n",
    "since there are hierarchies between the classes. That is, 10 killed are much more than 2 killed.\n",
    "So that's why I've picked regression models.\n",
    "\n",
    "For the metric I'll choose the MSE metric.\n",
    "The advantage of MSE is that it gives different weights to large errors and small errors.\n",
    "That is, a larger error in our prediction (say, we predicted 100 instead of 1) will increase the MSE more that a smaller\n",
    "prediction error (if we predicted 2 instead of 1).\n",
    "\n",
    "One disadvantage of this metric is that we can't really tell how many times we were wrong. For instance,\n",
    "If we predict everything wrong, say: 1 instead of 0 and 0 instead of 1, the MSE won't be large, but obviously the prediction is very bad.\n",
    "In this case, the accuracy metric would have an advantage since it would have told us that we are 100% wrong."
   ],
   "metadata": {
    "collapsed": false,
    "pycharm": {
     "name": "#%% md\n"
    }
   }
  },
  {
   "cell_type": "code",
   "execution_count": 205,
   "outputs": [
    {
     "name": "stdout",
     "output_type": "stream",
     "text": [
      "MSE for Linear Regression =  0.2437847201076452\n"
     ]
    }
   ],
   "source": [
    "# linear regression\n",
    "lr = LinearRegression()\n",
    "lr.fit(X_train, y_train)\n",
    "lr_y_pred = lr.predict(X_test)\n",
    "lr_mse =  mean_squared_error(y_test, lr_y_pred)\n",
    "print(\"MSE for Linear Regression = \", lr_mse)"
   ],
   "metadata": {
    "collapsed": false,
    "pycharm": {
     "name": "#%%\n"
    }
   }
  },
  {
   "cell_type": "code",
   "execution_count": 206,
   "outputs": [
    {
     "name": "stdout",
     "output_type": "stream",
     "text": [
      "MSE for Random Forest Regression =  0.2787328404575165\n"
     ]
    }
   ],
   "source": [
    "# random forest\n",
    "rfr = RandomForestRegressor()\n",
    "rfr.fit(X_train, y_train)\n",
    "rfr_y_pred = rfr.predict(X_test)\n",
    "rfr_mse = mean_squared_error(y_test, rfr_y_pred)\n",
    "print(\"MSE for Random Forest Regression = \", rfr_mse)"
   ],
   "metadata": {
    "collapsed": false,
    "pycharm": {
     "name": "#%%\n"
    }
   }
  },
  {
   "cell_type": "markdown",
   "source": [
    "As we can see, the errors are not too large and both models performed pretty much the same, when comparing with the MSE metric.\n",
    "However, I think that since most of the n_killed data is either 0 or 1, most of the predictions are in that area as well,\n",
    "And as I explained before, it's hard to tell just based of one metric if the predictions were good, since they can all be wrong\n",
    "in the worst case, and still get a relatively low MSE."
   ],
   "metadata": {
    "collapsed": false,
    "pycharm": {
     "name": "#%% md\n"
    }
   }
  },
  {
   "cell_type": "markdown",
   "source": [
    "### Q2)"
   ],
   "metadata": {
    "collapsed": false,
    "pycharm": {
     "name": "#%% md\n"
    }
   }
  },
  {
   "cell_type": "markdown",
   "source": [
    "For this question I'll continue with the Random Forest Regressor from Q1, so we can see if we can improve the model by\n",
    "hyperparameter selection.\n",
    "\n",
    "I'll use Grid Search and Random Search.\n",
    "\n",
    "I've chosen 3 hyperparameters and 2 values for each, and cv=3 in cross validation - only because otherwise it would take way too\n",
    "long to run (even with these settings it can take up to 10 minutes on my PC).\n",
    "\n",
    "Ideally, I would have chosen 4 parameters as the exersice suggests, and more values for each parameter, as well as cv=5 cross validation\n",
    "which is the standard from what I understand.\n",
    "\n",
    "I've chosen the MSE score, for the same reasons I've mentioned earlier, and so I'll be able to compare it to the results in Q1."
   ],
   "metadata": {
    "collapsed": false,
    "pycharm": {
     "name": "#%% md\n"
    }
   }
  },
  {
   "cell_type": "code",
   "execution_count": 207,
   "outputs": [
    {
     "name": "stdout",
     "output_type": "stream",
     "text": [
      "Fitting 3 folds for each of 8 candidates, totalling 24 fits\n",
      "[CV 1/3] END max_depth=20, min_samples_split=5, n_estimators=10;, score=-0.256 total time=   0.4s\n",
      "[CV 2/3] END max_depth=20, min_samples_split=5, n_estimators=10;, score=-0.260 total time=   0.4s\n",
      "[CV 3/3] END max_depth=20, min_samples_split=5, n_estimators=10;, score=-0.244 total time=   0.4s\n",
      "[CV 1/3] END max_depth=20, min_samples_split=5, n_estimators=100;, score=-0.250 total time=   4.2s\n",
      "[CV 2/3] END max_depth=20, min_samples_split=5, n_estimators=100;, score=-0.257 total time=   4.2s\n",
      "[CV 3/3] END max_depth=20, min_samples_split=5, n_estimators=100;, score=-0.239 total time=   4.1s\n",
      "[CV 1/3] END max_depth=20, min_samples_split=20, n_estimators=10;, score=-0.247 total time=   0.3s\n",
      "[CV 2/3] END max_depth=20, min_samples_split=20, n_estimators=10;, score=-0.252 total time=   0.4s\n",
      "[CV 3/3] END max_depth=20, min_samples_split=20, n_estimators=10;, score=-0.235 total time=   0.4s\n",
      "[CV 1/3] END max_depth=20, min_samples_split=20, n_estimators=100;, score=-0.244 total time=   5.5s\n",
      "[CV 2/3] END max_depth=20, min_samples_split=20, n_estimators=100;, score=-0.248 total time=   4.4s\n",
      "[CV 3/3] END max_depth=20, min_samples_split=20, n_estimators=100;, score=-0.233 total time=   4.8s\n",
      "[CV 1/3] END max_depth=50, min_samples_split=5, n_estimators=10;, score=-0.275 total time=   0.5s\n",
      "[CV 2/3] END max_depth=50, min_samples_split=5, n_estimators=10;, score=-0.281 total time=   0.6s\n",
      "[CV 3/3] END max_depth=50, min_samples_split=5, n_estimators=10;, score=-0.259 total time=   0.6s\n",
      "[CV 1/3] END max_depth=50, min_samples_split=5, n_estimators=100;, score=-0.267 total time=   6.4s\n",
      "[CV 2/3] END max_depth=50, min_samples_split=5, n_estimators=100;, score=-0.271 total time=   6.9s\n",
      "[CV 3/3] END max_depth=50, min_samples_split=5, n_estimators=100;, score=-0.254 total time=   6.2s\n",
      "[CV 1/3] END max_depth=50, min_samples_split=20, n_estimators=10;, score=-0.255 total time=   0.5s\n",
      "[CV 2/3] END max_depth=50, min_samples_split=20, n_estimators=10;, score=-0.258 total time=   0.5s\n",
      "[CV 3/3] END max_depth=50, min_samples_split=20, n_estimators=10;, score=-0.243 total time=   0.8s\n",
      "[CV 1/3] END max_depth=50, min_samples_split=20, n_estimators=100;, score=-0.251 total time=   5.7s\n",
      "[CV 2/3] END max_depth=50, min_samples_split=20, n_estimators=100;, score=-0.252 total time=   5.2s\n",
      "[CV 3/3] END max_depth=50, min_samples_split=20, n_estimators=100;, score=-0.238 total time=   5.1s\n",
      "Best parameters:  {'max_depth': 20, 'min_samples_split': 20, 'n_estimators': 100}\n",
      "Best Score:  0.2417509906019909\n"
     ]
    }
   ],
   "source": [
    "# Grid Search\n",
    "gs_rfr = RandomForestRegressor()\n",
    "params_grid = {\n",
    "    'n_estimators': [10, 100],\n",
    "    'max_depth': [20, 50],\n",
    "    'min_samples_split': [5, 20],\n",
    "}\n",
    "n_combinations = np.array([len(l) for key, l in params_grid.items()]).prod() # to use in random grid search\n",
    "gs = GridSearchCV(estimator=gs_rfr, param_grid=params_grid, verbose=3, cv=3, scoring=make_scorer(mean_squared_error, greater_is_better = False))\n",
    "gs.fit(X_train, y_train)\n",
    "\n",
    "print('Best parameters: ', gs.best_params_)\n",
    "print('Best Score: ', abs(gs.best_score_))"
   ],
   "metadata": {
    "collapsed": false,
    "pycharm": {
     "name": "#%%\n"
    }
   }
  },
  {
   "cell_type": "code",
   "execution_count": 208,
   "outputs": [
    {
     "name": "stdout",
     "output_type": "stream",
     "text": [
      "Fitting 3 folds for each of 8 candidates, totalling 24 fits\n",
      "[CV 1/3] END max_depth=32, min_samples_split=15, n_estimators=80;, score=-0.250 total time=   4.0s\n",
      "[CV 2/3] END max_depth=32, min_samples_split=15, n_estimators=80;, score=-0.253 total time=   3.8s\n",
      "[CV 3/3] END max_depth=32, min_samples_split=15, n_estimators=80;, score=-0.238 total time=   4.0s\n",
      "[CV 1/3] END max_depth=36, min_samples_split=11, n_estimators=27;, score=-0.255 total time=   1.3s\n",
      "[CV 2/3] END max_depth=36, min_samples_split=11, n_estimators=27;, score=-0.259 total time=   1.2s\n",
      "[CV 3/3] END max_depth=36, min_samples_split=11, n_estimators=27;, score=-0.242 total time=   1.6s\n",
      "[CV 1/3] END max_depth=49, min_samples_split=18, n_estimators=70;, score=-0.252 total time=   3.3s\n",
      "[CV 2/3] END max_depth=49, min_samples_split=18, n_estimators=70;, score=-0.254 total time=   3.5s\n",
      "[CV 3/3] END max_depth=49, min_samples_split=18, n_estimators=70;, score=-0.240 total time=   3.3s\n",
      "[CV 1/3] END max_depth=24, min_samples_split=17, n_estimators=28;, score=-0.249 total time=   1.1s\n",
      "[CV 2/3] END max_depth=24, min_samples_split=17, n_estimators=28;, score=-0.250 total time=   1.1s\n",
      "[CV 3/3] END max_depth=24, min_samples_split=17, n_estimators=28;, score=-0.236 total time=   1.2s\n",
      "[CV 1/3] END max_depth=31, min_samples_split=14, n_estimators=63;, score=-0.249 total time=   3.3s\n",
      "[CV 2/3] END max_depth=31, min_samples_split=14, n_estimators=63;, score=-0.253 total time=   3.0s\n",
      "[CV 3/3] END max_depth=31, min_samples_split=14, n_estimators=63;, score=-0.239 total time=   3.4s\n",
      "[CV 1/3] END max_depth=45, min_samples_split=17, n_estimators=35;, score=-0.252 total time=   1.9s\n",
      "[CV 2/3] END max_depth=45, min_samples_split=17, n_estimators=35;, score=-0.255 total time=   1.9s\n",
      "[CV 3/3] END max_depth=45, min_samples_split=17, n_estimators=35;, score=-0.242 total time=   1.8s\n",
      "[CV 1/3] END max_depth=30, min_samples_split=19, n_estimators=39;, score=-0.248 total time=   1.9s\n",
      "[CV 2/3] END max_depth=30, min_samples_split=19, n_estimators=39;, score=-0.252 total time=   1.9s\n",
      "[CV 3/3] END max_depth=30, min_samples_split=19, n_estimators=39;, score=-0.236 total time=   1.8s\n",
      "[CV 1/3] END max_depth=41, min_samples_split=8, n_estimators=83;, score=-0.259 total time=   5.0s\n",
      "[CV 2/3] END max_depth=41, min_samples_split=8, n_estimators=83;, score=-0.261 total time=   4.5s\n",
      "[CV 3/3] END max_depth=41, min_samples_split=8, n_estimators=83;, score=-0.247 total time=   5.7s\n",
      "Best parameters:  {'max_depth': 24, 'min_samples_split': 17, 'n_estimators': 28}\n",
      "Best Score:  0.24486611729642582\n"
     ]
    }
   ],
   "source": [
    "# Random Grid Search:\n",
    "rgs_rfr = RandomForestRegressor()\n",
    "\n",
    "ranges = {\n",
    "    'n_estimators': randint(10, 100),\n",
    "    'max_depth': randint(20, 50),\n",
    "    'min_samples_split': randint(5, 20)\n",
    "}\n",
    "rgs = RandomizedSearchCV(estimator=rgs_rfr, param_distributions=ranges, verbose=3, cv=3,  scoring=make_scorer(mean_squared_error, greater_is_better = False), n_iter=n_combinations)\n",
    "rgs.fit(X_train, y_train)\n",
    "\n",
    "print('Best parameters: ', rgs.best_params_)\n",
    "print('Best Score: ', abs(rgs.best_score_))"
   ],
   "metadata": {
    "collapsed": false,
    "pycharm": {
     "name": "#%%\n"
    }
   }
  },
  {
   "cell_type": "markdown",
   "source": [
    "Well, we can see that the grid search found hyperparameters that gave a bit better results on the train set, than the random grid.\n",
    "As we discussed in class - since this is random, the opposite could happen if we'll run it again,\n",
    "since we are not limited to the values we gave the model in the first place,\n",
    "and of course we need a bit of luck as well since choosing the parameter is randomly made.\n",
    "\n",
    "Now just for fun lets compare the new fitted models to the one from question 1:\n"
   ],
   "metadata": {
    "collapsed": false,
    "pycharm": {
     "name": "#%% md\n"
    }
   }
  },
  {
   "cell_type": "code",
   "execution_count": 209,
   "outputs": [
    {
     "name": "stdout",
     "output_type": "stream",
     "text": [
      "question 1 forest error:  0.2787328404575165\n",
      "grid search forest error:  0.2452800900306995\n",
      "random grid search forest error:  0.24858002768170398\n"
     ]
    }
   ],
   "source": [
    "print(\"question 1 forest error: \", rfr_mse)\n",
    "print(\"grid search forest error: \", mean_squared_error(y_test, gs.predict(X_test)))\n",
    "print(\"random grid search forest error: \", mean_squared_error(y_test, rgs.predict(X_test)))"
   ],
   "metadata": {
    "collapsed": false,
    "pycharm": {
     "name": "#%%\n"
    }
   }
  },
  {
   "cell_type": "markdown",
   "source": [
    "And we can see that the hyperparamater optimization led to a better results!"
   ],
   "metadata": {
    "collapsed": false,
    "pycharm": {
     "name": "#%% md\n"
    }
   }
  },
  {
   "cell_type": "markdown",
   "source": [
    "### Q3.a)"
   ],
   "metadata": {
    "collapsed": false,
    "pycharm": {
     "name": "#%% md\n"
    }
   }
  },
  {
   "cell_type": "markdown",
   "source": [
    "We'll use the Random Forest Regressor from previous question, with the hyperparameters we've found to perform best.\n",
    "This time well train it on all the original dataset (without cross validation).\n",
    "Please Note that since this is a random forest, without setting the seed at the beginning of the program, results can change\n",
    "between runs. So, when running the program on another PC, some statements that I've made regarding better or worse score, can change."
   ],
   "metadata": {
    "collapsed": false,
    "pycharm": {
     "name": "#%% md\n"
    }
   }
  },
  {
   "cell_type": "code",
   "execution_count": 210,
   "outputs": [
    {
     "data": {
      "text/plain": "RandomForestRegressor(max_depth=20, min_samples_split=20)"
     },
     "execution_count": 210,
     "metadata": {},
     "output_type": "execute_result"
    }
   ],
   "source": [
    "rfr_q3 = gs.best_estimator_\n",
    "rfr_q3.fit(X_train, y_train)"
   ],
   "metadata": {
    "collapsed": false,
    "pycharm": {
     "name": "#%%\n"
    }
   }
  },
  {
   "cell_type": "code",
   "execution_count": 211,
   "outputs": [
    {
     "name": "stdout",
     "output_type": "stream",
     "text": [
      "MSE =  0.24499446948546943\n"
     ]
    }
   ],
   "source": [
    "y_pred = rfr_q3.predict(X_test)\n",
    "print(\"MSE = \", mean_squared_error(y_test, y_pred))"
   ],
   "metadata": {
    "collapsed": false,
    "pycharm": {
     "name": "#%%\n"
    }
   }
  },
  {
   "cell_type": "markdown",
   "source": [
    "Now we'll show the importance, as we learned in class:"
   ],
   "metadata": {
    "collapsed": false,
    "pycharm": {
     "name": "#%% md\n"
    }
   }
  },
  {
   "cell_type": "code",
   "execution_count": 212,
   "outputs": [],
   "source": [
    "feature_importances = sorted(list(zip(X_train.columns, rfr_q3.feature_importances_)), key=lambda x: -x[1])"
   ],
   "metadata": {
    "collapsed": false,
    "pycharm": {
     "name": "#%%\n"
    }
   }
  },
  {
   "cell_type": "markdown",
   "source": [
    "Now, in order to show the data in a bar plot, we need to combine all the \"new features\" from the one-hot-encoding process\n",
    "to their original features. That's what I'll do next:"
   ],
   "metadata": {
    "collapsed": false,
    "pycharm": {
     "name": "#%% md\n"
    }
   }
  },
  {
   "cell_type": "code",
   "execution_count": 213,
   "outputs": [],
   "source": [
    "def most_important(data):\n",
    "    feature_importances_dict = {'state' : 0, 'gender':0, 'district':0, 'date':0, 'gun':0}\n",
    "    for i in data:\n",
    "        curr_feature = None\n",
    "        if i[0].startswith('state'):\n",
    "            curr_feature = 'state'\n",
    "        elif i[0].startswith('gender'):\n",
    "            curr_feature = 'gender'\n",
    "        elif i[0].startswith('district'):\n",
    "            curr_feature = 'district'\n",
    "        elif i[0].startswith('date'):\n",
    "            curr_feature = 'date'\n",
    "        elif i[0].startswith('gun'):\n",
    "            curr_feature = 'gun'\n",
    "        feature_importances_dict[curr_feature] += i[1]\n",
    "    return feature_importances_dict"
   ],
   "metadata": {
    "collapsed": false,
    "pycharm": {
     "name": "#%%\n"
    }
   }
  },
  {
   "cell_type": "code",
   "execution_count": 214,
   "outputs": [
    {
     "data": {
      "text/plain": "'state'"
     },
     "execution_count": 214,
     "metadata": {},
     "output_type": "execute_result"
    }
   ],
   "source": [
    "feature_importances_dict = most_important(feature_importances)\n",
    "features = list(feature_importances_dict.keys())\n",
    "importances = list(feature_importances_dict.values())\n",
    "most_important_feature = features[importances.index(max(importances))]\n",
    "least_important_feature = features[importances.index(min(importances))]\n",
    "most_important_feature"
   ],
   "metadata": {
    "collapsed": false,
    "pycharm": {
     "name": "#%%\n"
    }
   }
  },
  {
   "cell_type": "code",
   "execution_count": 215,
   "outputs": [
    {
     "data": {
      "text/plain": "<AxesSubplot:>"
     },
     "execution_count": 215,
     "metadata": {},
     "output_type": "execute_result"
    },
    {
     "data": {
      "text/plain": "<Figure size 432x288 with 1 Axes>",
      "image/png": "[encoded data removed]"
     },
     "metadata": {
      "needs_background": "light"
     },
     "output_type": "display_data"
    }
   ],
   "source": [
    "sns.barplot(x=features, y=importances)"
   ],
   "metadata": {
    "collapsed": false,
    "pycharm": {
     "name": "#%%\n"
    }
   }
  },
  {
   "cell_type": "markdown",
   "source": [
    "### 3.b)"
   ],
   "metadata": {
    "collapsed": false,
    "pycharm": {
     "name": "#%% md\n"
    }
   }
  },
  {
   "cell_type": "markdown",
   "source": [
    "Model without the most important feature:\n",
    "First we'll have to reverse the one hot encoding process, to eliminate the date feature (function taken from stackoverflow):"
   ],
   "metadata": {
    "collapsed": false,
    "pycharm": {
     "name": "#%% md\n"
    }
   }
  },
  {
   "cell_type": "code",
   "execution_count": 216,
   "outputs": [],
   "source": [
    "def undummify(df, prefix_sep=\"_\"):\n",
    "    cols2collapse = {\n",
    "        item.split(prefix_sep)[0]: (prefix_sep in item) for item in df.columns\n",
    "    }\n",
    "    series_list = []\n",
    "    for col, needs_to_collapse in cols2collapse.items():\n",
    "        if needs_to_collapse:\n",
    "            undummified = (\n",
    "                df.filter(like=col)\n",
    "                .idxmax(axis=1)\n",
    "                .apply(lambda x: x.split(prefix_sep, maxsplit=1)[1])\n",
    "                .rename(col)\n",
    "            )\n",
    "            series_list.append(undummified)\n",
    "        else:\n",
    "            series_list.append(df[col])\n",
    "    undummified_df = pd.concat(series_list, axis=1)\n",
    "    return undummified_df"
   ],
   "metadata": {
    "collapsed": false,
    "pycharm": {
     "name": "#%%\n"
    }
   }
  },
  {
   "cell_type": "code",
   "execution_count": 217,
   "outputs": [],
   "source": [
    "# reverse and drop state\n",
    "df_1 = undummify(df)\n",
    "df_1 = df_1.drop(columns=most_important_feature)"
   ],
   "metadata": {
    "collapsed": false,
    "pycharm": {
     "name": "#%%\n"
    }
   }
  },
  {
   "cell_type": "code",
   "execution_count": 218,
   "outputs": [],
   "source": [
    "# now we'll do one hot encoding again:\n",
    "needs_ohe_1 = needs_ohe.copy()\n",
    "if most_important_feature in needs_ohe:\n",
    "    needs_ohe_1.remove(most_important_feature)\n",
    "df_1 = pd.get_dummies(df_1, columns=needs_ohe_1)"
   ],
   "metadata": {
    "collapsed": false,
    "pycharm": {
     "name": "#%%\n"
    }
   }
  },
  {
   "cell_type": "code",
   "execution_count": 219,
   "outputs": [],
   "source": [
    "X =  df_1.drop(columns='killed')\n",
    "y = df_1['killed']\n",
    "X_train, X_test, y_train, y_test = train_test_split(X, y, test_size=0.33)"
   ],
   "metadata": {
    "collapsed": false,
    "pycharm": {
     "name": "#%%\n"
    }
   }
  },
  {
   "cell_type": "code",
   "execution_count": 220,
   "outputs": [],
   "source": [
    "rfr_1 = gs.best_estimator_\n",
    "rfr_1.fit(X_train, y_train)\n",
    "y_pred = rfr_1.predict(X_test)"
   ],
   "metadata": {
    "collapsed": false,
    "pycharm": {
     "name": "#%%\n"
    }
   }
  },
  {
   "cell_type": "code",
   "execution_count": 221,
   "outputs": [
    {
     "name": "stdout",
     "output_type": "stream",
     "text": [
      "MSE for model without most important feature =  0.25508228245537334\n"
     ]
    }
   ],
   "source": [
    "print(\"MSE for model without most important feature = \", mean_squared_error(y_test, y_pred))"
   ],
   "metadata": {
    "collapsed": false,
    "pycharm": {
     "name": "#%%\n"
    }
   }
  },
  {
   "cell_type": "markdown",
   "source": [
    "And we can see the MSE is a little bit higher (worse), as expected.\n",
    "As for the new important features:\n"
   ],
   "metadata": {
    "collapsed": false,
    "pycharm": {
     "name": "#%% md\n"
    }
   }
  },
  {
   "cell_type": "code",
   "execution_count": 222,
   "outputs": [
    {
     "data": {
      "text/plain": "<AxesSubplot:>"
     },
     "execution_count": 222,
     "metadata": {},
     "output_type": "execute_result"
    },
    {
     "data": {
      "text/plain": "<Figure size 432x288 with 1 Axes>",
      "image/png": "[encoded data removed]"
     },
     "metadata": {
      "needs_background": "light"
     },
     "output_type": "display_data"
    }
   ],
   "source": [
    "feature_importances_1 = sorted(list(zip(X_train.columns, rfr_1.feature_importances_)), key=lambda x: -x[1])\n",
    "feature_importances_dict_1 = most_important(feature_importances_1)\n",
    "features_1 = list(feature_importances_dict_1.keys())\n",
    "importances_1 = list(feature_importances_dict_1.values())\n",
    "sns.barplot(x=features_1, y=importances_1)"
   ],
   "metadata": {
    "collapsed": false,
    "pycharm": {
     "name": "#%%\n"
    }
   }
  },
  {
   "cell_type": "markdown",
   "source": [
    "Now we'll train a model with the 4 most important features, that is:\n",
    "state, district, date, gender."
   ],
   "metadata": {
    "collapsed": false,
    "pycharm": {
     "name": "#%% md\n"
    }
   }
  },
  {
   "cell_type": "code",
   "execution_count": 223,
   "outputs": [],
   "source": [
    "# reverse and drop state\n",
    "df_2 = undummify(df)\n",
    "df_2 = df_2.drop(columns=least_important_feature)"
   ],
   "metadata": {
    "collapsed": false,
    "pycharm": {
     "name": "#%%\n"
    }
   }
  },
  {
   "cell_type": "code",
   "execution_count": 224,
   "outputs": [],
   "source": [
    "# now we'll do one hot encoding again:\n",
    "needs_ohe_2 = needs_ohe.copy()\n",
    "if least_important_feature in needs_ohe:\n",
    "    needs_ohe_2.remove(least_important_feature)\n",
    "df_2 = pd.get_dummies(df_2, columns=needs_ohe_2)"
   ],
   "metadata": {
    "collapsed": false,
    "pycharm": {
     "name": "#%%\n"
    }
   }
  },
  {
   "cell_type": "code",
   "execution_count": 225,
   "outputs": [],
   "source": [
    "X =  df_2.drop(columns='killed')\n",
    "y = df_2['killed']\n",
    "X_train, X_test, y_train, y_test = train_test_split(X, y, test_size=0.33)"
   ],
   "metadata": {
    "collapsed": false,
    "pycharm": {
     "name": "#%%\n"
    }
   }
  },
  {
   "cell_type": "code",
   "execution_count": 226,
   "outputs": [],
   "source": [
    "rfr_2 = gs.best_estimator_\n",
    "rfr_2.fit(X_train, y_train)\n",
    "y_pred = rfr_2.predict(X_test)"
   ],
   "metadata": {
    "collapsed": false,
    "pycharm": {
     "name": "#%%\n"
    }
   }
  },
  {
   "cell_type": "code",
   "execution_count": 227,
   "outputs": [
    {
     "name": "stdout",
     "output_type": "stream",
     "text": [
      "MSE for model with top 4 most important features =  0.24211956619811556\n"
     ]
    }
   ],
   "source": [
    "print(\"MSE for model with top 4 most important features = \", mean_squared_error(y_test, y_pred))"
   ],
   "metadata": {
    "collapsed": false,
    "pycharm": {
     "name": "#%%\n"
    }
   }
  },
  {
   "cell_type": "markdown",
   "source": [
    "The MSE improved a bit, as expected, since now we have the 4 top most important features.\n",
    "As for the new most important features:"
   ],
   "metadata": {
    "collapsed": false,
    "pycharm": {
     "name": "#%% md\n"
    }
   }
  },
  {
   "cell_type": "code",
   "execution_count": 228,
   "outputs": [
    {
     "data": {
      "text/plain": "<AxesSubplot:>"
     },
     "execution_count": 228,
     "metadata": {},
     "output_type": "execute_result"
    },
    {
     "data": {
      "text/plain": "<Figure size 432x288 with 1 Axes>",
      "image/png": "[encoded data removed]"
     },
     "metadata": {
      "needs_background": "light"
     },
     "output_type": "display_data"
    }
   ],
   "source": [
    "feature_importances_2 = sorted(list(zip(X_train.columns, rfr_2.feature_importances_)), key=lambda x: -x[1])\n",
    "feature_importances_dict_2 = most_important(feature_importances_2)\n",
    "features_2 = list(feature_importances_dict_2.keys())\n",
    "importances_2 = list(feature_importances_dict_2.values())\n",
    "sns.barplot(x=features_2, y=importances_2)"
   ],
   "metadata": {
    "collapsed": false,
    "pycharm": {
     "name": "#%%\n"
    }
   }
  },
  {
   "cell_type": "markdown",
   "source": [
    "### Question 4\n",
    "First, a quick look of the raw data.\n",
    "It doesn't seem like there are non relevant points in the column that we are trying to predict. The percentage of\n",
    "samples that are outside the range [0 : 4] is negligible."
   ],
   "metadata": {
    "collapsed": false,
    "pycharm": {
     "name": "#%% md\n"
    }
   }
  },
  {
   "cell_type": "code",
   "execution_count": 231,
   "outputs": [
    {
     "data": {
      "text/plain": "0    23241\n1     6131\n2      524\n3       74\n4       22\n5        5\n6        1\n9        1\n8        1\nName: killed, dtype: int64"
     },
     "execution_count": 231,
     "metadata": {},
     "output_type": "execute_result"
    }
   ],
   "source": [
    "y.value_counts()"
   ],
   "metadata": {
    "collapsed": false,
    "pycharm": {
     "name": "#%%\n"
    }
   }
  },
  {
   "cell_type": "markdown",
   "source": [
    "Also, the other data columns are not numerical, but strings, and they have been pre-processed by me to fit the data.\n",
    "For example, I know that the only possibilities for gender are 'Male', 'Female', and 'Both'.\n",
    "So I would not expect to have big anomalies in the data at this point. For raw data it could have been a different case.\n",
    "\n",
    "I try to find some using the isolation forest we've seen in class:"
   ],
   "metadata": {
    "collapsed": false,
    "pycharm": {
     "name": "#%% md\n"
    }
   }
  },
  {
   "cell_type": "code",
   "execution_count": 232,
   "outputs": [
    {
     "data": {
      "text/plain": "1    20100\ndtype: int64"
     },
     "execution_count": 232,
     "metadata": {},
     "output_type": "execute_result"
    }
   ],
   "source": [
    "isf = IsolationForest()\n",
    "isf.fit(X_train)\n",
    "pd.Series(isf.predict(X_train)).value_counts()"
   ],
   "metadata": {
    "collapsed": false,
    "pycharm": {
     "name": "#%%\n"
    }
   }
  },
  {
   "cell_type": "markdown",
   "source": [
    "And as expected, there no apparent anomalies in the data.\n",
    "In order to answer this question more properly, I'll load a new dataset with numeric values, and\n",
    "without too much pre-processing:"
   ],
   "metadata": {
    "collapsed": false,
    "pycharm": {
     "name": "#%% md\n"
    }
   }
  },
  {
   "cell_type": "code",
   "execution_count": 242,
   "outputs": [],
   "source": [
    "df = pd.read_csv(\"ex3.csv\")"
   ],
   "metadata": {
    "collapsed": false,
    "pycharm": {
     "name": "#%%\n"
    }
   }
  },
  {
   "cell_type": "code",
   "execution_count": 243,
   "outputs": [
    {
     "data": {
      "text/plain": "   date  longitude  latitude  n_killed  n_injured  congressional_district  \\\n0  2017  -123.8700   40.7450         0          0                     2.0   \n1  2015   -84.0148   33.9997         0          0                     7.0   \n2  2017   -77.8066   35.9934         0          0                     2.0   \n3  2016  -102.3410   31.8876         0          0                    11.0   \n4  2015   -73.4185   40.6923         1          2                     2.0   \n\n   n_guns_involved  \n0              1.0  \n1              1.0  \n2              1.0  \n3              5.0  \n4              1.0  ",
      "text/html": "<div>\n<style scoped>\n    .dataframe tbody tr th:only-of-type {\n        vertical-align: middle;\n    }\n\n    .dataframe tbody tr th {\n        vertical-align: top;\n    }\n\n    .dataframe thead th {\n        text-align: right;\n    }\n</style>\n<table border=\"1\" class=\"dataframe\">\n  <thead>\n    <tr style=\"text-align: right;\">\n      <th></th>\n      <th>date</th>\n      <th>longitude</th>\n      <th>latitude</th>\n      <th>n_killed</th>\n      <th>n_injured</th>\n      <th>congressional_district</th>\n      <th>n_guns_involved</th>\n    </tr>\n  </thead>\n  <tbody>\n    <tr>\n      <th>0</th>\n      <td>2017</td>\n      <td>-123.8700</td>\n      <td>40.7450</td>\n      <td>0</td>\n      <td>0</td>\n      <td>2.0</td>\n      <td>1.0</td>\n    </tr>\n    <tr>\n      <th>1</th>\n      <td>2015</td>\n      <td>-84.0148</td>\n      <td>33.9997</td>\n      <td>0</td>\n      <td>0</td>\n      <td>7.0</td>\n      <td>1.0</td>\n    </tr>\n    <tr>\n      <th>2</th>\n      <td>2017</td>\n      <td>-77.8066</td>\n      <td>35.9934</td>\n      <td>0</td>\n      <td>0</td>\n      <td>2.0</td>\n      <td>1.0</td>\n    </tr>\n    <tr>\n      <th>3</th>\n      <td>2016</td>\n      <td>-102.3410</td>\n      <td>31.8876</td>\n      <td>0</td>\n      <td>0</td>\n      <td>11.0</td>\n      <td>5.0</td>\n    </tr>\n    <tr>\n      <th>4</th>\n      <td>2015</td>\n      <td>-73.4185</td>\n      <td>40.6923</td>\n      <td>1</td>\n      <td>2</td>\n      <td>2.0</td>\n      <td>1.0</td>\n    </tr>\n  </tbody>\n</table>\n</div>"
     },
     "execution_count": 243,
     "metadata": {},
     "output_type": "execute_result"
    }
   ],
   "source": [
    "df = df[['date','longitude','latitude', 'n_killed', 'n_injured', 'congressional_district','n_guns_involved']]\n",
    "for column in df:\n",
    "    df[column] = df[column].fillna(df[column].mode()[0])\n",
    "def delete_day_year(x):\n",
    "    return int(x[:-6])\n",
    "df['date'] = df['date'].apply(delete_day_year)\n",
    "df.head()"
   ],
   "metadata": {
    "collapsed": false,
    "pycharm": {
     "name": "#%%\n"
    }
   }
  },
  {
   "cell_type": "code",
   "execution_count": 244,
   "outputs": [],
   "source": [
    "X = df.drop(columns=['n_killed'])\n",
    "y = df['n_killed']\n",
    "X_train, X_test, y_train, y_test = train_test_split(X, y, test_size=0.33)"
   ],
   "metadata": {
    "collapsed": false,
    "pycharm": {
     "name": "#%%\n"
    }
   }
  },
  {
   "cell_type": "code",
   "execution_count": 245,
   "outputs": [
    {
     "data": {
      "text/plain": " 1    17268\n-1     2832\ndtype: int64"
     },
     "execution_count": 245,
     "metadata": {},
     "output_type": "execute_result"
    }
   ],
   "source": [
    "isf = IsolationForest()\n",
    "isf.fit(X_train)\n",
    "pd.Series(isf.predict(X_train)).value_counts()"
   ],
   "metadata": {
    "collapsed": false,
    "pycharm": {
     "name": "#%%\n"
    }
   }
  },
  {
   "cell_type": "markdown",
   "source": [
    "And that's a different result from the previous one.\n",
    "That does make sense, since we know that we have some inaccurate numbers in the latitude and longitude columns, for example.\n",
    "\n",
    "Let's try a different technique we saw in class:\n"
   ],
   "metadata": {
    "collapsed": false
   }
  },
  {
   "cell_type": "code",
   "execution_count": 246,
   "outputs": [],
   "source": [
    "from statsmodels.genmod.generalized_linear_model import GLM\n",
    "model = GLM(y,X).fit()"
   ],
   "metadata": {
    "collapsed": false,
    "pycharm": {
     "name": "#%%\n"
    }
   }
  },
  {
   "cell_type": "code",
   "execution_count": 247,
   "outputs": [
    {
     "data": {
      "text/plain": "(array([2.9979e+04, 1.2000e+01, 2.0000e+00, 3.0000e+00, 3.0000e+00,\n        0.0000e+00, 0.0000e+00, 0.0000e+00, 0.0000e+00, 1.0000e+00]),\n array([1.04862939e-05, 1.42856026e-01, 2.85701566e-01, 4.28547106e-01,\n        5.71392646e-01, 7.14238186e-01, 8.57083725e-01, 9.99929265e-01,\n        1.14277481e+00, 1.28562034e+00, 1.42846588e+00]),\n <BarContainer object of 10 artists>)"
     },
     "execution_count": 247,
     "metadata": {},
     "output_type": "execute_result"
    },
    {
     "data": {
      "text/plain": "<Figure size 432x288 with 1 Axes>",
      "image/png": "[encoded data removed]"
     },
     "metadata": {
      "needs_background": "light"
     },
     "output_type": "display_data"
    }
   ],
   "source": [
    "plt.hist(model.get_influence(observed=False).summary_frame()['dffits_internal'].abs(),alpha=.5)"
   ],
   "metadata": {
    "collapsed": false,
    "pycharm": {
     "name": "#%%\n"
    }
   }
  },
  {
   "cell_type": "markdown",
   "source": [
    "This result shows that there are no anomalies in the data, or in other words - no influence points.\n",
    "That's of course, not true - and I think that the reason we can't see it in the GLM model\n",
    "is due to the fact that it's a very bad model for this data.\n",
    "And since everything is a mess - there are no points that appear unusual in the data.\n",
    "So, if we had data that can be a good fit overall for a linear model, then it would have been easier to spot\n",
    "unusual points within it."
   ],
   "metadata": {
    "collapsed": false,
    "pycharm": {
     "name": "#%% md\n"
    }
   }
  }
 ],
 "metadata": {
  "kernelspec": {
   "display_name": "Python 3",
   "language": "python",
   "name": "python3"
  },
  "language_info": {
   "codemirror_mode": {
    "name": "ipython",
    "version": 2
   },
   "file_extension": ".py",
   "mimetype": "text/x-python",
   "name": "python",
   "nbconvert_exporter": "python",
   "pygments_lexer": "ipython2",
   "version": "2.7.6"
  }
 },
 "nbformat": 4,
 "nbformat_minor": 0
}